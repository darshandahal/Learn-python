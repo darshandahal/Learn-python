{
 "cells": [
  {
   "cell_type": "markdown",
   "id": "e388b51b",
   "metadata": {},
   "source": [
    "# lamda function \n",
    "```python\n",
    "# x is an argument to lambda function\n",
    "lambda x: Expression\n",
    "\n",
    "```\n",
    "we generally use lambda function with\n",
    "* map()\n",
    "* filter()"
   ]
  },
  {
   "cell_type": "code",
   "execution_count": 1,
   "id": "ddb3da2d",
   "metadata": {},
   "outputs": [
    {
     "data": {
      "text/plain": [
       "<map at 0x1f65d1fd4c0>"
      ]
     },
     "execution_count": 1,
     "metadata": {},
     "output_type": "execute_result"
    }
   ],
   "source": [
    "nums = [1, 2, 3, 4]\n",
    "map(lambda x: x**3, nums)"
   ]
  },
  {
   "cell_type": "code",
   "execution_count": 2,
   "id": "dbdc49a9",
   "metadata": {},
   "outputs": [
    {
     "data": {
      "text/plain": [
       "[1, 8, 27, 64]"
      ]
     },
     "execution_count": 2,
     "metadata": {},
     "output_type": "execute_result"
    }
   ],
   "source": [
    "list(map(lambda x: x**3, nums))"
   ]
  },
  {
   "cell_type": "code",
   "execution_count": 3,
   "id": "b155301d",
   "metadata": {},
   "outputs": [
    {
     "data": {
      "text/plain": [
       "[1, 4, 9, 16]"
      ]
     },
     "execution_count": 3,
     "metadata": {},
     "output_type": "execute_result"
    }
   ],
   "source": [
    "list(map(lambda x: x**2, nums))"
   ]
  },
  {
   "cell_type": "code",
   "execution_count": 7,
   "id": "c41357d1",
   "metadata": {},
   "outputs": [],
   "source": [
    "nums = range (1, 10)"
   ]
  },
  {
   "cell_type": "code",
   "execution_count": 8,
   "id": "6015dab4",
   "metadata": {},
   "outputs": [
    {
     "data": {
      "text/plain": [
       "<filter at 0x1f65d1f1a30>"
      ]
     },
     "execution_count": 8,
     "metadata": {},
     "output_type": "execute_result"
    }
   ],
   "source": [
    "filter(lambda x: x%2==0, nums)"
   ]
  },
  {
   "cell_type": "code",
   "execution_count": 9,
   "id": "cd0871f1",
   "metadata": {},
   "outputs": [
    {
     "data": {
      "text/plain": [
       "[2, 4, 6, 8]"
      ]
     },
     "execution_count": 9,
     "metadata": {},
     "output_type": "execute_result"
    }
   ],
   "source": [
    "list(filter(lambda x: x%2==0, nums))"
   ]
  },
  {
   "cell_type": "code",
   "execution_count": 10,
   "id": "18d8a9b2",
   "metadata": {},
   "outputs": [
    {
     "data": {
      "text/plain": [
       "[1, 3, 5, 7, 9]"
      ]
     },
     "execution_count": 10,
     "metadata": {},
     "output_type": "execute_result"
    }
   ],
   "source": [
    "list(filter(lambda x: x%2 != 0, nums))"
   ]
  },
  {
   "cell_type": "code",
   "execution_count": 11,
   "id": "f4a0cae7",
   "metadata": {},
   "outputs": [],
   "source": [
    "def test(x):\n",
    "    return x**2"
   ]
  },
  {
   "cell_type": "code",
   "execution_count": 12,
   "id": "f51ad8c4",
   "metadata": {},
   "outputs": [
    {
     "data": {
      "text/plain": [
       "[9, 16]"
      ]
     },
     "execution_count": 12,
     "metadata": {},
     "output_type": "execute_result"
    }
   ],
   "source": [
    "list(map(test, [3, 4]))"
   ]
  },
  {
   "cell_type": "code",
   "execution_count": null,
   "id": "a5369cb4",
   "metadata": {},
   "outputs": [],
   "source": []
  }
 ],
 "metadata": {
  "kernelspec": {
   "display_name": "Python 3 (ipykernel)",
   "language": "python",
   "name": "python3"
  },
  "language_info": {
   "codemirror_mode": {
    "name": "ipython",
    "version": 3
   },
   "file_extension": ".py",
   "mimetype": "text/x-python",
   "name": "python",
   "nbconvert_exporter": "python",
   "pygments_lexer": "ipython3",
   "version": "3.8.10"
  }
 },
 "nbformat": 4,
 "nbformat_minor": 5
}
