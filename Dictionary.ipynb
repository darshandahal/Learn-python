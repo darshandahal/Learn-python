{
 "cells": [
  {
   "cell_type": "markdown",
   "id": "bbd73f96",
   "metadata": {},
   "source": [
    "# Dictionary\n",
    "* mapping data type\n",
    "* syntax:\n",
    "``` python\n",
    "{\n",
    "    key: value\n",
    "}\n",
    "```\n",
    "* no duplicate key"
   ]
  },
  {
   "cell_type": "markdown",
   "id": "e9f53a38",
   "metadata": {},
   "source": [
    "# creating empty dictionary"
   ]
  },
  {
   "cell_type": "code",
   "execution_count": 1,
   "id": "ab3c3a5e",
   "metadata": {},
   "outputs": [],
   "source": [
    "about = {}"
   ]
  },
  {
   "cell_type": "code",
   "execution_count": 2,
   "id": "e7a07a63",
   "metadata": {},
   "outputs": [
    {
     "data": {
      "text/plain": [
       "dict"
      ]
     },
     "execution_count": 2,
     "metadata": {},
     "output_type": "execute_result"
    }
   ],
   "source": [
    "type(about)"
   ]
  },
  {
   "cell_type": "code",
   "execution_count": 3,
   "id": "38c0230e",
   "metadata": {},
   "outputs": [],
   "source": [
    "about = dict()"
   ]
  },
  {
   "cell_type": "code",
   "execution_count": 4,
   "id": "6140f0e4",
   "metadata": {},
   "outputs": [
    {
     "data": {
      "text/plain": [
       "dict"
      ]
     },
     "execution_count": 4,
     "metadata": {},
     "output_type": "execute_result"
    }
   ],
   "source": [
    "type(about)"
   ]
  },
  {
   "cell_type": "markdown",
   "id": "a874779a",
   "metadata": {},
   "source": [
    "# adding key value pairs in dictionary"
   ]
  },
  {
   "cell_type": "code",
   "execution_count": 5,
   "id": "4e0a0595",
   "metadata": {},
   "outputs": [],
   "source": [
    "about = {}"
   ]
  },
  {
   "cell_type": "code",
   "execution_count": 6,
   "id": "a47315c5",
   "metadata": {},
   "outputs": [],
   "source": [
    "# add key value pair"
   ]
  },
  {
   "cell_type": "code",
   "execution_count": 7,
   "id": "b8b51ad2",
   "metadata": {},
   "outputs": [],
   "source": [
    "about['name'] = 'darshan'"
   ]
  },
  {
   "cell_type": "code",
   "execution_count": 8,
   "id": "e9f52d99",
   "metadata": {},
   "outputs": [
    {
     "data": {
      "text/plain": [
       "{'name': 'darshan'}"
      ]
     },
     "execution_count": 8,
     "metadata": {},
     "output_type": "execute_result"
    }
   ],
   "source": [
    "about"
   ]
  },
  {
   "cell_type": "code",
   "execution_count": 9,
   "id": "dbc24c98",
   "metadata": {},
   "outputs": [],
   "source": [
    "# other way to add key value pair"
   ]
  },
  {
   "cell_type": "code",
   "execution_count": 10,
   "id": "4e70cbc1",
   "metadata": {},
   "outputs": [],
   "source": [
    "about.update({'works at': \"broadway\"})"
   ]
  },
  {
   "cell_type": "code",
   "execution_count": 11,
   "id": "ac5cb053",
   "metadata": {},
   "outputs": [
    {
     "data": {
      "text/plain": [
       "{'name': 'darshan', 'works at': 'broadway'}"
      ]
     },
     "execution_count": 11,
     "metadata": {},
     "output_type": "execute_result"
    }
   ],
   "source": [
    "about"
   ]
  },
  {
   "cell_type": "code",
   "execution_count": 12,
   "id": "c86d6c5a",
   "metadata": {},
   "outputs": [],
   "source": [
    "about['teaches'] = {'python', 'data science', 'machine learning', 'AI', 'deep learning'}"
   ]
  },
  {
   "cell_type": "code",
   "execution_count": 13,
   "id": "6a841d89",
   "metadata": {},
   "outputs": [
    {
     "data": {
      "text/plain": [
       "{'name': 'darshan',\n",
       " 'works at': 'broadway',\n",
       " 'teaches': {'AI',\n",
       "  'data science',\n",
       "  'deep learning',\n",
       "  'machine learning',\n",
       "  'python'}}"
      ]
     },
     "execution_count": 13,
     "metadata": {},
     "output_type": "execute_result"
    }
   ],
   "source": [
    "about"
   ]
  },
  {
   "cell_type": "code",
   "execution_count": 14,
   "id": "9b366242",
   "metadata": {},
   "outputs": [],
   "source": [
    "about['age'] = 25"
   ]
  },
  {
   "cell_type": "code",
   "execution_count": 15,
   "id": "59b44e76",
   "metadata": {},
   "outputs": [
    {
     "data": {
      "text/plain": [
       "{'name': 'darshan',\n",
       " 'works at': 'broadway',\n",
       " 'teaches': {'AI',\n",
       "  'data science',\n",
       "  'deep learning',\n",
       "  'machine learning',\n",
       "  'python'},\n",
       " 'age': 25}"
      ]
     },
     "execution_count": 15,
     "metadata": {},
     "output_type": "execute_result"
    }
   ],
   "source": [
    "about"
   ]
  },
  {
   "cell_type": "markdown",
   "id": "dccaceef",
   "metadata": {},
   "source": [
    "# .update() method adds key value pair if key doesnt exist if the key exist it update the value"
   ]
  },
  {
   "cell_type": "code",
   "execution_count": 16,
   "id": "e6c29dd1",
   "metadata": {},
   "outputs": [],
   "source": [
    "about.update({'name': 'darshan dahal'})"
   ]
  },
  {
   "cell_type": "code",
   "execution_count": 17,
   "id": "cb8ca5a4",
   "metadata": {},
   "outputs": [
    {
     "data": {
      "text/plain": [
       "{'name': 'darshan dahal',\n",
       " 'works at': 'broadway',\n",
       " 'teaches': {'AI',\n",
       "  'data science',\n",
       "  'deep learning',\n",
       "  'machine learning',\n",
       "  'python'},\n",
       " 'age': 25}"
      ]
     },
     "execution_count": 17,
     "metadata": {},
     "output_type": "execute_result"
    }
   ],
   "source": [
    "about"
   ]
  },
  {
   "cell_type": "markdown",
   "id": "041f6927",
   "metadata": {},
   "source": [
    "# creat a dictionary with key as country name and value as its capital"
   ]
  },
  {
   "cell_type": "code",
   "execution_count": 10,
   "id": "d5e4a0a7",
   "metadata": {},
   "outputs": [],
   "source": [
    "country = {\n",
    "    'Nepal': 'Kathmandu',\n",
    "    'India': 'New delhi',\n",
    "    'china': 'Bejing'\n",
    "}"
   ]
  },
  {
   "cell_type": "code",
   "execution_count": 11,
   "id": "54b8b6d6",
   "metadata": {},
   "outputs": [
    {
     "data": {
      "text/plain": [
       "{'Nepal': 'Kathmandu', 'India': 'New delhi', 'china': 'Bejing'}"
      ]
     },
     "execution_count": 11,
     "metadata": {},
     "output_type": "execute_result"
    }
   ],
   "source": [
    "country"
   ]
  },
  {
   "cell_type": "code",
   "execution_count": 14,
   "id": "38d8e97f",
   "metadata": {},
   "outputs": [],
   "source": [
    "country.update({'bhutan': 'thimpu'})"
   ]
  },
  {
   "cell_type": "code",
   "execution_count": 15,
   "id": "bcfa4fe5",
   "metadata": {},
   "outputs": [
    {
     "data": {
      "text/plain": [
       "{'Nepal': 'Kathmandu',\n",
       " 'India': 'New delhi',\n",
       " 'china': 'Bejing',\n",
       " 'bhutan': 'thimpu'}"
      ]
     },
     "execution_count": 15,
     "metadata": {},
     "output_type": "execute_result"
    }
   ],
   "source": [
    "country"
   ]
  },
  {
   "cell_type": "code",
   "execution_count": 6,
   "id": "bc65fee6",
   "metadata": {},
   "outputs": [],
   "source": [
    "country['Pakistan'] = 'islamabad'"
   ]
  },
  {
   "cell_type": "code",
   "execution_count": 25,
   "id": "55e5e91b",
   "metadata": {},
   "outputs": [
    {
     "data": {
      "text/plain": [
       "{'Nepal': 'Kathmandu',\n",
       " 'India': 'New delhi',\n",
       " 'china': 'Bejing',\n",
       " 'bhutan': 'thimpu',\n",
       " 'Pakistan': 'islamabad'}"
      ]
     },
     "execution_count": 25,
     "metadata": {},
     "output_type": "execute_result"
    }
   ],
   "source": [
    "country"
   ]
  },
  {
   "cell_type": "code",
   "execution_count": 26,
   "id": "e3b9b608",
   "metadata": {},
   "outputs": [],
   "source": [
    "# what are valid key "
   ]
  },
  {
   "cell_type": "code",
   "execution_count": 28,
   "id": "64832e21",
   "metadata": {},
   "outputs": [],
   "source": [
    "num = {\n",
    "    1: 'one',\n",
    "    2: 'two'\n",
    "}"
   ]
  },
  {
   "cell_type": "code",
   "execution_count": 30,
   "id": "fbbafa63",
   "metadata": {},
   "outputs": [
    {
     "data": {
      "text/plain": [
       "{1: 'one', 2: 'two'}"
      ]
     },
     "execution_count": 30,
     "metadata": {},
     "output_type": "execute_result"
    }
   ],
   "source": [
    "num # integer value can be key"
   ]
  },
  {
   "cell_type": "code",
   "execution_count": 33,
   "id": "d100187d",
   "metadata": {},
   "outputs": [],
   "source": [
    "num[3.4] = \"three.four\" # float value can be key"
   ]
  },
  {
   "cell_type": "code",
   "execution_count": 34,
   "id": "095ec5c0",
   "metadata": {},
   "outputs": [
    {
     "data": {
      "text/plain": [
       "{1: 'one', 2: 'two', 3.4: 'three.four'}"
      ]
     },
     "execution_count": 34,
     "metadata": {},
     "output_type": "execute_result"
    }
   ],
   "source": [
    "num"
   ]
  },
  {
   "cell_type": "code",
   "execution_count": 35,
   "id": "be9b7fcd",
   "metadata": {},
   "outputs": [],
   "source": [
    "# list touple cannot be key"
   ]
  },
  {
   "cell_type": "code",
   "execution_count": 36,
   "id": "8049bebb",
   "metadata": {},
   "outputs": [],
   "source": [
    "# acessing values of a key"
   ]
  },
  {
   "cell_type": "code",
   "execution_count": 37,
   "id": "42247509",
   "metadata": {},
   "outputs": [],
   "source": [
    "country = {'Nepal': 'Kathmandu',\n",
    " 'India': 'New delhi',\n",
    " 'china': 'Bejing',\n",
    " 'bhutan': 'thimpu',\n",
    " 'Pakistan': 'islamabad'}"
   ]
  },
  {
   "cell_type": "code",
   "execution_count": 38,
   "id": "d1d08273",
   "metadata": {},
   "outputs": [
    {
     "data": {
      "text/plain": [
       "'Kathmandu'"
      ]
     },
     "execution_count": 38,
     "metadata": {},
     "output_type": "execute_result"
    }
   ],
   "source": [
    "country['Nepal']"
   ]
  },
  {
   "cell_type": "code",
   "execution_count": 39,
   "id": "e94dc21f",
   "metadata": {},
   "outputs": [
    {
     "data": {
      "text/plain": [
       "'Bejing'"
      ]
     },
     "execution_count": 39,
     "metadata": {},
     "output_type": "execute_result"
    }
   ],
   "source": [
    "country.get('china')"
   ]
  },
  {
   "cell_type": "markdown",
   "id": "a5cd6879",
   "metadata": {},
   "source": [
    "# what are my keys and values"
   ]
  },
  {
   "cell_type": "code",
   "execution_count": 42,
   "id": "2926d7cf",
   "metadata": {},
   "outputs": [
    {
     "data": {
      "text/plain": [
       "{'Nepal': 'Kathmandu',\n",
       " 'India': 'New delhi',\n",
       " 'china': 'Bejing',\n",
       " 'bhutan': 'thimpu',\n",
       " 'Pakistan': 'islamabad'}"
      ]
     },
     "execution_count": 42,
     "metadata": {},
     "output_type": "execute_result"
    }
   ],
   "source": [
    "country"
   ]
  },
  {
   "cell_type": "code",
   "execution_count": 43,
   "id": "7cba9df8",
   "metadata": {},
   "outputs": [
    {
     "data": {
      "text/plain": [
       "dict_keys(['Nepal', 'India', 'china', 'bhutan', 'Pakistan'])"
      ]
     },
     "execution_count": 43,
     "metadata": {},
     "output_type": "execute_result"
    }
   ],
   "source": [
    "country.keys()"
   ]
  },
  {
   "cell_type": "code",
   "execution_count": 44,
   "id": "a51af7cb",
   "metadata": {},
   "outputs": [
    {
     "data": {
      "text/plain": [
       "['Nepal', 'India', 'china', 'bhutan', 'Pakistan']"
      ]
     },
     "execution_count": 44,
     "metadata": {},
     "output_type": "execute_result"
    }
   ],
   "source": [
    "list(country.keys())"
   ]
  },
  {
   "cell_type": "code",
   "execution_count": 45,
   "id": "04212741",
   "metadata": {},
   "outputs": [
    {
     "data": {
      "text/plain": [
       "dict_values(['Kathmandu', 'New delhi', 'Bejing', 'thimpu', 'islamabad'])"
      ]
     },
     "execution_count": 45,
     "metadata": {},
     "output_type": "execute_result"
    }
   ],
   "source": [
    "country.values()"
   ]
  },
  {
   "cell_type": "code",
   "execution_count": 46,
   "id": "c534c26c",
   "metadata": {},
   "outputs": [
    {
     "data": {
      "text/plain": [
       "['Kathmandu', 'New delhi', 'Bejing', 'thimpu', 'islamabad']"
      ]
     },
     "execution_count": 46,
     "metadata": {},
     "output_type": "execute_result"
    }
   ],
   "source": [
    "list(country.values())"
   ]
  },
  {
   "cell_type": "code",
   "execution_count": 47,
   "id": "285622ff",
   "metadata": {},
   "outputs": [
    {
     "data": {
      "text/plain": [
       "{'Nepal': 'Kathmandu',\n",
       " 'India': 'New delhi',\n",
       " 'china': 'Bejing',\n",
       " 'bhutan': 'thimpu',\n",
       " 'Pakistan': 'islamabad'}"
      ]
     },
     "execution_count": 47,
     "metadata": {},
     "output_type": "execute_result"
    }
   ],
   "source": [
    "country"
   ]
  },
  {
   "cell_type": "code",
   "execution_count": 48,
   "id": "7c26ee17",
   "metadata": {},
   "outputs": [
    {
     "data": {
      "text/plain": [
       "dict_values"
      ]
     },
     "execution_count": 48,
     "metadata": {},
     "output_type": "execute_result"
    }
   ],
   "source": [
    "type(country.values())"
   ]
  },
  {
   "cell_type": "code",
   "execution_count": 49,
   "id": "102f6132",
   "metadata": {},
   "outputs": [
    {
     "data": {
      "text/plain": [
       "dict_items([('Nepal', 'Kathmandu'), ('India', 'New delhi'), ('china', 'Bejing'), ('bhutan', 'thimpu'), ('Pakistan', 'islamabad')])"
      ]
     },
     "execution_count": 49,
     "metadata": {},
     "output_type": "execute_result"
    }
   ],
   "source": [
    "country.items()"
   ]
  },
  {
   "cell_type": "markdown",
   "id": "acb2d242",
   "metadata": {},
   "source": [
    "# tuple unpacking"
   ]
  },
  {
   "cell_type": "code",
   "execution_count": 51,
   "id": "94378a44",
   "metadata": {},
   "outputs": [],
   "source": [
    "a, b = (3,4)"
   ]
  },
  {
   "cell_type": "code",
   "execution_count": 52,
   "id": "78138d19",
   "metadata": {},
   "outputs": [
    {
     "data": {
      "text/plain": [
       "3"
      ]
     },
     "execution_count": 52,
     "metadata": {},
     "output_type": "execute_result"
    }
   ],
   "source": [
    "a"
   ]
  },
  {
   "cell_type": "code",
   "execution_count": 53,
   "id": "fec2f0b6",
   "metadata": {},
   "outputs": [
    {
     "data": {
      "text/plain": [
       "4"
      ]
     },
     "execution_count": 53,
     "metadata": {},
     "output_type": "execute_result"
    }
   ],
   "source": [
    "b"
   ]
  },
  {
   "cell_type": "markdown",
   "id": "9366eb40",
   "metadata": {},
   "source": [
    "# loop in dictionary"
   ]
  },
  {
   "cell_type": "code",
   "execution_count": 54,
   "id": "b83f6b09",
   "metadata": {},
   "outputs": [],
   "source": [
    "country = {'Nepal': 'Kathmandu',\n",
    " 'India': 'New delhi',\n",
    " 'china': 'Bejing',\n",
    " 'bhutan': 'thimpu',\n",
    " 'Pakistan': 'islamabad'}"
   ]
  },
  {
   "cell_type": "code",
   "execution_count": 56,
   "id": "d90b479a",
   "metadata": {},
   "outputs": [
    {
     "data": {
      "text/plain": [
       "dict_items([('Nepal', 'Kathmandu'), ('India', 'New delhi'), ('china', 'Bejing'), ('bhutan', 'thimpu'), ('Pakistan', 'islamabad')])"
      ]
     },
     "execution_count": 56,
     "metadata": {},
     "output_type": "execute_result"
    }
   ],
   "source": [
    "country.items()"
   ]
  },
  {
   "cell_type": "code",
   "execution_count": 57,
   "id": "be6d1848",
   "metadata": {},
   "outputs": [
    {
     "name": "stdout",
     "output_type": "stream",
     "text": [
      "Nepal\n",
      "India\n",
      "china\n",
      "bhutan\n",
      "Pakistan\n"
     ]
    }
   ],
   "source": [
    "for key, value in country.items():\n",
    "    print(key)"
   ]
  },
  {
   "cell_type": "code",
   "execution_count": 58,
   "id": "300bdc7b",
   "metadata": {},
   "outputs": [
    {
     "name": "stdout",
     "output_type": "stream",
     "text": [
      "Kathmandu\n",
      "New delhi\n",
      "Bejing\n",
      "thimpu\n",
      "islamabad\n"
     ]
    }
   ],
   "source": [
    "for key, value in country.items():\n",
    "    print(value)"
   ]
  },
  {
   "cell_type": "code",
   "execution_count": 59,
   "id": "f19e34bc",
   "metadata": {},
   "outputs": [
    {
     "name": "stdout",
     "output_type": "stream",
     "text": [
      "your country is Nepal and your capital city is Kathmandu\n",
      "your country is India and your capital city is New delhi\n",
      "your country is china and your capital city is Bejing\n",
      "your country is bhutan and your capital city is thimpu\n",
      "your country is Pakistan and your capital city is islamabad\n"
     ]
    }
   ],
   "source": [
    "for key, value in country.items():\n",
    "    print( f\"your country is {key} and your capital city is {value}\")"
   ]
  },
  {
   "cell_type": "markdown",
   "id": "5627f9ab",
   "metadata": {},
   "source": [
    "# pop(key)"
   ]
  },
  {
   "cell_type": "code",
   "execution_count": 60,
   "id": "d2ea3783",
   "metadata": {},
   "outputs": [],
   "source": [
    "country = {'Nepal': 'Kathmandu',\n",
    " 'India': 'New delhi',\n",
    " 'china': 'Bejing',\n",
    " 'bhutan': 'thimpu',\n",
    " 'Pakistan': 'islamabad'}"
   ]
  },
  {
   "cell_type": "code",
   "execution_count": 61,
   "id": "66934330",
   "metadata": {},
   "outputs": [
    {
     "data": {
      "text/plain": [
       "'Bejing'"
      ]
     },
     "execution_count": 61,
     "metadata": {},
     "output_type": "execute_result"
    }
   ],
   "source": [
    "country.pop('china')"
   ]
  },
  {
   "cell_type": "code",
   "execution_count": 62,
   "id": "25ebbf2d",
   "metadata": {},
   "outputs": [
    {
     "data": {
      "text/plain": [
       "{'Nepal': 'Kathmandu',\n",
       " 'India': 'New delhi',\n",
       " 'bhutan': 'thimpu',\n",
       " 'Pakistan': 'islamabad'}"
      ]
     },
     "execution_count": 62,
     "metadata": {},
     "output_type": "execute_result"
    }
   ],
   "source": [
    "country"
   ]
  },
  {
   "cell_type": "markdown",
   "id": "e88283f2",
   "metadata": {},
   "source": [
    "# Dictionary comprehension\n",
    "* write a program to swap key value pairs from given dictionary"
   ]
  },
  {
   "cell_type": "code",
   "execution_count": 63,
   "id": "80ee9c71",
   "metadata": {},
   "outputs": [],
   "source": [
    "country = {'Nepal': 'Kathmandu',\n",
    " 'India': 'New delhi',\n",
    " 'china': 'Bejing',\n",
    " 'bhutan': 'thimpu',\n",
    " 'Pakistan': 'islamabad'}"
   ]
  },
  {
   "cell_type": "code",
   "execution_count": 65,
   "id": "5378cd51",
   "metadata": {},
   "outputs": [
    {
     "data": {
      "text/plain": [
       "{'Kathmandu': 'Nepal',\n",
       " 'New delhi': 'India',\n",
       " 'Bejing': 'china',\n",
       " 'thimpu': 'bhutan',\n",
       " 'islamabad': 'Pakistan'}"
      ]
     },
     "execution_count": 65,
     "metadata": {},
     "output_type": "execute_result"
    }
   ],
   "source": [
    "{val: key for key, val in country.items()}"
   ]
  },
  {
   "cell_type": "markdown",
   "id": "a8da5c4c",
   "metadata": {},
   "source": [
    "# Nested dictionary"
   ]
  },
  {
   "cell_type": "code",
   "execution_count": 66,
   "id": "419a9059",
   "metadata": {},
   "outputs": [],
   "source": [
    "children = {\n",
    "    \"child1\" : {\"name\" : \"emil\", \"year\" : 2004 },\n",
    "    \"child2\" : {\"name\" : \"tobias\", \"year\" : 2007 },\n",
    "    \"child3\" : {\"name\" : \"linus\", \"year\" : 2011 },\n",
    "}"
   ]
  },
  {
   "cell_type": "code",
   "execution_count": 72,
   "id": "60810b50",
   "metadata": {},
   "outputs": [
    {
     "name": "stdout",
     "output_type": "stream",
     "text": [
      "emil\n",
      "tobias\n",
      "linus\n"
     ]
    }
   ],
   "source": [
    " for key, value in children.items():\n",
    "        print(value.get(\"name\"))"
   ]
  },
  {
   "cell_type": "code",
   "execution_count": 75,
   "id": "0598352d",
   "metadata": {},
   "outputs": [
    {
     "name": "stdout",
     "output_type": "stream",
     "text": [
      "emil\n",
      "tobias\n",
      "linus\n"
     ]
    }
   ],
   "source": [
    "for key, value in children.items():\n",
    "    child_name = value.get(\"name\")\n",
    "    print(child_name)"
   ]
  },
  {
   "cell_type": "code",
   "execution_count": 73,
   "id": "39badd74",
   "metadata": {},
   "outputs": [
    {
     "name": "stdout",
     "output_type": "stream",
     "text": [
      "2004\n",
      "2007\n",
      "2011\n"
     ]
    }
   ],
   "source": [
    "for key, value in children.items():\n",
    "    \n",
    "    print(value.get(\"year\"))"
   ]
  }
 ],
 "metadata": {
  "kernelspec": {
   "display_name": "Python 3 (ipykernel)",
   "language": "python",
   "name": "python3"
  },
  "language_info": {
   "codemirror_mode": {
    "name": "ipython",
    "version": 3
   },
   "file_extension": ".py",
   "mimetype": "text/x-python",
   "name": "python",
   "nbconvert_exporter": "python",
   "pygments_lexer": "ipython3",
   "version": "3.8.10"
  }
 },
 "nbformat": 4,
 "nbformat_minor": 5
}
