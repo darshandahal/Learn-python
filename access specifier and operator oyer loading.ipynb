{
 "cells": [
  {
   "cell_type": "markdown",
   "id": "394605e0",
   "metadata": {},
   "source": [
    "# are access specifiers used in python?  -- no but has concept of limiting behaviour of variables : privated attribute are not inherited"
   ]
  },
  {
   "cell_type": "code",
   "execution_count": 1,
   "id": "be1b7a61",
   "metadata": {},
   "outputs": [],
   "source": [
    "class Teacher:\n",
    "    \n",
    "    #public\n",
    "    name = \"Darshan\"\n",
    "    \n",
    "    #protected\n",
    "    _address = \"rampur\"\n",
    "    \n",
    "    # private\n",
    "    __age = 20"
   ]
  },
  {
   "cell_type": "code",
   "execution_count": 2,
   "id": "0aa75dd7",
   "metadata": {},
   "outputs": [],
   "source": [
    "t = Teacher()"
   ]
  },
  {
   "cell_type": "code",
   "execution_count": 3,
   "id": "e8c0a0cd",
   "metadata": {},
   "outputs": [
    {
     "data": {
      "text/plain": [
       "'Darshan'"
      ]
     },
     "execution_count": 3,
     "metadata": {},
     "output_type": "execute_result"
    }
   ],
   "source": [
    "t.name"
   ]
  },
  {
   "cell_type": "code",
   "execution_count": 5,
   "id": "2f8e3a81",
   "metadata": {},
   "outputs": [
    {
     "data": {
      "text/plain": [
       "'rampur'"
      ]
     },
     "execution_count": 5,
     "metadata": {},
     "output_type": "execute_result"
    }
   ],
   "source": [
    "t._address"
   ]
  },
  {
   "cell_type": "code",
   "execution_count": 6,
   "id": "c82c9809",
   "metadata": {},
   "outputs": [
    {
     "ename": "AttributeError",
     "evalue": "'Teacher' object has no attribute '__age'",
     "output_type": "error",
     "traceback": [
      "\u001b[1;31m---------------------------------------------------------------------------\u001b[0m",
      "\u001b[1;31mAttributeError\u001b[0m                            Traceback (most recent call last)",
      "Cell \u001b[1;32mIn[6], line 1\u001b[0m\n\u001b[1;32m----> 1\u001b[0m \u001b[43mt\u001b[49m\u001b[38;5;241;43m.\u001b[39;49m\u001b[43m__age\u001b[49m\n",
      "\u001b[1;31mAttributeError\u001b[0m: 'Teacher' object has no attribute '__age'"
     ]
    }
   ],
   "source": [
    "t.__age"
   ]
  },
  {
   "cell_type": "markdown",
   "id": "72c50dc9",
   "metadata": {},
   "source": [
    "# operator overloading : it gives extended meaning beyond their predefined operational meaning. - polymorphism"
   ]
  },
  {
   "cell_type": "code",
   "execution_count": 7,
   "id": "d88a7dce",
   "metadata": {},
   "outputs": [
    {
     "data": {
      "text/plain": [
       "6"
      ]
     },
     "execution_count": 7,
     "metadata": {},
     "output_type": "execute_result"
    }
   ],
   "source": [
    "2 + 4 "
   ]
  },
  {
   "cell_type": "code",
   "execution_count": 8,
   "id": "bafec493",
   "metadata": {},
   "outputs": [
    {
     "data": {
      "text/plain": [
       "'helloworld'"
      ]
     },
     "execution_count": 8,
     "metadata": {},
     "output_type": "execute_result"
    }
   ],
   "source": [
    "\"hello\" + \"world\""
   ]
  },
  {
   "cell_type": "code",
   "execution_count": 9,
   "id": "3c61b793",
   "metadata": {},
   "outputs": [
    {
     "data": {
      "text/plain": [
       "[1, 2, 3, 4, 5, 6]"
      ]
     },
     "execution_count": 9,
     "metadata": {},
     "output_type": "execute_result"
    }
   ],
   "source": [
    "[1, 2, 3] + [4, 5, 6]"
   ]
  },
  {
   "cell_type": "code",
   "execution_count": 10,
   "id": "48696fcb",
   "metadata": {},
   "outputs": [],
   "source": [
    "#this process is polymorfism"
   ]
  },
  {
   "cell_type": "markdown",
   "id": "b0f5aae3",
   "metadata": {},
   "source": [
    "# operator overloading in user defined class object"
   ]
  },
  {
   "cell_type": "code",
   "execution_count": 11,
   "id": "b300c810",
   "metadata": {},
   "outputs": [],
   "source": [
    "class Account:\n",
    "    def __init__(self, name, balance):\n",
    "        self.name = name\n",
    "        self.balance = balance"
   ]
  },
  {
   "cell_type": "code",
   "execution_count": 12,
   "id": "6f5a5653",
   "metadata": {},
   "outputs": [],
   "source": [
    "ac1 = Account(\"ram\", 1234567)\n",
    "ac2 = Account(\"darshan\", 3274854)"
   ]
  },
  {
   "cell_type": "code",
   "execution_count": 13,
   "id": "eb0a71e3",
   "metadata": {},
   "outputs": [
    {
     "ename": "TypeError",
     "evalue": "unsupported operand type(s) for +: 'Account' and 'Account'",
     "output_type": "error",
     "traceback": [
      "\u001b[1;31m---------------------------------------------------------------------------\u001b[0m",
      "\u001b[1;31mTypeError\u001b[0m                                 Traceback (most recent call last)",
      "Cell \u001b[1;32mIn[13], line 1\u001b[0m\n\u001b[1;32m----> 1\u001b[0m \u001b[43mac1\u001b[49m\u001b[43m \u001b[49m\u001b[38;5;241;43m+\u001b[39;49m\u001b[43m \u001b[49m\u001b[43mac2\u001b[49m\n",
      "\u001b[1;31mTypeError\u001b[0m: unsupported operand type(s) for +: 'Account' and 'Account'"
     ]
    }
   ],
   "source": [
    "ac1 + ac2"
   ]
  },
  {
   "cell_type": "code",
   "execution_count": 20,
   "id": "8bec1f3a",
   "metadata": {},
   "outputs": [],
   "source": [
    "class Account:\n",
    "    def __init__(self, name, balance):\n",
    "        self.name = name\n",
    "        self.balance = balance\n",
    "        \n",
    "        \n",
    "    def __add__(self, otherobj):\n",
    "        return self.balance + otherobj.balance"
   ]
  },
  {
   "cell_type": "code",
   "execution_count": 21,
   "id": "928f1b86",
   "metadata": {},
   "outputs": [],
   "source": [
    "ac1 = Account(\"ram\", 1234567)\n",
    "ac2 = Account(\"darshan\", 3274854)"
   ]
  },
  {
   "cell_type": "code",
   "execution_count": 22,
   "id": "31593bd9",
   "metadata": {},
   "outputs": [
    {
     "data": {
      "text/plain": [
       "4509421"
      ]
     },
     "execution_count": 22,
     "metadata": {},
     "output_type": "execute_result"
    }
   ],
   "source": [
    "ac1 + ac2"
   ]
  },
  {
   "cell_type": "code",
   "execution_count": 24,
   "id": "53ce45a4",
   "metadata": {},
   "outputs": [
    {
     "ename": "AttributeError",
     "evalue": "'int' object has no attribute 'balance'",
     "output_type": "error",
     "traceback": [
      "\u001b[1;31m---------------------------------------------------------------------------\u001b[0m",
      "\u001b[1;31mAttributeError\u001b[0m                            Traceback (most recent call last)",
      "Cell \u001b[1;32mIn[24], line 1\u001b[0m\n\u001b[1;32m----> 1\u001b[0m \u001b[43mac1\u001b[49m\u001b[43m \u001b[49m\u001b[38;5;241;43m+\u001b[39;49m\u001b[38;5;241;43m5\u001b[39;49m \u001b[38;5;66;03m# ac1 and 5 are different type\u001b[39;00m\n",
      "Cell \u001b[1;32mIn[20], line 8\u001b[0m, in \u001b[0;36mAccount.__add__\u001b[1;34m(self, otherobj)\u001b[0m\n\u001b[0;32m      7\u001b[0m \u001b[38;5;28;01mdef\u001b[39;00m \u001b[38;5;21m__add__\u001b[39m(\u001b[38;5;28mself\u001b[39m, otherobj):\n\u001b[1;32m----> 8\u001b[0m     \u001b[38;5;28;01mreturn\u001b[39;00m \u001b[38;5;28mself\u001b[39m\u001b[38;5;241m.\u001b[39mbalance \u001b[38;5;241m+\u001b[39m \u001b[43motherobj\u001b[49m\u001b[38;5;241;43m.\u001b[39;49m\u001b[43mbalance\u001b[49m\n",
      "\u001b[1;31mAttributeError\u001b[0m: 'int' object has no attribute 'balance'"
     ]
    }
   ],
   "source": [
    "ac1 +5 # ac1 and 5 are different type"
   ]
  },
  {
   "cell_type": "code",
   "execution_count": null,
   "id": "9bbbe5b6",
   "metadata": {},
   "outputs": [],
   "source": []
  }
 ],
 "metadata": {
  "kernelspec": {
   "display_name": "Python 3 (ipykernel)",
   "language": "python",
   "name": "python3"
  },
  "language_info": {
   "codemirror_mode": {
    "name": "ipython",
    "version": 3
   },
   "file_extension": ".py",
   "mimetype": "text/x-python",
   "name": "python",
   "nbconvert_exporter": "python",
   "pygments_lexer": "ipython3",
   "version": "3.8.10"
  }
 },
 "nbformat": 4,
 "nbformat_minor": 5
}
