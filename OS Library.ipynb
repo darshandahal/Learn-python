{
 "cells": [
  {
   "cell_type": "code",
   "execution_count": 1,
   "id": "90158358",
   "metadata": {},
   "outputs": [],
   "source": [
    "import os"
   ]
  },
  {
   "cell_type": "code",
   "execution_count": 2,
   "id": "626735a0",
   "metadata": {},
   "outputs": [
    {
     "data": {
      "text/plain": [
       "['.ipynb_checkpoints',\n",
       " 'access specifier and operator oyer loading.ipynb',\n",
       " 'append.txt',\n",
       " 'args vs kwargs.ipynb',\n",
       " 'Arthematic Operators-checkpoint.ipynb',\n",
       " 'Assignments.ipynb',\n",
       " 'BIM calculator.ipynb',\n",
       " 'brandnew.txt',\n",
       " 'brandnwe.txt',\n",
       " 'Comparision operators.ipynb',\n",
       " 'conditional in python.ipynb',\n",
       " 'Day 2.ipynb',\n",
       " 'Dictionary.ipynb',\n",
       " 'Exception handling.ipynb',\n",
       " 'Factorial.ipynb',\n",
       " 'File handling.ipynb',\n",
       " 'Inheritance.ipynb',\n",
       " 'Lamda function , annynomous function.ipynb',\n",
       " 'List comprehension part 2.ipynb',\n",
       " 'List comprehension.ipynb',\n",
       " 'logical operator.ipynb',\n",
       " 'loop in python.ipynb',\n",
       " 'membership operators.ipynb',\n",
       " 'Nested for loop and while loop.ipynb',\n",
       " 'Nesting and Chaining.ipynb',\n",
       " 'none.ipynb',\n",
       " 'OOP Class and Object.ipynb',\n",
       " 'Operator overloading.ipynb',\n",
       " 'OS Library.ipynb',\n",
       " 'Pass.ipynb',\n",
       " 'Python Function.ipynb',\n",
       " 'python list.ipynb',\n",
       " 'python num.ipynb',\n",
       " 'python string.ipynb',\n",
       " 'read.text',\n",
       " 'recursion.ipynb',\n",
       " 'Sets.ipynb',\n",
       " 'SQL in Python.ipynb',\n",
       " 'string method.ipynb',\n",
       " 'student.db',\n",
       " 'student.db-journal',\n",
       " 'student.dv',\n",
       " 'Tuple.ipynb',\n",
       " 'user input in python.ipynb',\n",
       " 'variables-checkpoint.ipynb']"
      ]
     },
     "execution_count": 2,
     "metadata": {},
     "output_type": "execute_result"
    }
   ],
   "source": [
    "os.listdir() # list of all folder and file dirictory"
   ]
  },
  {
   "cell_type": "markdown",
   "id": "52e14959",
   "metadata": {},
   "source": [
    "# Absolute path of current directory"
   ]
  },
  {
   "cell_type": "code",
   "execution_count": 3,
   "id": "a9c950ae",
   "metadata": {},
   "outputs": [
    {
     "data": {
      "text/plain": [
       "'C:\\\\Users\\\\Toshiba\\\\Desktop\\\\Python600\\\\Class Notes'"
      ]
     },
     "execution_count": 3,
     "metadata": {},
     "output_type": "execute_result"
    }
   ],
   "source": [
    "os.getcwd()"
   ]
  },
  {
   "cell_type": "code",
   "execution_count": 4,
   "id": "8777c869",
   "metadata": {},
   "outputs": [],
   "source": [
    "# file path are relative and absolute"
   ]
  },
  {
   "cell_type": "code",
   "execution_count": 5,
   "id": "7b22e4c8",
   "metadata": {},
   "outputs": [
    {
     "data": {
      "text/plain": [
       "'student.db'"
      ]
     },
     "execution_count": 5,
     "metadata": {},
     "output_type": "execute_result"
    }
   ],
   "source": [
    "os.path.relpath('student.db')"
   ]
  },
  {
   "cell_type": "code",
   "execution_count": 6,
   "id": "01156021",
   "metadata": {},
   "outputs": [
    {
     "data": {
      "text/plain": [
       "'C:\\\\Users\\\\Toshiba\\\\Desktop\\\\Python600\\\\Class Notes\\\\student.db'"
      ]
     },
     "execution_count": 6,
     "metadata": {},
     "output_type": "execute_result"
    }
   ],
   "source": [
    "os.path.abspath('student.db')"
   ]
  },
  {
   "cell_type": "code",
   "execution_count": null,
   "id": "b021e3b4",
   "metadata": {},
   "outputs": [],
   "source": []
  }
 ],
 "metadata": {
  "kernelspec": {
   "display_name": "Python 3 (ipykernel)",
   "language": "python",
   "name": "python3"
  },
  "language_info": {
   "codemirror_mode": {
    "name": "ipython",
    "version": 3
   },
   "file_extension": ".py",
   "mimetype": "text/x-python",
   "name": "python",
   "nbconvert_exporter": "python",
   "pygments_lexer": "ipython3",
   "version": "3.8.10"
  }
 },
 "nbformat": 4,
 "nbformat_minor": 5
}
