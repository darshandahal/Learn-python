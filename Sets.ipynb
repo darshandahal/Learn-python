{
 "cells": [
  {
   "cell_type": "markdown",
   "id": "3b30436c",
   "metadata": {},
   "source": [
    "# Sets \n",
    "* It is a collection of items under on variable name which is unordered, unchangable, and unindexed"
   ]
  },
  {
   "cell_type": "code",
   "execution_count": 1,
   "id": "6f9015e3",
   "metadata": {},
   "outputs": [],
   "source": [
    "cities = {'Kathmandu', 'Lalitpur', 'Bhaktpur', 'kavre', 'Pokhara', 'Dharan'}"
   ]
  },
  {
   "cell_type": "code",
   "execution_count": 2,
   "id": "1c81bade",
   "metadata": {},
   "outputs": [
    {
     "data": {
      "text/plain": [
       "{'Bhaktpur', 'Dharan', 'Kathmandu', 'Lalitpur', 'Pokhara', 'kavre'}"
      ]
     },
     "execution_count": 2,
     "metadata": {},
     "output_type": "execute_result"
    }
   ],
   "source": [
    "cities"
   ]
  },
  {
   "cell_type": "code",
   "execution_count": 4,
   "id": "eeb5e7ac",
   "metadata": {},
   "outputs": [
    {
     "ename": "TypeError",
     "evalue": "'set' object is not subscriptable",
     "output_type": "error",
     "traceback": [
      "\u001b[1;31m---------------------------------------------------------------------------\u001b[0m",
      "\u001b[1;31mTypeError\u001b[0m                                 Traceback (most recent call last)",
      "Cell \u001b[1;32mIn[4], line 1\u001b[0m\n\u001b[1;32m----> 1\u001b[0m \u001b[43mcities\u001b[49m\u001b[43m[\u001b[49m\u001b[38;5;241;43m0\u001b[39;49m\u001b[43m]\u001b[49m \u001b[38;5;66;03m# unindexed and unchangable\u001b[39;00m\n",
      "\u001b[1;31mTypeError\u001b[0m: 'set' object is not subscriptable"
     ]
    }
   ],
   "source": [
    "cities[0] # unindexed and unchangable"
   ]
  },
  {
   "cell_type": "markdown",
   "id": "3a07e176",
   "metadata": {},
   "source": [
    "# sets are mutable -- allows to add or remove items"
   ]
  },
  {
   "cell_type": "code",
   "execution_count": 5,
   "id": "87da2eaf",
   "metadata": {},
   "outputs": [],
   "source": [
    "cities = {'Kathmandu', 'Lalitpur', 'Bhaktpur', 'kavre', 'Pokhara', 'Dharan'}\n",
    "cities.add(\"lalbandi\")"
   ]
  },
  {
   "cell_type": "code",
   "execution_count": 6,
   "id": "75154712",
   "metadata": {},
   "outputs": [
    {
     "data": {
      "text/plain": [
       "{'Bhaktpur', 'Dharan', 'Kathmandu', 'Lalitpur', 'Pokhara', 'kavre', 'lalbandi'}"
      ]
     },
     "execution_count": 6,
     "metadata": {},
     "output_type": "execute_result"
    }
   ],
   "source": [
    "cities"
   ]
  },
  {
   "cell_type": "code",
   "execution_count": 7,
   "id": "0934ef6d",
   "metadata": {},
   "outputs": [],
   "source": [
    "cities.remove(\"kavre\")"
   ]
  },
  {
   "cell_type": "code",
   "execution_count": 8,
   "id": "9685fd5d",
   "metadata": {},
   "outputs": [
    {
     "data": {
      "text/plain": [
       "{'Bhaktpur', 'Dharan', 'Kathmandu', 'Lalitpur', 'Pokhara', 'lalbandi'}"
      ]
     },
     "execution_count": 8,
     "metadata": {},
     "output_type": "execute_result"
    }
   ],
   "source": [
    "cities"
   ]
  },
  {
   "cell_type": "code",
   "execution_count": 11,
   "id": "a6d26008",
   "metadata": {},
   "outputs": [],
   "source": [
    "cities.discard(\"Biratnagar\") # if u dont want error then use discard"
   ]
  },
  {
   "cell_type": "code",
   "execution_count": 12,
   "id": "ce2c7ec0",
   "metadata": {},
   "outputs": [
    {
     "data": {
      "text/plain": [
       "{'Bhaktpur', 'Dharan', 'Kathmandu', 'Lalitpur', 'Pokhara', 'lalbandi'}"
      ]
     },
     "execution_count": 12,
     "metadata": {},
     "output_type": "execute_result"
    }
   ],
   "source": [
    "cities"
   ]
  },
  {
   "cell_type": "markdown",
   "id": "436c2552",
   "metadata": {},
   "source": [
    "# Type casting"
   ]
  },
  {
   "cell_type": "code",
   "execution_count": 13,
   "id": "94b4a846",
   "metadata": {},
   "outputs": [],
   "source": [
    "cities = list(cities)"
   ]
  },
  {
   "cell_type": "code",
   "execution_count": 14,
   "id": "6d599e61",
   "metadata": {},
   "outputs": [
    {
     "data": {
      "text/plain": [
       "['Lalitpur', 'lalbandi', 'Pokhara', 'Kathmandu', 'Dharan', 'Bhaktpur']"
      ]
     },
     "execution_count": 14,
     "metadata": {},
     "output_type": "execute_result"
    }
   ],
   "source": [
    "cities"
   ]
  },
  {
   "cell_type": "code",
   "execution_count": 15,
   "id": "5706cf7c",
   "metadata": {},
   "outputs": [
    {
     "data": {
      "text/plain": [
       "list"
      ]
     },
     "execution_count": 15,
     "metadata": {},
     "output_type": "execute_result"
    }
   ],
   "source": [
    "type(cities)"
   ]
  },
  {
   "cell_type": "code",
   "execution_count": 16,
   "id": "16389935",
   "metadata": {},
   "outputs": [],
   "source": [
    "list1 = [1, 33, 34, 1, 33, 35]"
   ]
  },
  {
   "cell_type": "code",
   "execution_count": 18,
   "id": "d4ce2f4a",
   "metadata": {},
   "outputs": [
    {
     "data": {
      "text/plain": [
       "{1, 33, 34, 35}"
      ]
     },
     "execution_count": 18,
     "metadata": {},
     "output_type": "execute_result"
    }
   ],
   "source": [
    "set(list1) # sets dont allow duplicate value"
   ]
  },
  {
   "cell_type": "markdown",
   "id": "facc2a7b",
   "metadata": {},
   "source": [
    "# set operation in python : union, intersection, difference"
   ]
  },
  {
   "cell_type": "code",
   "execution_count": 19,
   "id": "00f3444a",
   "metadata": {},
   "outputs": [],
   "source": [
    "A = {'apple', 'Banana', 'cherry'}\n",
    "B = {'google', 'microsoft', 'apple'}"
   ]
  },
  {
   "cell_type": "code",
   "execution_count": 20,
   "id": "70354d70",
   "metadata": {},
   "outputs": [
    {
     "data": {
      "text/plain": [
       "{'apple'}"
      ]
     },
     "execution_count": 20,
     "metadata": {},
     "output_type": "execute_result"
    }
   ],
   "source": [
    "A.intersection(B)"
   ]
  },
  {
   "cell_type": "code",
   "execution_count": 21,
   "id": "4b885f1b",
   "metadata": {},
   "outputs": [
    {
     "data": {
      "text/plain": [
       "{'Banana', 'apple', 'cherry', 'google', 'microsoft'}"
      ]
     },
     "execution_count": 21,
     "metadata": {},
     "output_type": "execute_result"
    }
   ],
   "source": [
    "A.union(B)"
   ]
  },
  {
   "cell_type": "code",
   "execution_count": 23,
   "id": "db714375",
   "metadata": {},
   "outputs": [
    {
     "data": {
      "text/plain": [
       "{'Banana', 'cherry'}"
      ]
     },
     "execution_count": 23,
     "metadata": {},
     "output_type": "execute_result"
    }
   ],
   "source": [
    "A.difference(B)"
   ]
  },
  {
   "cell_type": "code",
   "execution_count": 24,
   "id": "dc91f757",
   "metadata": {},
   "outputs": [
    {
     "data": {
      "text/plain": [
       "{'google', 'microsoft'}"
      ]
     },
     "execution_count": 24,
     "metadata": {},
     "output_type": "execute_result"
    }
   ],
   "source": [
    "B.difference(A)"
   ]
  },
  {
   "cell_type": "code",
   "execution_count": 25,
   "id": "f3197ef6",
   "metadata": {},
   "outputs": [
    {
     "data": {
      "text/plain": [
       "{'Banana', 'cherry'}"
      ]
     },
     "execution_count": 25,
     "metadata": {},
     "output_type": "execute_result"
    }
   ],
   "source": [
    "A - B"
   ]
  },
  {
   "cell_type": "code",
   "execution_count": 26,
   "id": "b1726648",
   "metadata": {},
   "outputs": [
    {
     "data": {
      "text/plain": [
       "{'google', 'microsoft'}"
      ]
     },
     "execution_count": 26,
     "metadata": {},
     "output_type": "execute_result"
    }
   ],
   "source": [
    "B - A"
   ]
  },
  {
   "cell_type": "markdown",
   "id": "93e04a8a",
   "metadata": {},
   "source": [
    "# loops in set"
   ]
  },
  {
   "cell_type": "code",
   "execution_count": 30,
   "id": "446df391",
   "metadata": {},
   "outputs": [],
   "source": [
    "cities = {'Kathmandu', 'Lalitpur', 'Bhaktpur', 'kavre', 'Pokhara', 'Dharan'}"
   ]
  },
  {
   "cell_type": "code",
   "execution_count": 34,
   "id": "b98042d7",
   "metadata": {},
   "outputs": [
    {
     "name": "stdout",
     "output_type": "stream",
     "text": [
      "Lalitpur\n",
      "Pokhara\n",
      "Kathmandu\n",
      "Dharan\n",
      "kavre\n",
      "Bhaktpur\n"
     ]
    }
   ],
   "source": [
    "for items in cities:\n",
    "    print(items)"
   ]
  },
  {
   "cell_type": "code",
   "execution_count": 35,
   "id": "9e83f3b3",
   "metadata": {},
   "outputs": [
    {
     "data": {
      "text/plain": [
       "True"
      ]
     },
     "execution_count": 35,
     "metadata": {},
     "output_type": "execute_result"
    }
   ],
   "source": [
    "'Dharan' in cities"
   ]
  },
  {
   "cell_type": "markdown",
   "id": "b5bd8ddb",
   "metadata": {},
   "source": [
    "# frozenset : immutable version of python set"
   ]
  },
  {
   "cell_type": "code",
   "execution_count": 36,
   "id": "b1c58135",
   "metadata": {},
   "outputs": [],
   "source": [
    "cities = {'Kathmandu', 'Lalitpur', 'Bhaktpur', 'kavre', 'Pokhara', 'Dharan'}"
   ]
  },
  {
   "cell_type": "code",
   "execution_count": 37,
   "id": "1c6f6730",
   "metadata": {},
   "outputs": [],
   "source": [
    "frozen_cities = frozenset(cities)"
   ]
  },
  {
   "cell_type": "code",
   "execution_count": 38,
   "id": "6b18c713",
   "metadata": {},
   "outputs": [
    {
     "data": {
      "text/plain": [
       "frozenset({'Bhaktpur', 'Dharan', 'Kathmandu', 'Lalitpur', 'Pokhara', 'kavre'})"
      ]
     },
     "execution_count": 38,
     "metadata": {},
     "output_type": "execute_result"
    }
   ],
   "source": [
    "frozen_cities"
   ]
  },
  {
   "cell_type": "code",
   "execution_count": 39,
   "id": "b47d88cd",
   "metadata": {},
   "outputs": [
    {
     "data": {
      "text/plain": [
       "frozenset"
      ]
     },
     "execution_count": 39,
     "metadata": {},
     "output_type": "execute_result"
    }
   ],
   "source": [
    "type(frozen_cities)"
   ]
  },
  {
   "cell_type": "code",
   "execution_count": 41,
   "id": "d001fb11",
   "metadata": {},
   "outputs": [
    {
     "ename": "AttributeError",
     "evalue": "'frozenset' object has no attribute 'add'",
     "output_type": "error",
     "traceback": [
      "\u001b[1;31m---------------------------------------------------------------------------\u001b[0m",
      "\u001b[1;31mAttributeError\u001b[0m                            Traceback (most recent call last)",
      "Cell \u001b[1;32mIn[41], line 1\u001b[0m\n\u001b[1;32m----> 1\u001b[0m \u001b[43mfrozen_cities\u001b[49m\u001b[38;5;241;43m.\u001b[39;49m\u001b[43madd\u001b[49m(\u001b[38;5;124m\"\u001b[39m\u001b[38;5;124mBiratnagar\u001b[39m\u001b[38;5;124m\"\u001b[39m) \u001b[38;5;66;03m# immutable\u001b[39;00m\n",
      "\u001b[1;31mAttributeError\u001b[0m: 'frozenset' object has no attribute 'add'"
     ]
    }
   ],
   "source": [
    "frozen_cities.add(\"Biratnagar\") # immutable"
   ]
  },
  {
   "cell_type": "code",
   "execution_count": null,
   "id": "14986417",
   "metadata": {},
   "outputs": [],
   "source": []
  }
 ],
 "metadata": {
  "kernelspec": {
   "display_name": "Python 3 (ipykernel)",
   "language": "python",
   "name": "python3"
  },
  "language_info": {
   "codemirror_mode": {
    "name": "ipython",
    "version": 3
   },
   "file_extension": ".py",
   "mimetype": "text/x-python",
   "name": "python",
   "nbconvert_exporter": "python",
   "pygments_lexer": "ipython3",
   "version": "3.8.10"
  }
 },
 "nbformat": 4,
 "nbformat_minor": 5
}
