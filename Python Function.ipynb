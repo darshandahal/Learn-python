{
 "cells": [
  {
   "cell_type": "markdown",
   "id": "82cc9fd4",
   "metadata": {},
   "source": [
    "# Function"
   ]
  },
  {
   "cell_type": "code",
   "execution_count": 7,
   "id": "97ed4d21",
   "metadata": {},
   "outputs": [],
   "source": [
    "def add_two_numbers():\n",
    "    a = 5\n",
    "    b = 2\n",
    "    c = a + b\n",
    "    print(c)\n",
    "    "
   ]
  },
  {
   "cell_type": "code",
   "execution_count": 8,
   "id": "70d86b66",
   "metadata": {},
   "outputs": [
    {
     "name": "stdout",
     "output_type": "stream",
     "text": [
      "7\n"
     ]
    }
   ],
   "source": [
    "add_two_numbers()"
   ]
  },
  {
   "cell_type": "code",
   "execution_count": 9,
   "id": "220441c1",
   "metadata": {},
   "outputs": [],
   "source": [
    "def add_two_numbers(a , b):\n",
    "    c = a + b\n",
    "    print(c)\n",
    "    "
   ]
  },
  {
   "cell_type": "code",
   "execution_count": 10,
   "id": "8a20ec1b",
   "metadata": {},
   "outputs": [
    {
     "name": "stdout",
     "output_type": "stream",
     "text": [
      "40\n"
     ]
    }
   ],
   "source": [
    "add_two_numbers(a=20, b=20)"
   ]
  },
  {
   "cell_type": "code",
   "execution_count": 12,
   "id": "44a1c2fd",
   "metadata": {},
   "outputs": [
    {
     "name": "stdout",
     "output_type": "stream",
     "text": [
      "49\n"
     ]
    }
   ],
   "source": [
    "add_two_numbers(a = 25, b = 24)"
   ]
  },
  {
   "cell_type": "code",
   "execution_count": 13,
   "id": "372570be",
   "metadata": {},
   "outputs": [],
   "source": [
    "def add_two_numbers():\n",
    "    a = int(input(\"enter a number: \"))\n",
    "    b = int(input(\"enter second number: \"))\n",
    "    c = a + b\n",
    "    print(c)"
   ]
  },
  {
   "cell_type": "code",
   "execution_count": 14,
   "id": "2cd24411",
   "metadata": {},
   "outputs": [
    {
     "name": "stdout",
     "output_type": "stream",
     "text": [
      "enter a number: 3\n",
      "enter second number: 3\n",
      "6\n"
     ]
    }
   ],
   "source": [
    "add_two_numbers()"
   ]
  },
  {
   "cell_type": "markdown",
   "id": "870ae0b3",
   "metadata": {},
   "source": [
    "# return statement"
   ]
  },
  {
   "cell_type": "code",
   "execution_count": 30,
   "id": "f224cffe",
   "metadata": {},
   "outputs": [],
   "source": [
    "def add_two_numbers(a , b):\n",
    "    c = a + b\n",
    "    print(c)\n",
    "    "
   ]
  },
  {
   "cell_type": "code",
   "execution_count": 31,
   "id": "52d75f4b",
   "metadata": {},
   "outputs": [
    {
     "name": "stdout",
     "output_type": "stream",
     "text": [
      "5\n"
     ]
    }
   ],
   "source": [
    "total = add_two_numbers(a=2, b=3)"
   ]
  },
  {
   "cell_type": "code",
   "execution_count": 32,
   "id": "1ef2e435",
   "metadata": {},
   "outputs": [],
   "source": [
    "total"
   ]
  },
  {
   "cell_type": "code",
   "execution_count": 33,
   "id": "784f8ced",
   "metadata": {},
   "outputs": [
    {
     "data": {
      "text/plain": [
       "NoneType"
      ]
     },
     "execution_count": 33,
     "metadata": {},
     "output_type": "execute_result"
    }
   ],
   "source": [
    "type(total)"
   ]
  },
  {
   "cell_type": "code",
   "execution_count": 34,
   "id": "5cfb5da5",
   "metadata": {},
   "outputs": [],
   "source": [
    "def add_two_numbers(a , b):\n",
    "    c = a + b\n",
    "    return(c)\n",
    "    "
   ]
  },
  {
   "cell_type": "code",
   "execution_count": 35,
   "id": "800ea1bf",
   "metadata": {},
   "outputs": [],
   "source": [
    "total = add_two_numbers(a=2, b=3)"
   ]
  },
  {
   "cell_type": "code",
   "execution_count": 36,
   "id": "02b93000",
   "metadata": {},
   "outputs": [
    {
     "data": {
      "text/plain": [
       "5"
      ]
     },
     "execution_count": 36,
     "metadata": {},
     "output_type": "execute_result"
    }
   ],
   "source": [
    "total"
   ]
  },
  {
   "cell_type": "markdown",
   "id": "5200e0de",
   "metadata": {},
   "source": [
    "# w a p to calculate volume of sphere\n"
   ]
  },
  {
   "cell_type": "code",
   "execution_count": 46,
   "id": "7997f276",
   "metadata": {},
   "outputs": [],
   "source": [
    "def volume(r):\n",
    "    v = 4/3 * 22/7 * r**3\n",
    "    return(v)"
   ]
  },
  {
   "cell_type": "code",
   "execution_count": 47,
   "id": "7952a72b",
   "metadata": {},
   "outputs": [
    {
     "data": {
      "text/plain": [
       "113.14285714285715"
      ]
     },
     "execution_count": 47,
     "metadata": {},
     "output_type": "execute_result"
    }
   ],
   "source": [
    "volume(r=3)"
   ]
  },
  {
   "cell_type": "code",
   "execution_count": 49,
   "id": "1807706b",
   "metadata": {},
   "outputs": [
    {
     "name": "stdout",
     "output_type": "stream",
     "text": [
      "enter radius of sphere: 3\n",
      "volume of sphere is 113.14285714285715 \n"
     ]
    }
   ],
   "source": [
    "r = int(input(\"enter radius of sphere: \"))\n",
    "v = volume(r)\n",
    "print( f\"volume of sphere is {v} \")"
   ]
  },
  {
   "cell_type": "markdown",
   "id": "50f45bcb",
   "metadata": {},
   "source": [
    "# default vs no-default argument in python"
   ]
  },
  {
   "cell_type": "code",
   "execution_count": 59,
   "id": "e59c2f70",
   "metadata": {},
   "outputs": [],
   "source": [
    "def greet(name, msg):\n",
    "    print( f\"Hi, {name} {msg}\")"
   ]
  },
  {
   "cell_type": "code",
   "execution_count": 60,
   "id": "b47ba1d6",
   "metadata": {},
   "outputs": [
    {
     "name": "stdout",
     "output_type": "stream",
     "text": [
      "Hi, darshan goodnight\n"
     ]
    }
   ],
   "source": [
    "greet(name = \"darshan\", msg  = 'goodnight') # msg is a default argument"
   ]
  },
  {
   "cell_type": "code",
   "execution_count": 61,
   "id": "400dc683",
   "metadata": {},
   "outputs": [],
   "source": [
    "def greet(name, msg = \"goodmorning\"):\n",
    "    print( f\"hi, {name} {msg}\")"
   ]
  },
  {
   "cell_type": "code",
   "execution_count": 62,
   "id": "a8500e0b",
   "metadata": {},
   "outputs": [
    {
     "name": "stdout",
     "output_type": "stream",
     "text": [
      "hi, darshan goodmorning\n"
     ]
    }
   ],
   "source": [
    "greet(name=\"darshan\")"
   ]
  },
  {
   "cell_type": "code",
   "execution_count": 63,
   "id": "2d0489b9",
   "metadata": {},
   "outputs": [
    {
     "name": "stdout",
     "output_type": "stream",
     "text": [
      "hi, darshan goodafternoon\n"
     ]
    }
   ],
   "source": [
    "greet(name=\"darshan\", msg=\"goodafternoon\") # default argument gets overwritten"
   ]
  },
  {
   "cell_type": "code",
   "execution_count": 64,
   "id": "109ac432",
   "metadata": {},
   "outputs": [
    {
     "name": "stdout",
     "output_type": "stream",
     "text": [
      "hi, darshan goodmorning\n"
     ]
    }
   ],
   "source": [
    "greet(name=\"darshan\")"
   ]
  },
  {
   "cell_type": "markdown",
   "id": "c31fc7e1",
   "metadata": {},
   "source": [
    "# non-default argument"
   ]
  },
  {
   "cell_type": "code",
   "execution_count": 66,
   "id": "083b9741",
   "metadata": {},
   "outputs": [
    {
     "ename": "SyntaxError",
     "evalue": "non-default argument follows default argument (3402239948.py, line 1)",
     "output_type": "error",
     "traceback": [
      "\u001b[1;36m  Cell \u001b[1;32mIn[66], line 1\u001b[1;36m\u001b[0m\n\u001b[1;33m    def greet(msg=\"goodmorning\",name): # msg is a default argument. non-default argument follows default argument\u001b[0m\n\u001b[1;37m              ^\u001b[0m\n\u001b[1;31mSyntaxError\u001b[0m\u001b[1;31m:\u001b[0m non-default argument follows default argument\n"
     ]
    }
   ],
   "source": [
    "def greet(msg=\"goodmorning\",name): # msg is a default argument. non-default argument follows default argument\n",
    "\n",
    "    print( f\"Hi, {name} {msg}\")"
   ]
  },
  {
   "cell_type": "code",
   "execution_count": 69,
   "id": "13e7f250",
   "metadata": {},
   "outputs": [
    {
     "ename": "SyntaxError",
     "evalue": "non-default argument follows default argument (3999719191.py, line 1)",
     "output_type": "error",
     "traceback": [
      "\u001b[1;36m  Cell \u001b[1;32mIn[69], line 1\u001b[1;36m\u001b[0m\n\u001b[1;33m    def greet(msg=\"goodmorning\", name):\u001b[0m\n\u001b[1;37m              ^\u001b[0m\n\u001b[1;31mSyntaxError\u001b[0m\u001b[1;31m:\u001b[0m non-default argument follows default argument\n"
     ]
    }
   ],
   "source": [
    "def greet(msg=\"goodmorning\", name):\n",
    "\n",
    "    print( f\" Hi,{msg} {name}\")"
   ]
  },
  {
   "cell_type": "markdown",
   "id": "83daa3b7",
   "metadata": {},
   "source": [
    "# local and global scope of variable"
   ]
  },
  {
   "cell_type": "code",
   "execution_count": 70,
   "id": "0e1f605e",
   "metadata": {},
   "outputs": [],
   "source": [
    "x = 'awesome'\n",
    "def my_function():\n",
    "    x = 'fantastic'\n",
    "    lang = 'python'\n",
    "    print( f\"{x} {lang}\")"
   ]
  },
  {
   "cell_type": "code",
   "execution_count": 71,
   "id": "eb3eac6d",
   "metadata": {},
   "outputs": [
    {
     "data": {
      "text/plain": [
       "'awesome'"
      ]
     },
     "execution_count": 71,
     "metadata": {},
     "output_type": "execute_result"
    }
   ],
   "source": [
    "x # x is a global variable"
   ]
  },
  {
   "cell_type": "code",
   "execution_count": 72,
   "id": "00fc2284",
   "metadata": {},
   "outputs": [
    {
     "ename": "NameError",
     "evalue": "name 'lang' is not defined",
     "output_type": "error",
     "traceback": [
      "\u001b[1;31m---------------------------------------------------------------------------\u001b[0m",
      "\u001b[1;31mNameError\u001b[0m                                 Traceback (most recent call last)",
      "Cell \u001b[1;32mIn[72], line 1\u001b[0m\n\u001b[1;32m----> 1\u001b[0m \u001b[43mlang\u001b[49m\n",
      "\u001b[1;31mNameError\u001b[0m: name 'lang' is not defined"
     ]
    }
   ],
   "source": [
    "lang # lang is local variable of function and it is unknown outside function"
   ]
  },
  {
   "cell_type": "code",
   "execution_count": 74,
   "id": "d34057a3",
   "metadata": {},
   "outputs": [
    {
     "name": "stdout",
     "output_type": "stream",
     "text": [
      "fantastic python\n"
     ]
    }
   ],
   "source": [
    "my_function()"
   ]
  },
  {
   "cell_type": "code",
   "execution_count": 76,
   "id": "ac9e3df2",
   "metadata": {},
   "outputs": [],
   "source": [
    "x = 'awesome'\n",
    "def my_function():\n",
    "    global x\n",
    "    global lang\n",
    "    x = 'fantastic'\n",
    "    lang = 'python'\n",
    "    print( f\"{x} {lang}\")"
   ]
  },
  {
   "cell_type": "code",
   "execution_count": 77,
   "id": "4a62d166",
   "metadata": {},
   "outputs": [
    {
     "data": {
      "text/plain": [
       "'awesome'"
      ]
     },
     "execution_count": 77,
     "metadata": {},
     "output_type": "execute_result"
    }
   ],
   "source": [
    "x"
   ]
  },
  {
   "cell_type": "code",
   "execution_count": 78,
   "id": "781071ce",
   "metadata": {},
   "outputs": [
    {
     "ename": "NameError",
     "evalue": "name 'lang' is not defined",
     "output_type": "error",
     "traceback": [
      "\u001b[1;31m---------------------------------------------------------------------------\u001b[0m",
      "\u001b[1;31mNameError\u001b[0m                                 Traceback (most recent call last)",
      "Cell \u001b[1;32mIn[78], line 1\u001b[0m\n\u001b[1;32m----> 1\u001b[0m \u001b[43mlang\u001b[49m\n",
      "\u001b[1;31mNameError\u001b[0m: name 'lang' is not defined"
     ]
    }
   ],
   "source": [
    "lang"
   ]
  },
  {
   "cell_type": "code",
   "execution_count": 79,
   "id": "31862450",
   "metadata": {},
   "outputs": [
    {
     "name": "stdout",
     "output_type": "stream",
     "text": [
      "fantastic python\n"
     ]
    }
   ],
   "source": [
    "my_function()"
   ]
  },
  {
   "cell_type": "code",
   "execution_count": 80,
   "id": "c746df56",
   "metadata": {},
   "outputs": [
    {
     "data": {
      "text/plain": [
       "'python'"
      ]
     },
     "execution_count": 80,
     "metadata": {},
     "output_type": "execute_result"
    }
   ],
   "source": [
    "lang"
   ]
  },
  {
   "cell_type": "markdown",
   "id": "971a2703",
   "metadata": {},
   "source": [
    "# Multiple return values in function"
   ]
  },
  {
   "cell_type": "code",
   "execution_count": 81,
   "id": "886fd3b0",
   "metadata": {},
   "outputs": [],
   "source": [
    "def arthematic_op(x, y):\n",
    "    total = x+y\n",
    "    diff = x - y\n",
    "    mul = x *y\n",
    "    return total, diff, mul"
   ]
  },
  {
   "cell_type": "code",
   "execution_count": 84,
   "id": "da2cdd7e",
   "metadata": {},
   "outputs": [
    {
     "data": {
      "text/plain": [
       "(3, 1, 2)"
      ]
     },
     "execution_count": 84,
     "metadata": {},
     "output_type": "execute_result"
    }
   ],
   "source": [
    "arthematic_op(2, 1)"
   ]
  },
  {
   "cell_type": "code",
   "execution_count": 86,
   "id": "6c94772a",
   "metadata": {},
   "outputs": [],
   "source": [
    "total, difference, multiplication = arthematic_op(2, 3)"
   ]
  },
  {
   "cell_type": "code",
   "execution_count": 87,
   "id": "2cd09e7d",
   "metadata": {},
   "outputs": [
    {
     "data": {
      "text/plain": [
       "5"
      ]
     },
     "execution_count": 87,
     "metadata": {},
     "output_type": "execute_result"
    }
   ],
   "source": [
    "total"
   ]
  },
  {
   "cell_type": "code",
   "execution_count": 88,
   "id": "fd3428ef",
   "metadata": {},
   "outputs": [
    {
     "data": {
      "text/plain": [
       "-1"
      ]
     },
     "execution_count": 88,
     "metadata": {},
     "output_type": "execute_result"
    }
   ],
   "source": [
    "diff"
   ]
  },
  {
   "cell_type": "code",
   "execution_count": 89,
   "id": "d8795492",
   "metadata": {},
   "outputs": [
    {
     "data": {
      "text/plain": [
       "6"
      ]
     },
     "execution_count": 89,
     "metadata": {},
     "output_type": "execute_result"
    }
   ],
   "source": [
    "mul"
   ]
  },
  {
   "cell_type": "code",
   "execution_count": null,
   "id": "61eb518b",
   "metadata": {},
   "outputs": [],
   "source": []
  }
 ],
 "metadata": {
  "kernelspec": {
   "display_name": "Python 3 (ipykernel)",
   "language": "python",
   "name": "python3"
  },
  "language_info": {
   "codemirror_mode": {
    "name": "ipython",
    "version": 3
   },
   "file_extension": ".py",
   "mimetype": "text/x-python",
   "name": "python",
   "nbconvert_exporter": "python",
   "pygments_lexer": "ipython3",
   "version": "3.8.10"
  }
 },
 "nbformat": 4,
 "nbformat_minor": 5
}
