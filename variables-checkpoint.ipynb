{
 "cells": [
  {
   "cell_type": "markdown",
   "id": "a8715e9f",
   "metadata": {},
   "source": [
    "# Variables names"
   ]
  },
  {
   "cell_type": "markdown",
   "id": "feafb45a",
   "metadata": {},
   "source": [
    "## Python keywords cannot be variables names \n",
    "Pyhton keywords reserved words in python and we cannot use it as a variables."
   ]
  },
  {
   "cell_type": "code",
   "execution_count": 1,
   "id": "0071457c",
   "metadata": {},
   "outputs": [
    {
     "ename": "SyntaxError",
     "evalue": "cannot assign to False (698318733.py, line 1)",
     "output_type": "error",
     "traceback": [
      "\u001b[1;36m  Cell \u001b[1;32mIn[1], line 1\u001b[1;36m\u001b[0m\n\u001b[1;33m    False=2\u001b[0m\n\u001b[1;37m    ^\u001b[0m\n\u001b[1;31mSyntaxError\u001b[0m\u001b[1;31m:\u001b[0m cannot assign to False\n"
     ]
    }
   ],
   "source": [
    "False=2"
   ]
  },
  {
   "cell_type": "code",
   "execution_count": 2,
   "id": "c1628746",
   "metadata": {},
   "outputs": [],
   "source": [
    "flase = 2 #due to case sensitive reasons"
   ]
  },
  {
   "cell_type": "markdown",
   "id": "679fe830",
   "metadata": {},
   "source": [
    "### Python are case sensitive"
   ]
  },
  {
   "cell_type": "markdown",
   "id": "629ffc17",
   "metadata": {},
   "source": [
    "case sensitive: upper case and lower case are dfferent: eg python\n",
    "case insensitive: upper case and lower case are same: eg; SQL"
   ]
  },
  {
   "cell_type": "markdown",
   "id": "2c7f23d1",
   "metadata": {},
   "source": [
    "## Numbers are allowed only after alphabitical character "
   ]
  },
  {
   "cell_type": "code",
   "execution_count": 3,
   "id": "28138851",
   "metadata": {},
   "outputs": [],
   "source": [
    "sam1 = 2"
   ]
  },
  {
   "cell_type": "code",
   "execution_count": 4,
   "id": "f2552bad",
   "metadata": {},
   "outputs": [
    {
     "ename": "SyntaxError",
     "evalue": "invalid syntax (1414294843.py, line 1)",
     "output_type": "error",
     "traceback": [
      "\u001b[1;36m  Cell \u001b[1;32mIn[4], line 1\u001b[1;36m\u001b[0m\n\u001b[1;33m    1sam = 2\u001b[0m\n\u001b[1;37m     ^\u001b[0m\n\u001b[1;31mSyntaxError\u001b[0m\u001b[1;31m:\u001b[0m invalid syntax\n"
     ]
    }
   ],
   "source": [
    "1sam = 2"
   ]
  },
  {
   "cell_type": "markdown",
   "id": "9db3550d",
   "metadata": {},
   "source": [
    "# Format() and F string"
   ]
  },
  {
   "cell_type": "code",
   "execution_count": 6,
   "id": "d1a8ba80",
   "metadata": {},
   "outputs": [
    {
     "name": "stdout",
     "output_type": "stream",
     "text": [
      "the first number is 50\n"
     ]
    }
   ],
   "source": [
    "first_num = 50\n",
    "print( f\"the first number is {first_num}\")"
   ]
  },
  {
   "cell_type": "code",
   "execution_count": 7,
   "id": "4d97784a",
   "metadata": {},
   "outputs": [
    {
     "name": "stdout",
     "output_type": "stream",
     "text": [
      "the sum of 2 and 5 is 7\n"
     ]
    }
   ],
   "source": [
    "a = 2\n",
    "b = 5\n",
    "total = a + b \n",
    "print( f\"the sum of {a} and {b} is {total}\")"
   ]
  },
  {
   "cell_type": "code",
   "execution_count": null,
   "id": "79af48e0",
   "metadata": {},
   "outputs": [],
   "source": []
  }
 ],
 "metadata": {
  "kernelspec": {
   "display_name": "Python 3 (ipykernel)",
   "language": "python",
   "name": "python3"
  },
  "language_info": {
   "codemirror_mode": {
    "name": "ipython",
    "version": 3
   },
   "file_extension": ".py",
   "mimetype": "text/x-python",
   "name": "python",
   "nbconvert_exporter": "python",
   "pygments_lexer": "ipython3",
   "version": "3.8.10"
  }
 },
 "nbformat": 4,
 "nbformat_minor": 5
}
