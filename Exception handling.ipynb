{
 "cells": [
  {
   "cell_type": "code",
   "execution_count": 1,
   "id": "fd68ff5f",
   "metadata": {},
   "outputs": [
    {
     "ename": "ZeroDivisionError",
     "evalue": "division by zero",
     "output_type": "error",
     "traceback": [
      "\u001b[1;31m---------------------------------------------------------------------------\u001b[0m",
      "\u001b[1;31mZeroDivisionError\u001b[0m                         Traceback (most recent call last)",
      "Cell \u001b[1;32mIn[1], line 3\u001b[0m\n\u001b[0;32m      1\u001b[0m a \u001b[38;5;241m=\u001b[39m \u001b[38;5;241m2\u001b[39m\n\u001b[0;32m      2\u001b[0m b \u001b[38;5;241m=\u001b[39m\u001b[38;5;241m0\u001b[39m\n\u001b[1;32m----> 3\u001b[0m c \u001b[38;5;241m=\u001b[39m \u001b[43ma\u001b[49m\u001b[38;5;241;43m/\u001b[39;49m\u001b[43mb\u001b[49m\n\u001b[0;32m      4\u001b[0m \u001b[38;5;28mprint\u001b[39m(c)\n",
      "\u001b[1;31mZeroDivisionError\u001b[0m: division by zero"
     ]
    }
   ],
   "source": [
    "a = 2\n",
    "b =0\n",
    "c = a/b\n",
    "print(c)"
   ]
  },
  {
   "cell_type": "code",
   "execution_count": 2,
   "id": "ce8cb881",
   "metadata": {},
   "outputs": [],
   "source": [
    "# ZeroDivisionError is exception "
   ]
  },
  {
   "cell_type": "markdown",
   "id": "d2f9c445",
   "metadata": {},
   "source": [
    "# try...except...block"
   ]
  },
  {
   "cell_type": "code",
   "execution_count": 3,
   "id": "b447bd92",
   "metadata": {},
   "outputs": [
    {
     "name": "stdout",
     "output_type": "stream",
     "text": [
      "success\n"
     ]
    }
   ],
   "source": [
    "a = 5\n",
    "b = 0\n",
    "\n",
    "try:\n",
    "    c = a/b\n",
    "    print(c)\n",
    "except:\n",
    "    pass\n",
    "print(\"success\")"
   ]
  },
  {
   "cell_type": "code",
   "execution_count": 9,
   "id": "4bf4c01f",
   "metadata": {},
   "outputs": [
    {
     "name": "stdout",
     "output_type": "stream",
     "text": [
      "division by zero\n",
      "success\n"
     ]
    }
   ],
   "source": [
    "a = 5\n",
    "b = 0\n",
    "\n",
    "try:\n",
    "    c = a/b\n",
    "    print(c)\n",
    "except Exception as e:\n",
    "    print(str(e))\n",
    "print(\"success\")"
   ]
  },
  {
   "cell_type": "code",
   "execution_count": 11,
   "id": "b4977afb",
   "metadata": {},
   "outputs": [
    {
     "name": "stdout",
     "output_type": "stream",
     "text": [
      "division by zero\n",
      "success\n"
     ]
    }
   ],
   "source": [
    "a = 5\n",
    "b = 0\n",
    "\n",
    "try:\n",
    "    c = a/b\n",
    "    print(c)\n",
    "except ZeroDivisionError as e:\n",
    "    print(str(e))\n",
    "print(\"success\")"
   ]
  },
  {
   "cell_type": "code",
   "execution_count": 14,
   "id": "0f7e37ee",
   "metadata": {},
   "outputs": [
    {
     "name": "stdout",
     "output_type": "stream",
     "text": [
      "Enter a number; ded\n",
      "Please enter integer num\n",
      "Enter a number; ed\n",
      "Please enter integer num\n",
      "Enter a number; ed\n",
      "Please enter integer num\n",
      "Enter a number; de\n",
      "Please enter integer num\n",
      "Enter a number; ed\n",
      "Please enter integer num\n",
      "Enter a number; ded\n",
      "Please enter integer num\n",
      "Enter a number; de\n",
      "Please enter integer num\n",
      "Enter a number; 3\n"
     ]
    }
   ],
   "source": [
    "condition = True\n",
    "while condition:\n",
    "    try:\n",
    "        user_input = int(input(\"Enter a number; \"))\n",
    "        condition = False\n",
    "    except Exception as e:\n",
    "        print(\"Please enter integer num\")"
   ]
  },
  {
   "cell_type": "code",
   "execution_count": null,
   "id": "397eed77",
   "metadata": {},
   "outputs": [],
   "source": []
  }
 ],
 "metadata": {
  "kernelspec": {
   "display_name": "Python 3 (ipykernel)",
   "language": "python",
   "name": "python3"
  },
  "language_info": {
   "codemirror_mode": {
    "name": "ipython",
    "version": 3
   },
   "file_extension": ".py",
   "mimetype": "text/x-python",
   "name": "python",
   "nbconvert_exporter": "python",
   "pygments_lexer": "ipython3",
   "version": "3.8.10"
  }
 },
 "nbformat": 4,
 "nbformat_minor": 5
}
