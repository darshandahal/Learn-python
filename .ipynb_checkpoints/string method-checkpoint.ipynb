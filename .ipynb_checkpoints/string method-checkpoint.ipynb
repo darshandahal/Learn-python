{
 "cells": [
  {
   "cell_type": "code",
   "execution_count": 1,
   "id": "853773ff",
   "metadata": {},
   "outputs": [],
   "source": [
    "name = 'd@rsh@n'"
   ]
  },
  {
   "cell_type": "code",
   "execution_count": 2,
   "id": "b203c010",
   "metadata": {},
   "outputs": [
    {
     "data": {
      "text/plain": [
       "'d@rsh@n'"
      ]
     },
     "execution_count": 2,
     "metadata": {},
     "output_type": "execute_result"
    }
   ],
   "source": [
    "name"
   ]
  },
  {
   "cell_type": "code",
   "execution_count": 4,
   "id": "dba9fb85",
   "metadata": {},
   "outputs": [
    {
     "data": {
      "text/plain": [
       "'@'"
      ]
     },
     "execution_count": 4,
     "metadata": {},
     "output_type": "execute_result"
    }
   ],
   "source": [
    "name[1]"
   ]
  },
  {
   "cell_type": "code",
   "execution_count": 7,
   "id": "362d0d26",
   "metadata": {},
   "outputs": [
    {
     "ename": "TypeError",
     "evalue": "'str' object does not support item assignment",
     "output_type": "error",
     "traceback": [
      "\u001b[1;31m---------------------------------------------------------------------------\u001b[0m",
      "\u001b[1;31mTypeError\u001b[0m                                 Traceback (most recent call last)",
      "Cell \u001b[1;32mIn[7], line 1\u001b[0m\n\u001b[1;32m----> 1\u001b[0m \u001b[43mname\u001b[49m\u001b[43m[\u001b[49m\u001b[38;5;241;43m1\u001b[39;49m\u001b[43m]\u001b[49m \u001b[38;5;241m=\u001b[39m \u001b[38;5;124m'\u001b[39m\u001b[38;5;124ma\u001b[39m\u001b[38;5;124m'\u001b[39m \u001b[38;5;66;03m# string is immutable datatype\u001b[39;00m\n",
      "\u001b[1;31mTypeError\u001b[0m: 'str' object does not support item assignment"
     ]
    }
   ],
   "source": [
    "name[1] = 'a' # string is immutable datatype"
   ]
  },
  {
   "cell_type": "code",
   "execution_count": 8,
   "id": "cb98efee",
   "metadata": {},
   "outputs": [
    {
     "data": {
      "text/plain": [
       "'darshan'"
      ]
     },
     "execution_count": 8,
     "metadata": {},
     "output_type": "execute_result"
    }
   ],
   "source": [
    "name.replace(\"@\", \"a\")"
   ]
  },
  {
   "cell_type": "code",
   "execution_count": 9,
   "id": "b2fdf4e0",
   "metadata": {},
   "outputs": [
    {
     "data": {
      "text/plain": [
       "'d@rsh@n'"
      ]
     },
     "execution_count": 9,
     "metadata": {},
     "output_type": "execute_result"
    }
   ],
   "source": [
    "name"
   ]
  },
  {
   "cell_type": "code",
   "execution_count": 10,
   "id": "beae3e11",
   "metadata": {},
   "outputs": [],
   "source": [
    "name = name.replace(\"@\", \"a\")"
   ]
  },
  {
   "cell_type": "code",
   "execution_count": 11,
   "id": "60b7263a",
   "metadata": {},
   "outputs": [
    {
     "data": {
      "text/plain": [
       "'darshan'"
      ]
     },
     "execution_count": 11,
     "metadata": {},
     "output_type": "execute_result"
    }
   ],
   "source": [
    "name"
   ]
  },
  {
   "cell_type": "code",
   "execution_count": 23,
   "id": "f579bd7f",
   "metadata": {},
   "outputs": [],
   "source": [
    "text = 'happy new year'"
   ]
  },
  {
   "cell_type": "code",
   "execution_count": 24,
   "id": "ce267f5d",
   "metadata": {},
   "outputs": [
    {
     "data": {
      "text/plain": [
       "'amazing new year'"
      ]
     },
     "execution_count": 24,
     "metadata": {},
     "output_type": "execute_result"
    }
   ],
   "source": [
    "text.replace(\"happy\", \"amazing\")"
   ]
  },
  {
   "cell_type": "code",
   "execution_count": 12,
   "id": "c48da78a",
   "metadata": {},
   "outputs": [],
   "source": [
    "# this prove the string are immutable"
   ]
  },
  {
   "cell_type": "markdown",
   "id": "ade415ee",
   "metadata": {},
   "source": [
    "# upper() and lower()"
   ]
  },
  {
   "cell_type": "code",
   "execution_count": 16,
   "id": "ad557771",
   "metadata": {},
   "outputs": [],
   "source": [
    "msg = \"HAPPY HOLI\""
   ]
  },
  {
   "cell_type": "code",
   "execution_count": 17,
   "id": "ee633711",
   "metadata": {},
   "outputs": [
    {
     "data": {
      "text/plain": [
       "'happy holi'"
      ]
     },
     "execution_count": 17,
     "metadata": {},
     "output_type": "execute_result"
    }
   ],
   "source": [
    "msg.lower()"
   ]
  },
  {
   "cell_type": "code",
   "execution_count": 18,
   "id": "9d6ba799",
   "metadata": {},
   "outputs": [
    {
     "data": {
      "text/plain": [
       "'HAPPY HOLI'"
      ]
     },
     "execution_count": 18,
     "metadata": {},
     "output_type": "execute_result"
    }
   ],
   "source": [
    "msg"
   ]
  },
  {
   "cell_type": "code",
   "execution_count": 19,
   "id": "606e89c5",
   "metadata": {},
   "outputs": [],
   "source": [
    "text = 'fkjghdldbhfdgkj'"
   ]
  },
  {
   "cell_type": "code",
   "execution_count": 20,
   "id": "4c82d0ce",
   "metadata": {},
   "outputs": [
    {
     "data": {
      "text/plain": [
       "'FKJGHDLDBHFDGKJ'"
      ]
     },
     "execution_count": 20,
     "metadata": {},
     "output_type": "execute_result"
    }
   ],
   "source": [
    "text.upper()"
   ]
  },
  {
   "cell_type": "markdown",
   "id": "88cb918f",
   "metadata": {},
   "source": [
    "# split()"
   ]
  },
  {
   "cell_type": "code",
   "execution_count": 25,
   "id": "e97fe923",
   "metadata": {},
   "outputs": [],
   "source": [
    "review = \"I like to eat food\""
   ]
  },
  {
   "cell_type": "code",
   "execution_count": 26,
   "id": "97b993c8",
   "metadata": {},
   "outputs": [],
   "source": [
    "words = review.split(\" \")"
   ]
  },
  {
   "cell_type": "code",
   "execution_count": 27,
   "id": "0c48d66d",
   "metadata": {},
   "outputs": [
    {
     "data": {
      "text/plain": [
       "['I', 'like', 'to', 'eat', 'food']"
      ]
     },
     "execution_count": 27,
     "metadata": {},
     "output_type": "execute_result"
    }
   ],
   "source": [
    "words"
   ]
  },
  {
   "cell_type": "code",
   "execution_count": 28,
   "id": "e3e10f10",
   "metadata": {},
   "outputs": [
    {
     "data": {
      "text/plain": [
       "list"
      ]
     },
     "execution_count": 28,
     "metadata": {},
     "output_type": "execute_result"
    }
   ],
   "source": [
    "type(words)"
   ]
  },
  {
   "cell_type": "markdown",
   "id": "2dba801a",
   "metadata": {},
   "source": [
    "# strip(), lstrip(), rstrip()"
   ]
  },
  {
   "cell_type": "code",
   "execution_count": 33,
   "id": "64978c4f",
   "metadata": {},
   "outputs": [],
   "source": [
    "review = \"   junk food   \""
   ]
  },
  {
   "cell_type": "code",
   "execution_count": 34,
   "id": "68c8fca1",
   "metadata": {},
   "outputs": [
    {
     "data": {
      "text/plain": [
       "'junk food   '"
      ]
     },
     "execution_count": 34,
     "metadata": {},
     "output_type": "execute_result"
    }
   ],
   "source": [
    "review.lstrip()"
   ]
  },
  {
   "cell_type": "code",
   "execution_count": 35,
   "id": "d5ca4ac6",
   "metadata": {},
   "outputs": [
    {
     "data": {
      "text/plain": [
       "'   junk food'"
      ]
     },
     "execution_count": 35,
     "metadata": {},
     "output_type": "execute_result"
    }
   ],
   "source": [
    "review.rstrip()"
   ]
  },
  {
   "cell_type": "code",
   "execution_count": 36,
   "id": "f57b5b8f",
   "metadata": {},
   "outputs": [
    {
     "data": {
      "text/plain": [
       "'junk food'"
      ]
     },
     "execution_count": 36,
     "metadata": {},
     "output_type": "execute_result"
    }
   ],
   "source": [
    "review.strip()"
   ]
  },
  {
   "cell_type": "code",
   "execution_count": null,
   "id": "327a6a4e",
   "metadata": {},
   "outputs": [],
   "source": []
  }
 ],
 "metadata": {
  "kernelspec": {
   "display_name": "Python 3 (ipykernel)",
   "language": "python",
   "name": "python3"
  },
  "language_info": {
   "codemirror_mode": {
    "name": "ipython",
    "version": 3
   },
   "file_extension": ".py",
   "mimetype": "text/x-python",
   "name": "python",
   "nbconvert_exporter": "python",
   "pygments_lexer": "ipython3",
   "version": "3.8.10"
  }
 },
 "nbformat": 4,
 "nbformat_minor": 5
}
