{
 "cells": [
  {
   "cell_type": "markdown",
   "id": "5002acbb",
   "metadata": {},
   "source": [
    "# Logical operator in python"
   ]
  },
  {
   "cell_type": "code",
   "execution_count": 4,
   "id": "b15eec82",
   "metadata": {},
   "outputs": [
    {
     "name": "stdout",
     "output_type": "stream",
     "text": [
      "Enter weight 3\n",
      "Enter height in meter 3\n",
      "under weight\n"
     ]
    }
   ],
   "source": [
    "w = int(input(\"Enter weight \"))\n",
    "h = int(input(\"Enter height in meter \"))\n",
    "BMI = w/h**2\n",
    "\n",
    "\n",
    "if BMI < 18.5:\n",
    "    print(\"under weight\")\n",
    "\n",
    "elif BMI >= 18.5 and BIM <= 24.9:\n",
    "    print(\"normal weight\")\n",
    "\n",
    "elif BIM >= 25 and BIM <= 29.9:\n",
    "    print(\"over weight\")\n",
    "\n",
    "else:\n",
    "    print(\"obsity\")"
   ]
  },
  {
   "cell_type": "code",
   "execution_count": null,
   "id": "66404ef3",
   "metadata": {},
   "outputs": [],
   "source": []
  }
 ],
 "metadata": {
  "kernelspec": {
   "display_name": "Python 3 (ipykernel)",
   "language": "python",
   "name": "python3"
  },
  "language_info": {
   "codemirror_mode": {
    "name": "ipython",
    "version": 3
   },
   "file_extension": ".py",
   "mimetype": "text/x-python",
   "name": "python",
   "nbconvert_exporter": "python",
   "pygments_lexer": "ipython3",
   "version": "3.8.10"
  }
 },
 "nbformat": 4,
 "nbformat_minor": 5
}
