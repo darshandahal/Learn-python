{
 "cells": [
  {
   "cell_type": "markdown",
   "id": "32497a4e",
   "metadata": {},
   "source": [
    "# Inheritance\n",
    "* Base class, Parent class and Super class are same\n",
    "* Derived class, child class ans sub-class are same"
   ]
  },
  {
   "cell_type": "code",
   "execution_count": 1,
   "id": "155264cd",
   "metadata": {},
   "outputs": [],
   "source": [
    "class Computer:\n",
    "    def __init__(self, model_name):\n",
    "        self.model_name = model_name\n",
    "    \n",
    "class Mobile:\n",
    "    def __init__(self, has_flash):\n",
    "        self.has_flash = has_flash"
   ]
  },
  {
   "cell_type": "code",
   "execution_count": 2,
   "id": "67151248",
   "metadata": {},
   "outputs": [],
   "source": [
    "mo = Mobile(has_flash = True)"
   ]
  },
  {
   "cell_type": "code",
   "execution_count": 3,
   "id": "cde5127d",
   "metadata": {},
   "outputs": [
    {
     "data": {
      "text/plain": [
       "True"
      ]
     },
     "execution_count": 3,
     "metadata": {},
     "output_type": "execute_result"
    }
   ],
   "source": [
    "mo.has_flash"
   ]
  },
  {
   "cell_type": "code",
   "execution_count": 4,
   "id": "5b94c52f",
   "metadata": {},
   "outputs": [],
   "source": [
    "class Computer:\n",
    "    def __init__(self, model_name):\n",
    "        self.model_name = model_name\n",
    "    \n",
    "class Mobile(Computer):\n",
    "    def __init__(self, has_flash, model_name):\n",
    "        super().__init__(model_name)\n",
    "        self.has_flash = has_flash"
   ]
  },
  {
   "cell_type": "markdown",
   "id": "85bd5314",
   "metadata": {},
   "source": [
    "mo = Mobile(True, \"iphone\")"
   ]
  },
  {
   "cell_type": "code",
   "execution_count": 6,
   "id": "96673a55",
   "metadata": {},
   "outputs": [
    {
     "data": {
      "text/plain": [
       "'iphone'"
      ]
     },
     "execution_count": 6,
     "metadata": {},
     "output_type": "execute_result"
    }
   ],
   "source": [
    "mo.model_name"
   ]
  },
  {
   "cell_type": "code",
   "execution_count": 16,
   "id": "0f9249f8",
   "metadata": {},
   "outputs": [],
   "source": [
    "class Computer:\n",
    "    def __init__(self, model_name):\n",
    "        self.model_name = model_name\n",
    "        self.screen = \"LED\"\n",
    "        self.display = \"HD\"\n",
    "    \n",
    "class Mobile(Computer):\n",
    "    def __init__(self, has_flash, model_name):\n",
    "        super().__init__(model_name)\n",
    "        self.has_flash = has_flash"
   ]
  },
  {
   "cell_type": "code",
   "execution_count": 17,
   "id": "cd5507e5",
   "metadata": {},
   "outputs": [],
   "source": [
    "mo = Mobile(True, \"iphone\")"
   ]
  },
  {
   "cell_type": "code",
   "execution_count": 18,
   "id": "7c2b20b0",
   "metadata": {},
   "outputs": [
    {
     "data": {
      "text/plain": [
       "'LED'"
      ]
     },
     "execution_count": 18,
     "metadata": {},
     "output_type": "execute_result"
    }
   ],
   "source": [
    "mo.screen"
   ]
  },
  {
   "cell_type": "code",
   "execution_count": 19,
   "id": "0b23db20",
   "metadata": {},
   "outputs": [
    {
     "data": {
      "text/plain": [
       "True"
      ]
     },
     "execution_count": 19,
     "metadata": {},
     "output_type": "execute_result"
    }
   ],
   "source": [
    "mo.has_flash"
   ]
  },
  {
   "cell_type": "code",
   "execution_count": 20,
   "id": "9b271dd5",
   "metadata": {},
   "outputs": [
    {
     "data": {
      "text/plain": [
       "'HD'"
      ]
     },
     "execution_count": 20,
     "metadata": {},
     "output_type": "execute_result"
    }
   ],
   "source": [
    "mo.display"
   ]
  },
  {
   "cell_type": "code",
   "execution_count": 1,
   "id": "4eb72d16",
   "metadata": {},
   "outputs": [],
   "source": [
    "class A:\n",
    "    def __init__(self):\n",
    "        self.name = \"darshan\"\n",
    "class B:\n",
    "    def __init__(self):\n",
    "        self.address = \"rampur\"\n",
    "        "
   ]
  },
  {
   "cell_type": "code",
   "execution_count": 7,
   "id": "bbe1caa5",
   "metadata": {},
   "outputs": [],
   "source": [
    "obj = B()"
   ]
  },
  {
   "cell_type": "code",
   "execution_count": 8,
   "id": "f0a6fd05",
   "metadata": {},
   "outputs": [
    {
     "data": {
      "text/plain": [
       "'rampur'"
      ]
     },
     "execution_count": 8,
     "metadata": {},
     "output_type": "execute_result"
    }
   ],
   "source": [
    "obj.address"
   ]
  },
  {
   "cell_type": "code",
   "execution_count": 9,
   "id": "7f5737db",
   "metadata": {},
   "outputs": [],
   "source": [
    "obj2 = A()"
   ]
  },
  {
   "cell_type": "code",
   "execution_count": 10,
   "id": "0d60db9c",
   "metadata": {},
   "outputs": [
    {
     "data": {
      "text/plain": [
       "'darshan'"
      ]
     },
     "execution_count": 10,
     "metadata": {},
     "output_type": "execute_result"
    }
   ],
   "source": [
    "obj2.name"
   ]
  },
  {
   "cell_type": "code",
   "execution_count": 11,
   "id": "78cb6bd7",
   "metadata": {},
   "outputs": [],
   "source": [
    "class father:\n",
    "    def __init__(self):\n",
    "        self.f_name = \"ram\"\n",
    "    def display(self):\n",
    "        print(\"This is father class called by child class\")\n",
    "class mother:\n",
    "    def __init__(self):\n",
    "        self.m_name = \"sita\"\n",
    "class children(father, mother):\n",
    "    def __init__(self):\n",
    "        self.child_name = \"luv kush\"\n",
    "        father.__init__(self)\n",
    "        mother.__init__(self)\n"
   ]
  },
  {
   "cell_type": "code",
   "execution_count": 12,
   "id": "c31974f4",
   "metadata": {},
   "outputs": [],
   "source": [
    "ch1 = children()"
   ]
  },
  {
   "cell_type": "code",
   "execution_count": 13,
   "id": "ccae5489",
   "metadata": {},
   "outputs": [
    {
     "data": {
      "text/plain": [
       "'ram'"
      ]
     },
     "execution_count": 13,
     "metadata": {},
     "output_type": "execute_result"
    }
   ],
   "source": [
    "ch1.f_name"
   ]
  },
  {
   "cell_type": "code",
   "execution_count": 14,
   "id": "541f3ca9",
   "metadata": {},
   "outputs": [
    {
     "data": {
      "text/plain": [
       "'sita'"
      ]
     },
     "execution_count": 14,
     "metadata": {},
     "output_type": "execute_result"
    }
   ],
   "source": [
    "ch1.m_name"
   ]
  },
  {
   "cell_type": "code",
   "execution_count": 15,
   "id": "e59d0462",
   "metadata": {},
   "outputs": [
    {
     "data": {
      "text/plain": [
       "'luv kush'"
      ]
     },
     "execution_count": 15,
     "metadata": {},
     "output_type": "execute_result"
    }
   ],
   "source": [
    "ch1.child_name"
   ]
  },
  {
   "cell_type": "code",
   "execution_count": 16,
   "id": "4635b512",
   "metadata": {},
   "outputs": [
    {
     "data": {
      "text/plain": [
       "<bound method father.display of <__main__.children object at 0x000001E194E9D5B0>>"
      ]
     },
     "execution_count": 16,
     "metadata": {},
     "output_type": "execute_result"
    }
   ],
   "source": [
    "ch1.display"
   ]
  },
  {
   "cell_type": "markdown",
   "id": "88171d2f",
   "metadata": {},
   "source": [
    "# multilevel inheritence"
   ]
  },
  {
   "cell_type": "code",
   "execution_count": null,
   "id": "3844a2bf",
   "metadata": {},
   "outputs": [],
   "source": []
  }
 ],
 "metadata": {
  "kernelspec": {
   "display_name": "Python 3 (ipykernel)",
   "language": "python",
   "name": "python3"
  },
  "language_info": {
   "codemirror_mode": {
    "name": "ipython",
    "version": 3
   },
   "file_extension": ".py",
   "mimetype": "text/x-python",
   "name": "python",
   "nbconvert_exporter": "python",
   "pygments_lexer": "ipython3",
   "version": "3.8.10"
  }
 },
 "nbformat": 4,
 "nbformat_minor": 5
}
