{
 "cells": [
  {
   "cell_type": "markdown",
   "id": "50da6f28",
   "metadata": {},
   "source": [
    "# File handling\n",
    "* open()\n",
    "* close()\n",
    "\n",
    "Different modes to open a file:\n",
    "* read():   'r'\n",
    "* write():  'w'\n",
    "* append():  'a'\n",
    "* create():  'x'"
   ]
  },
  {
   "cell_type": "code",
   "execution_count": 1,
   "id": "c912cbc3",
   "metadata": {},
   "outputs": [
    {
     "name": "stdout",
     "output_type": "stream",
     "text": [
      "Lorem Ipsum is simply dummy text of the printing and typesetting industry. Lorem Ipsum has been the industry's standard dummy text ever since the 1500s, when an unknown printer took a galley of type and scrambled it to make a type specimen book. It has survived not only five centuries, but also the leap into electronic typesetting, remaining essentially unchanged. It was popularised in the 1960s with the release of Letraset sheets containing Lorem Ipsum passages, and more recently with desktop publishing software like Aldus PageMaker including versions of Lorem Ipsum.s\n"
     ]
    }
   ],
   "source": [
    "file = open('read.text', 'r')\n",
    "text = file.read()\n",
    "print(text)"
   ]
  },
  {
   "cell_type": "code",
   "execution_count": 2,
   "id": "24181e82",
   "metadata": {},
   "outputs": [
    {
     "data": {
      "text/plain": [
       "575"
      ]
     },
     "execution_count": 2,
     "metadata": {},
     "output_type": "execute_result"
    }
   ],
   "source": [
    "len(text)"
   ]
  },
  {
   "cell_type": "code",
   "execution_count": 4,
   "id": "f48c3f2c",
   "metadata": {},
   "outputs": [
    {
     "data": {
      "text/plain": [
       "'o'"
      ]
     },
     "execution_count": 4,
     "metadata": {},
     "output_type": "execute_result"
    }
   ],
   "source": [
    "text[1]"
   ]
  },
  {
   "cell_type": "code",
   "execution_count": 5,
   "id": "3960337b",
   "metadata": {},
   "outputs": [
    {
     "name": "stdout",
     "output_type": "stream",
     "text": [
      "[\"Lorem Ipsum is simply dummy text of the printing and typesetting industry. Lorem Ipsum has been the industry's standard dummy text ever since the 1500s, when an unknown printer took a galley of type and scrambled it to make a type specimen book. It has survived not only five centuries, but also the leap into electronic typesetting, remaining essentially unchanged. It was popularised in the 1960s with the release of Letraset sheets containing Lorem Ipsum passages, and more recently with desktop publishing software like Aldus PageMaker including versions of Lorem Ipsum.s\"]\n"
     ]
    }
   ],
   "source": [
    "file = open('read.text', 'r')\n",
    "text = file.readlines() #paragraph\n",
    "print(text)"
   ]
  },
  {
   "cell_type": "code",
   "execution_count": 6,
   "id": "cac70362",
   "metadata": {},
   "outputs": [
    {
     "name": "stdout",
     "output_type": "stream",
     "text": [
      "Lorem Ipsum is simply dummy text of the printing and typesetting industry. Lorem Ipsum has been the industry's standard dummy text ever since the 1500s, when an unknown printer took a galley of type and scrambled it to make a type specimen book. It has survived not only five centuries, but also the leap into electronic typesetting, remaining essentially unchanged. It was popularised in the 1960s with the release of Letraset sheets containing Lorem Ipsum passages, and more recently with desktop publishing software like Aldus PageMaker including versions of Lorem Ipsum.s\n"
     ]
    }
   ],
   "source": [
    "file = open('read.text', 'r')\n",
    "text = file.readline() # first paragraph\n",
    "print(text)"
   ]
  },
  {
   "cell_type": "code",
   "execution_count": 7,
   "id": "87a990d3",
   "metadata": {},
   "outputs": [
    {
     "data": {
      "text/plain": [
       "'m'"
      ]
     },
     "execution_count": 7,
     "metadata": {},
     "output_type": "execute_result"
    }
   ],
   "source": [
    "text[4]"
   ]
  },
  {
   "cell_type": "markdown",
   "id": "b1031651",
   "metadata": {},
   "source": [
    "# you should close the file after opening"
   ]
  },
  {
   "cell_type": "code",
   "execution_count": 9,
   "id": "67b42647",
   "metadata": {},
   "outputs": [],
   "source": [
    "file = open('read.text', 'r')\n",
    "text = file.read()\n",
    "file.close()"
   ]
  },
  {
   "cell_type": "code",
   "execution_count": 10,
   "id": "493a392b",
   "metadata": {},
   "outputs": [
    {
     "data": {
      "text/plain": [
       "\"Lorem Ipsum is simply dummy text of the printing and typesetting industry. Lorem Ipsum has been the industry's standard dummy text ever since the 1500s, when an unknown printer took a galley of type and scrambled it to make a type specimen book. It has survived not only five centuries, but also the leap into electronic typesetting, remaining essentially unchanged. It was popularised in the 1960s with the release of Letraset sheets containing Lorem Ipsum passages, and more recently with desktop publishing software like Aldus PageMaker including versions of Lorem Ipsum.s\""
      ]
     },
     "execution_count": 10,
     "metadata": {},
     "output_type": "execute_result"
    }
   ],
   "source": [
    "text"
   ]
  },
  {
   "cell_type": "markdown",
   "id": "1c7619a9",
   "metadata": {},
   "source": [
    "# alternative and preferd way"
   ]
  },
  {
   "cell_type": "code",
   "execution_count": 11,
   "id": "e4787fc4",
   "metadata": {},
   "outputs": [],
   "source": [
    "with open('read.text', 'r') as file:\n",
    "    text = file.read()"
   ]
  },
  {
   "cell_type": "code",
   "execution_count": 12,
   "id": "23b835a6",
   "metadata": {},
   "outputs": [
    {
     "data": {
      "text/plain": [
       "\"Lorem Ipsum is simply dummy text of the printing and typesetting industry. Lorem Ipsum has been the industry's standard dummy text ever since the 1500s, when an unknown printer took a galley of type and scrambled it to make a type specimen book. It has survived not only five centuries, but also the leap into electronic typesetting, remaining essentially unchanged. It was popularised in the 1960s with the release of Letraset sheets containing Lorem Ipsum passages, and more recently with desktop publishing software like Aldus PageMaker including versions of Lorem Ipsum.s\""
      ]
     },
     "execution_count": 12,
     "metadata": {},
     "output_type": "execute_result"
    }
   ],
   "source": [
    "text"
   ]
  },
  {
   "cell_type": "markdown",
   "id": "e656d12e",
   "metadata": {},
   "source": [
    "# write mode : new file is created if file doesnot exist. if exist replace and create new one"
   ]
  },
  {
   "cell_type": "code",
   "execution_count": 13,
   "id": "44857f61",
   "metadata": {},
   "outputs": [],
   "source": [
    "with open('brandnew.txt', 'w') as file:\n",
    "    file.write(\"yo file exist garthiyana ani maile naya banaideya\")"
   ]
  },
  {
   "cell_type": "code",
   "execution_count": 14,
   "id": "0ff49846",
   "metadata": {},
   "outputs": [],
   "source": [
    "with open('brandnew.txt', 'r') as file:\n",
    "    txt = file.read()"
   ]
  },
  {
   "cell_type": "code",
   "execution_count": 15,
   "id": "417a7777",
   "metadata": {},
   "outputs": [
    {
     "name": "stdout",
     "output_type": "stream",
     "text": [
      "yo file exist garthiyana ani maile naya banaideya\n"
     ]
    }
   ],
   "source": [
    "print(txt)"
   ]
  },
  {
   "cell_type": "code",
   "execution_count": 16,
   "id": "4b4bf92f",
   "metadata": {},
   "outputs": [],
   "source": [
    "# brandnew.txt aaile exist garxa maile tesma feri write garna khoxu"
   ]
  },
  {
   "cell_type": "code",
   "execution_count": 18,
   "id": "a653c624",
   "metadata": {},
   "outputs": [],
   "source": [
    "with open('brandnwe.txt', 'w') as file:\n",
    "    file.write(\"yo file exist garthiyo. maile replace garerw tesma text thapey in write\")"
   ]
  },
  {
   "cell_type": "code",
   "execution_count": 19,
   "id": "3244dc25",
   "metadata": {},
   "outputs": [],
   "source": [
    "with open('brandnew.txt', 'r') as file:\n",
    "    txt = file.read()"
   ]
  },
  {
   "cell_type": "code",
   "execution_count": 20,
   "id": "3760129f",
   "metadata": {},
   "outputs": [
    {
     "name": "stdout",
     "output_type": "stream",
     "text": [
      "yo file exist garthiyana ani maile naya banaideya\n"
     ]
    }
   ],
   "source": [
    "print(txt)"
   ]
  },
  {
   "cell_type": "markdown",
   "id": "e2795635",
   "metadata": {},
   "source": [
    "# append mode: creates a new file if it doesnt exist. if exist append to existing file"
   ]
  },
  {
   "cell_type": "code",
   "execution_count": 21,
   "id": "7bd9c230",
   "metadata": {},
   "outputs": [],
   "source": [
    "with open('append.txt', 'a') as file:\n",
    "    file.write(\"append mode creates a new file if it doesnt exist\")"
   ]
  },
  {
   "cell_type": "code",
   "execution_count": 22,
   "id": "3a60991c",
   "metadata": {},
   "outputs": [],
   "source": [
    "with open('append.txt', 'r') as file:\n",
    "    txt = file.read()"
   ]
  },
  {
   "cell_type": "code",
   "execution_count": 23,
   "id": "6103aa42",
   "metadata": {},
   "outputs": [
    {
     "name": "stdout",
     "output_type": "stream",
     "text": [
      "append mode creates a new file if it doesnt exist\n"
     ]
    }
   ],
   "source": [
    "print(txt)"
   ]
  },
  {
   "cell_type": "code",
   "execution_count": 24,
   "id": "9cad6c8a",
   "metadata": {},
   "outputs": [],
   "source": [
    "with open('append.txt', 'a') as file:\n",
    "    file.write(\" append mode appends a new text in existing one if the file exist\")"
   ]
  },
  {
   "cell_type": "code",
   "execution_count": 25,
   "id": "e62b862f",
   "metadata": {},
   "outputs": [],
   "source": [
    "with open(\"append.txt\", 'r') as file:\n",
    "    txt = file.read()"
   ]
  },
  {
   "cell_type": "code",
   "execution_count": 26,
   "id": "80440cd0",
   "metadata": {},
   "outputs": [
    {
     "name": "stdout",
     "output_type": "stream",
     "text": [
      "append mode creates a new file if it doesnt exist append mode appends a new text in existing one if the file exist\n"
     ]
    }
   ],
   "source": [
    "print(txt)"
   ]
  },
  {
   "cell_type": "markdown",
   "id": "ceab5fa2",
   "metadata": {},
   "source": [
    "# assignment creat mode"
   ]
  },
  {
   "cell_type": "code",
   "execution_count": null,
   "id": "f4340c21",
   "metadata": {},
   "outputs": [],
   "source": []
  }
 ],
 "metadata": {
  "kernelspec": {
   "display_name": "Python 3 (ipykernel)",
   "language": "python",
   "name": "python3"
  },
  "language_info": {
   "codemirror_mode": {
    "name": "ipython",
    "version": 3
   },
   "file_extension": ".py",
   "mimetype": "text/x-python",
   "name": "python",
   "nbconvert_exporter": "python",
   "pygments_lexer": "ipython3",
   "version": "3.8.10"
  }
 },
 "nbformat": 4,
 "nbformat_minor": 5
}
