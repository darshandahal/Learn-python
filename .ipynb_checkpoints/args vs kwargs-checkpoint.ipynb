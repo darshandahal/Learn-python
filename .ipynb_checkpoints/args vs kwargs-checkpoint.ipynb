{
 "cells": [
  {
   "cell_type": "code",
   "execution_count": 1,
   "id": "c7478b61",
   "metadata": {},
   "outputs": [],
   "source": [
    "def add(x1,x2):  # sum only two numbers\n",
    "    return x1 + x2"
   ]
  },
  {
   "cell_type": "code",
   "execution_count": 3,
   "id": "e75bc61c",
   "metadata": {},
   "outputs": [],
   "source": [
    "# what if i want to sum n numbers? just like calculator\n"
   ]
  },
  {
   "cell_type": "code",
   "execution_count": 4,
   "id": "f3048894",
   "metadata": {},
   "outputs": [],
   "source": [
    "def add(*args):\n",
    "    print(type(args))\n",
    "    print(args)"
   ]
  },
  {
   "cell_type": "code",
   "execution_count": 5,
   "id": "67d1061c",
   "metadata": {},
   "outputs": [
    {
     "name": "stdout",
     "output_type": "stream",
     "text": [
      "<class 'tuple'>\n",
      "(1, 2, 3, 4, 5, 55, 5)\n"
     ]
    }
   ],
   "source": [
    "add(1,2,3,4,5,55,5)"
   ]
  },
  {
   "cell_type": "code",
   "execution_count": 8,
   "id": "d6be9e5e",
   "metadata": {},
   "outputs": [],
   "source": [
    "def add(*args):\n",
    "    total = 0\n",
    "    for items in args:\n",
    "        total = total + items\n",
    "        \n",
    "    return total"
   ]
  },
  {
   "cell_type": "code",
   "execution_count": 9,
   "id": "870977c8",
   "metadata": {},
   "outputs": [
    {
     "data": {
      "text/plain": [
       "75"
      ]
     },
     "execution_count": 9,
     "metadata": {},
     "output_type": "execute_result"
    }
   ],
   "source": [
    "add(1,2,3,4,5,55,5)"
   ]
  },
  {
   "cell_type": "markdown",
   "id": "043b80a0",
   "metadata": {},
   "source": [
    " # **kwargs"
   ]
  },
  {
   "cell_type": "code",
   "execution_count": 19,
   "id": "018a4b25",
   "metadata": {},
   "outputs": [],
   "source": [
    "def about(**kwargs):\n",
    "    print(kwargs)\n",
    "    print(type(kwargs))"
   ]
  },
  {
   "cell_type": "code",
   "execution_count": 20,
   "id": "776447d9",
   "metadata": {},
   "outputs": [
    {
     "name": "stdout",
     "output_type": "stream",
     "text": [
      "{'name': 'darshan', 'age': 2}\n",
      "<class 'dict'>\n"
     ]
    }
   ],
   "source": [
    "about(name = 'darshan', age = 2)"
   ]
  },
  {
   "cell_type": "code",
   "execution_count": 23,
   "id": "f2e010d2",
   "metadata": {},
   "outputs": [],
   "source": [
    "def about(**kwargs):\n",
    "    print( f\"Your name is {kwargs['name']} and age is {kwargs['age']}\")"
   ]
  },
  {
   "cell_type": "code",
   "execution_count": 24,
   "id": "d99bb1f8",
   "metadata": {},
   "outputs": [
    {
     "name": "stdout",
     "output_type": "stream",
     "text": [
      "Your name is darshan and age is 2\n"
     ]
    }
   ],
   "source": [
    "about(name = 'darshan', age = 2)"
   ]
  },
  {
   "cell_type": "code",
   "execution_count": null,
   "id": "9d8795ae",
   "metadata": {},
   "outputs": [],
   "source": []
  }
 ],
 "metadata": {
  "kernelspec": {
   "display_name": "Python 3 (ipykernel)",
   "language": "python",
   "name": "python3"
  },
  "language_info": {
   "codemirror_mode": {
    "name": "ipython",
    "version": 3
   },
   "file_extension": ".py",
   "mimetype": "text/x-python",
   "name": "python",
   "nbconvert_exporter": "python",
   "pygments_lexer": "ipython3",
   "version": "3.8.10"
  }
 },
 "nbformat": 4,
 "nbformat_minor": 5
}
