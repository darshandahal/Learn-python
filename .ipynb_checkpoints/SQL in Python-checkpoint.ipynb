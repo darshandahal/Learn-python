{
 "cells": [
  {
   "cell_type": "markdown",
   "id": "96156dc0",
   "metadata": {},
   "source": [
    "# SQL : Structured Query Languange\n",
    "* is a standardized programming language that is used to manage relational databases and perform various operations on the data in them."
   ]
  },
  {
   "cell_type": "code",
   "execution_count": 1,
   "id": "7e6c318f",
   "metadata": {},
   "outputs": [],
   "source": [
    "import sqlite3"
   ]
  },
  {
   "cell_type": "markdown",
   "id": "96407efb",
   "metadata": {},
   "source": [
    "# crearing and connecting to database\n",
    "* DATABASE NAME : student"
   ]
  },
  {
   "cell_type": "code",
   "execution_count": 2,
   "id": "110e22bc",
   "metadata": {},
   "outputs": [],
   "source": [
    "con = sqlite3.connect('student.db')"
   ]
  },
  {
   "cell_type": "code",
   "execution_count": 3,
   "id": "aa4badfe",
   "metadata": {},
   "outputs": [
    {
     "data": {
      "text/plain": [
       "<sqlite3.Connection at 0x25e5ee2f030>"
      ]
     },
     "execution_count": 3,
     "metadata": {},
     "output_type": "execute_result"
    }
   ],
   "source": [
    "con"
   ]
  },
  {
   "cell_type": "markdown",
   "id": "26d888f7",
   "metadata": {},
   "source": [
    "# create a cursor to execute sql query"
   ]
  },
  {
   "cell_type": "code",
   "execution_count": 7,
   "id": "f785b0c9",
   "metadata": {},
   "outputs": [],
   "source": [
    "cur = con.cursor()"
   ]
  },
  {
   "cell_type": "markdown",
   "id": "b371b6bf",
   "metadata": {},
   "source": [
    "# creat table in database  CREATE statement\n",
    "``` sql\n",
    "CREATE TABLE table name(column_name) datatype, column_name_2 datatype, ... column_name datatype\n",
    "\n",
    "\n",
    "```"
   ]
  },
  {
   "cell_type": "code",
   "execution_count": 8,
   "id": "06b4b157",
   "metadata": {},
   "outputs": [],
   "source": [
    "query = \"\"\"\n",
    "create table student_details\n",
    "(roll_no int, name varchar(50), gender varchar(5))\n",
    "\"\"\""
   ]
  },
  {
   "cell_type": "code",
   "execution_count": 9,
   "id": "c250567c",
   "metadata": {},
   "outputs": [
    {
     "ename": "OperationalError",
     "evalue": "table student_details already exists",
     "output_type": "error",
     "traceback": [
      "\u001b[1;31m---------------------------------------------------------------------------\u001b[0m",
      "\u001b[1;31mOperationalError\u001b[0m                          Traceback (most recent call last)",
      "Cell \u001b[1;32mIn[9], line 1\u001b[0m\n\u001b[1;32m----> 1\u001b[0m \u001b[43mcur\u001b[49m\u001b[38;5;241;43m.\u001b[39;49m\u001b[43mexecute\u001b[49m\u001b[43m(\u001b[49m\u001b[43mquery\u001b[49m\u001b[43m)\u001b[49m\n",
      "\u001b[1;31mOperationalError\u001b[0m: table student_details already exists"
     ]
    }
   ],
   "source": [
    "cur.execute(query)"
   ]
  },
  {
   "cell_type": "markdown",
   "id": "5d9b28e6",
   "metadata": {},
   "source": [
    "# insert statement in sql\n",
    "``` sql\n",
    "INSERT INTO table_name (column_name_1, column_name_2 ..., column_name_n)\n",
    "values\n",
    "(value1, value2,... valuen)\n",
    "\n",
    "```"
   ]
  },
  {
   "cell_type": "code",
   "execution_count": 10,
   "id": "dfb9b444",
   "metadata": {},
   "outputs": [],
   "source": [
    "insert_query = \"\"\"\n",
    "INSERT into student_details (roll_no, name, gender)\n",
    "values\n",
    "(1, 'darshan', 'M'),\n",
    "(2, 'manjil', 'M'),\n",
    "(3, 'saradhha', 'F'),\n",
    "(4, 'kshitiz', 'M')\n",
    "\"\"\""
   ]
  },
  {
   "cell_type": "code",
   "execution_count": 11,
   "id": "644a34af",
   "metadata": {},
   "outputs": [
    {
     "data": {
      "text/plain": [
       "<sqlite3.Cursor at 0x25e5ed83d50>"
      ]
     },
     "execution_count": 11,
     "metadata": {},
     "output_type": "execute_result"
    }
   ],
   "source": [
    "cur.execute(insert_query)"
   ]
  },
  {
   "cell_type": "markdown",
   "id": "ea471272",
   "metadata": {},
   "source": [
    "# Select statement in SQL\n"
   ]
  },
  {
   "cell_type": "code",
   "execution_count": 12,
   "id": "261159f8",
   "metadata": {},
   "outputs": [
    {
     "data": {
      "text/plain": [
       "<sqlite3.Cursor at 0x25e5ed83d50>"
      ]
     },
     "execution_count": 12,
     "metadata": {},
     "output_type": "execute_result"
    }
   ],
   "source": [
    "cur.execute(\"select * from student_details\")"
   ]
  },
  {
   "cell_type": "code",
   "execution_count": 13,
   "id": "2cab7b48",
   "metadata": {},
   "outputs": [
    {
     "data": {
      "text/plain": [
       "[(1, 'darshan', 'M'),\n",
       " (2, 'manjil', 'M'),\n",
       " (3, 'saradhha', 'F'),\n",
       " (4, 'kshitiz', 'M')]"
      ]
     },
     "execution_count": 13,
     "metadata": {},
     "output_type": "execute_result"
    }
   ],
   "source": [
    "cur.execute(\"select * from student_details\").fetchall()"
   ]
  },
  {
   "cell_type": "code",
   "execution_count": 14,
   "id": "dfb5a6af",
   "metadata": {},
   "outputs": [],
   "source": [
    " # find all data with F"
   ]
  },
  {
   "cell_type": "code",
   "execution_count": 15,
   "id": "0954b13b",
   "metadata": {},
   "outputs": [],
   "source": [
    "query = \"\"\"\n",
    "select name from student_details\n",
    "where gender = 'F'\n",
    "\"\"\""
   ]
  },
  {
   "cell_type": "code",
   "execution_count": 16,
   "id": "5ce223b5",
   "metadata": {},
   "outputs": [
    {
     "data": {
      "text/plain": [
       "[('saradhha',)]"
      ]
     },
     "execution_count": 16,
     "metadata": {},
     "output_type": "execute_result"
    }
   ],
   "source": [
    "cur.execute(query).fetchall()"
   ]
  },
  {
   "cell_type": "code",
   "execution_count": 17,
   "id": "b30074a8",
   "metadata": {},
   "outputs": [],
   "source": [
    "query = \"\"\"\n",
    "select name from student_details\n",
    "where gender = 'M'\n",
    "\"\"\""
   ]
  },
  {
   "cell_type": "code",
   "execution_count": 18,
   "id": "49be32fb",
   "metadata": {},
   "outputs": [
    {
     "data": {
      "text/plain": [
       "[('darshan',), ('manjil',), ('kshitiz',)]"
      ]
     },
     "execution_count": 18,
     "metadata": {},
     "output_type": "execute_result"
    }
   ],
   "source": [
    "cur.execute(query).fetchall()"
   ]
  },
  {
   "cell_type": "code",
   "execution_count": 19,
   "id": "5b354acd",
   "metadata": {},
   "outputs": [
    {
     "data": {
      "text/plain": [
       "[('darshan',), ('manjil',), ('kshitiz',)]"
      ]
     },
     "execution_count": 19,
     "metadata": {},
     "output_type": "execute_result"
    }
   ],
   "source": [
    "cur.execute(\"SELECT NAME FROM STUDENT_DETAILS WHERE GENDER = 'M'\").fetchall()"
   ]
  },
  {
   "cell_type": "markdown",
   "id": "389bfff9",
   "metadata": {},
   "source": [
    "# update statement\n",
    "``` sql\n",
    "update intro table_name\n",
    "set column_name = value\n",
    "where column_name = <id>\n",
    "\n",
    "```"
   ]
  },
  {
   "cell_type": "code",
   "execution_count": 20,
   "id": "79b2de6b",
   "metadata": {},
   "outputs": [
    {
     "ename": "SyntaxError",
     "evalue": "invalid syntax (4234030143.py, line 1)",
     "output_type": "error",
     "traceback": [
      "\u001b[1;36m  Cell \u001b[1;32mIn[20], line 1\u001b[1;36m\u001b[0m\n\u001b[1;33m    update query = \"\"\"\u001b[0m\n\u001b[1;37m           ^\u001b[0m\n\u001b[1;31mSyntaxError\u001b[0m\u001b[1;31m:\u001b[0m invalid syntax\n"
     ]
    }
   ],
   "source": [
    "update query = \"\"\"\n",
    "set name = 'darshan dahal'\n",
    "where roll_no = 1;\n"
   ]
  },
  {
   "cell_type": "markdown",
   "id": "dbcfbef6",
   "metadata": {},
   "source": [
    "# delete statement"
   ]
  },
  {
   "cell_type": "code",
   "execution_count": 21,
   "id": "90e01d64",
   "metadata": {},
   "outputs": [
    {
     "data": {
      "text/plain": [
       "<sqlite3.Cursor at 0x25e5ed83d50>"
      ]
     },
     "execution_count": 21,
     "metadata": {},
     "output_type": "execute_result"
    }
   ],
   "source": [
    "cur.execute(\"delete from student_details where roll_no = 1\")"
   ]
  },
  {
   "cell_type": "code",
   "execution_count": 22,
   "id": "c62cec53",
   "metadata": {},
   "outputs": [
    {
     "data": {
      "text/plain": [
       "[(2, 'manjil', 'M'), (3, 'saradhha', 'F'), (4, 'kshitiz', 'M')]"
      ]
     },
     "execution_count": 22,
     "metadata": {},
     "output_type": "execute_result"
    }
   ],
   "source": [
    "cur.execute(\"select * from student_details\").fetchall()"
   ]
  },
  {
   "cell_type": "markdown",
   "id": "28210c39",
   "metadata": {},
   "source": [
    "# check multiple condition using where clause "
   ]
  },
  {
   "cell_type": "code",
   "execution_count": 23,
   "id": "130c1f73",
   "metadata": {},
   "outputs": [],
   "source": [
    "query = \"\"\"\n",
    "select * from student_details\n",
    "where\n",
    "gender = 'M' and name like 'm%'\n",
    "\"\"\""
   ]
  },
  {
   "cell_type": "code",
   "execution_count": 24,
   "id": "6e144ee6",
   "metadata": {},
   "outputs": [
    {
     "data": {
      "text/plain": [
       "[(2, 'manjil', 'M')]"
      ]
     },
     "execution_count": 24,
     "metadata": {},
     "output_type": "execute_result"
    }
   ],
   "source": [
    "cur.execute(query).fetchall()"
   ]
  },
  {
   "cell_type": "code",
   "execution_count": null,
   "id": "c71e2c77",
   "metadata": {},
   "outputs": [],
   "source": []
  },
  {
   "cell_type": "code",
   "execution_count": null,
   "id": "97e45406",
   "metadata": {},
   "outputs": [],
   "source": []
  }
 ],
 "metadata": {
  "kernelspec": {
   "display_name": "Python 3 (ipykernel)",
   "language": "python",
   "name": "python3"
  },
  "language_info": {
   "codemirror_mode": {
    "name": "ipython",
    "version": 3
   },
   "file_extension": ".py",
   "mimetype": "text/x-python",
   "name": "python",
   "nbconvert_exporter": "python",
   "pygments_lexer": "ipython3",
   "version": "3.8.10"
  }
 },
 "nbformat": 4,
 "nbformat_minor": 5
}
