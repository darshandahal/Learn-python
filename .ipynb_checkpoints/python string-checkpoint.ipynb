{
 "cells": [
  {
   "cell_type": "code",
   "execution_count": 2,
   "id": "83e336fd",
   "metadata": {},
   "outputs": [
    {
     "name": "stdout",
     "output_type": "stream",
     "text": [
      "Enter your message hello\n",
      "<class 'str'>\n"
     ]
    }
   ],
   "source": [
    "msg = input(\"Enter your message \")\n",
    "print(type(msg))"
   ]
  },
  {
   "cell_type": "code",
   "execution_count": 3,
   "id": "f0d3d8ad",
   "metadata": {},
   "outputs": [
    {
     "data": {
      "text/plain": [
       "'hello'"
      ]
     },
     "execution_count": 3,
     "metadata": {},
     "output_type": "execute_result"
    }
   ],
   "source": [
    "msg\n"
   ]
  },
  {
   "cell_type": "markdown",
   "id": "6104cd16",
   "metadata": {},
   "source": [
    "# single quotes and double quotes are same"
   ]
  },
  {
   "cell_type": "code",
   "execution_count": 5,
   "id": "91904f50",
   "metadata": {},
   "outputs": [
    {
     "data": {
      "text/plain": [
       "True"
      ]
     },
     "execution_count": 5,
     "metadata": {},
     "output_type": "execute_result"
    }
   ],
   "source": [
    "msg1 = 'hi'\n",
    "msg2 = \"hi\"\n",
    "msg1 == msg2"
   ]
  },
  {
   "cell_type": "markdown",
   "id": "08049a61",
   "metadata": {},
   "source": [
    "# single line and multi line string in python"
   ]
  },
  {
   "cell_type": "code",
   "execution_count": 6,
   "id": "38b3ad60",
   "metadata": {},
   "outputs": [],
   "source": [
    "msg = 'Hi, i am developer' # single line string\n"
   ]
  },
  {
   "cell_type": "code",
   "execution_count": 7,
   "id": "cee0a3e7",
   "metadata": {},
   "outputs": [
    {
     "name": "stdout",
     "output_type": "stream",
     "text": [
      "hi\n"
     ]
    }
   ],
   "source": [
    "print('hi')"
   ]
  },
  {
   "cell_type": "code",
   "execution_count": 8,
   "id": "24adbee0",
   "metadata": {},
   "outputs": [],
   "source": [
    "poem = \"\"\"   gjkggn\n",
    "gjnfk\n",
    "fngnk\n",
    "\"\"\""
   ]
  },
  {
   "cell_type": "code",
   "execution_count": 9,
   "id": "110c1bbd",
   "metadata": {},
   "outputs": [
    {
     "data": {
      "text/plain": [
       "'   gjkggn\\ngjnfk\\nfngnk\\n'"
      ]
     },
     "execution_count": 9,
     "metadata": {},
     "output_type": "execute_result"
    }
   ],
   "source": [
    "poem"
   ]
  },
  {
   "cell_type": "markdown",
   "id": "d8da0276",
   "metadata": {},
   "source": [
    "# Indexing and slicing"
   ]
  },
  {
   "cell_type": "markdown",
   "id": "4bb7ac7b",
   "metadata": {},
   "source": [
    "### indexing"
   ]
  },
  {
   "cell_type": "code",
   "execution_count": 10,
   "id": "9b2db71a",
   "metadata": {},
   "outputs": [],
   "source": [
    "msg = 'hello i am developer'"
   ]
  },
  {
   "cell_type": "code",
   "execution_count": 11,
   "id": "979e44fb",
   "metadata": {},
   "outputs": [
    {
     "data": {
      "text/plain": [
       "'e'"
      ]
     },
     "execution_count": 11,
     "metadata": {},
     "output_type": "execute_result"
    }
   ],
   "source": [
    "msg[1]  #indexing always sart from zero"
   ]
  },
  {
   "cell_type": "code",
   "execution_count": 15,
   "id": "df446076",
   "metadata": {},
   "outputs": [
    {
     "data": {
      "text/plain": [
       "'r'"
      ]
     },
     "execution_count": 15,
     "metadata": {},
     "output_type": "execute_result"
    }
   ],
   "source": [
    "msg[19]"
   ]
  },
  {
   "cell_type": "markdown",
   "id": "9aa0f9af",
   "metadata": {},
   "source": [
    "### slicing"
   ]
  },
  {
   "cell_type": "code",
   "execution_count": 16,
   "id": "1abb1911",
   "metadata": {},
   "outputs": [],
   "source": [
    "msg = 'hello i am developer'"
   ]
  },
  {
   "cell_type": "code",
   "execution_count": 17,
   "id": "04e95fc7",
   "metadata": {},
   "outputs": [
    {
     "data": {
      "text/plain": [
       "'e'"
      ]
     },
     "execution_count": 17,
     "metadata": {},
     "output_type": "execute_result"
    }
   ],
   "source": [
    "msg[0]"
   ]
  },
  {
   "cell_type": "code",
   "execution_count": 18,
   "id": "c66d1108",
   "metadata": {},
   "outputs": [
    {
     "data": {
      "text/plain": [
       "'o'"
      ]
     },
     "execution_count": 18,
     "metadata": {},
     "output_type": "execute_result"
    }
   ],
   "source": [
    "msg[4]"
   ]
  },
  {
   "cell_type": "code",
   "execution_count": 19,
   "id": "314f931e",
   "metadata": {},
   "outputs": [
    {
     "data": {
      "text/plain": [
       "'hello'"
      ]
     },
     "execution_count": 19,
     "metadata": {},
     "output_type": "execute_result"
    }
   ],
   "source": [
    "msg[0:5]"
   ]
  },
  {
   "cell_type": "code",
   "execution_count": 20,
   "id": "1984b91e",
   "metadata": {
    "scrolled": true
   },
   "outputs": [
    {
     "data": {
      "text/plain": [
       "'hello i am developer'"
      ]
     },
     "execution_count": 20,
     "metadata": {},
     "output_type": "execute_result"
    }
   ],
   "source": [
    "msg[0:20]"
   ]
  },
  {
   "cell_type": "code",
   "execution_count": 23,
   "id": "b83c2959",
   "metadata": {},
   "outputs": [
    {
     "data": {
      "text/plain": [
       "'developer'"
      ]
     },
     "execution_count": 23,
     "metadata": {},
     "output_type": "execute_result"
    }
   ],
   "source": [
    "msg[11:20]"
   ]
  },
  {
   "cell_type": "markdown",
   "id": "ecd15d38",
   "metadata": {},
   "source": [
    "#### alternative"
   ]
  },
  {
   "cell_type": "code",
   "execution_count": 24,
   "id": "d2b7959d",
   "metadata": {},
   "outputs": [
    {
     "data": {
      "text/plain": [
       "'hello i am developer'"
      ]
     },
     "execution_count": 24,
     "metadata": {},
     "output_type": "execute_result"
    }
   ],
   "source": [
    "msg[:20]"
   ]
  },
  {
   "cell_type": "code",
   "execution_count": 25,
   "id": "d0a6e11b",
   "metadata": {},
   "outputs": [
    {
     "data": {
      "text/plain": [
       "'hello'"
      ]
     },
     "execution_count": 25,
     "metadata": {},
     "output_type": "execute_result"
    }
   ],
   "source": [
    "msg[:5]"
   ]
  },
  {
   "cell_type": "code",
   "execution_count": 27,
   "id": "4b9591d9",
   "metadata": {},
   "outputs": [
    {
     "data": {
      "text/plain": [
       "'hello i am developer'"
      ]
     },
     "execution_count": 27,
     "metadata": {},
     "output_type": "execute_result"
    }
   ],
   "source": [
    "msg[0:]"
   ]
  },
  {
   "cell_type": "code",
   "execution_count": 28,
   "id": "7f3cdc72",
   "metadata": {},
   "outputs": [
    {
     "data": {
      "text/plain": [
       "'i am developer'"
      ]
     },
     "execution_count": 28,
     "metadata": {},
     "output_type": "execute_result"
    }
   ],
   "source": [
    "msg[6:]"
   ]
  },
  {
   "cell_type": "code",
   "execution_count": 29,
   "id": "ac8cda4e",
   "metadata": {},
   "outputs": [],
   "source": [
    "msg = 'hello i am developer'"
   ]
  },
  {
   "cell_type": "code",
   "execution_count": 30,
   "id": "e6277c70",
   "metadata": {},
   "outputs": [
    {
     "data": {
      "text/plain": [
       "'hello i am developer'"
      ]
     },
     "execution_count": 30,
     "metadata": {},
     "output_type": "execute_result"
    }
   ],
   "source": [
    "msg[0:20]"
   ]
  },
  {
   "cell_type": "code",
   "execution_count": 31,
   "id": "49b953d1",
   "metadata": {},
   "outputs": [
    {
     "data": {
      "text/plain": [
       "'hloia eeoe'"
      ]
     },
     "execution_count": 31,
     "metadata": {},
     "output_type": "execute_result"
    }
   ],
   "source": [
    "msg[0:20:2]"
   ]
  },
  {
   "cell_type": "code",
   "execution_count": 32,
   "id": "a9a5ecdf",
   "metadata": {},
   "outputs": [
    {
     "data": {
      "text/plain": [
       "'hello i am developer'"
      ]
     },
     "execution_count": 32,
     "metadata": {},
     "output_type": "execute_result"
    }
   ],
   "source": [
    "msg[0:20:1]"
   ]
  },
  {
   "cell_type": "code",
   "execution_count": 33,
   "id": "e33321b7",
   "metadata": {},
   "outputs": [
    {
     "data": {
      "text/plain": [
       "'h'"
      ]
     },
     "execution_count": 33,
     "metadata": {},
     "output_type": "execute_result"
    }
   ],
   "source": [
    "msg[0:2:2]"
   ]
  },
  {
   "cell_type": "code",
   "execution_count": 35,
   "id": "23e0d535",
   "metadata": {},
   "outputs": [
    {
     "data": {
      "text/plain": [
       "'hello'"
      ]
     },
     "execution_count": 35,
     "metadata": {},
     "output_type": "execute_result"
    }
   ],
   "source": [
    "msg[:5]"
   ]
  },
  {
   "cell_type": "code",
   "execution_count": null,
   "id": "316b2eef",
   "metadata": {},
   "outputs": [],
   "source": [
    "# example of endexing and slicing..."
   ]
  },
  {
   "cell_type": "code",
   "execution_count": 36,
   "id": "698c4de8",
   "metadata": {},
   "outputs": [],
   "source": [
    "text = 'You are my sunshine'  # display my, sun and sunshine"
   ]
  },
  {
   "cell_type": "code",
   "execution_count": 37,
   "id": "b7dd6fcf",
   "metadata": {},
   "outputs": [
    {
     "data": {
      "text/plain": [
       "'my'"
      ]
     },
     "execution_count": 37,
     "metadata": {},
     "output_type": "execute_result"
    }
   ],
   "source": [
    "text[8:10]"
   ]
  },
  {
   "cell_type": "code",
   "execution_count": 38,
   "id": "7005a9c8",
   "metadata": {},
   "outputs": [
    {
     "data": {
      "text/plain": [
       "'sunshine'"
      ]
     },
     "execution_count": 38,
     "metadata": {},
     "output_type": "execute_result"
    }
   ],
   "source": [
    "text[11:19]"
   ]
  },
  {
   "cell_type": "code",
   "execution_count": 39,
   "id": "55116d06",
   "metadata": {},
   "outputs": [
    {
     "data": {
      "text/plain": [
       "'sun'"
      ]
     },
     "execution_count": 39,
     "metadata": {},
     "output_type": "execute_result"
    }
   ],
   "source": [
    "text[11:14]"
   ]
  },
  {
   "cell_type": "code",
   "execution_count": 3,
   "id": "c634b13c",
   "metadata": {},
   "outputs": [],
   "source": [
    "text = 'You are my sunshine'"
   ]
  },
  {
   "cell_type": "code",
   "execution_count": 5,
   "id": "5644848a",
   "metadata": {},
   "outputs": [
    {
     "data": {
      "text/plain": [
       "19"
      ]
     },
     "execution_count": 5,
     "metadata": {},
     "output_type": "execute_result"
    }
   ],
   "source": [
    "len(text) # It displays the total no. of word"
   ]
  },
  {
   "cell_type": "code",
   "execution_count": 6,
   "id": "5f9965fd",
   "metadata": {},
   "outputs": [
    {
     "data": {
      "text/plain": [
       "'sunshine'"
      ]
     },
     "execution_count": 6,
     "metadata": {},
     "output_type": "execute_result"
    }
   ],
   "source": [
    "text[11:19]"
   ]
  },
  {
   "cell_type": "code",
   "execution_count": 7,
   "id": "50da93c9",
   "metadata": {},
   "outputs": [
    {
     "data": {
      "text/plain": [
       "'You'"
      ]
     },
     "execution_count": 7,
     "metadata": {},
     "output_type": "execute_result"
    }
   ],
   "source": [
    "text[:3]"
   ]
  },
  {
   "cell_type": "code",
   "execution_count": 10,
   "id": "00f2b6cb",
   "metadata": {},
   "outputs": [
    {
     "data": {
      "text/plain": [
       "'darshandahal304@gmailcom'"
      ]
     },
     "execution_count": 10,
     "metadata": {},
     "output_type": "execute_result"
    }
   ],
   "source": [
    "'darshan' + 'dahal' + '304' + '@' + 'gmail' + 'com'  # here string can connect the words through '+' sign"
   ]
  },
  {
   "cell_type": "code",
   "execution_count": 12,
   "id": "85134a3e",
   "metadata": {},
   "outputs": [
    {
     "data": {
      "text/plain": [
       "'Hello Hello Hello '"
      ]
     },
     "execution_count": 12,
     "metadata": {},
     "output_type": "execute_result"
    }
   ],
   "source": [
    "\"Hello \" * 3"
   ]
  },
  {
   "cell_type": "code",
   "execution_count": null,
   "id": "08b9c425",
   "metadata": {},
   "outputs": [],
   "source": []
  }
 ],
 "metadata": {
  "kernelspec": {
   "display_name": "Python 3 (ipykernel)",
   "language": "python",
   "name": "python3"
  },
  "language_info": {
   "codemirror_mode": {
    "name": "ipython",
    "version": 3
   },
   "file_extension": ".py",
   "mimetype": "text/x-python",
   "name": "python",
   "nbconvert_exporter": "python",
   "pygments_lexer": "ipython3",
   "version": "3.8.10"
  }
 },
 "nbformat": 4,
 "nbformat_minor": 5
}
