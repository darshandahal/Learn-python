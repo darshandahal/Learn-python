{
 "cells": [
  {
   "cell_type": "markdown",
   "id": "a7e07a76",
   "metadata": {},
   "source": [
    "# factorial\n",
    "    0! = 1\n",
    "    1! = 1\n",
    "    2! = 2 * 1! = 2\n",
    "    3! = 3 * 2! = 6\n",
    "    4! = 4 * 3! = 24"
   ]
  },
  {
   "cell_type": "code",
   "execution_count": null,
   "id": "d6f73175",
   "metadata": {},
   "outputs": [],
   "source": []
  }
 ],
 "metadata": {
  "kernelspec": {
   "display_name": "Python 3 (ipykernel)",
   "language": "python",
   "name": "python3"
  },
  "language_info": {
   "codemirror_mode": {
    "name": "ipython",
    "version": 3
   },
   "file_extension": ".py",
   "mimetype": "text/x-python",
   "name": "python",
   "nbconvert_exporter": "python",
   "pygments_lexer": "ipython3",
   "version": "3.8.10"
  }
 },
 "nbformat": 4,
 "nbformat_minor": 5
}
