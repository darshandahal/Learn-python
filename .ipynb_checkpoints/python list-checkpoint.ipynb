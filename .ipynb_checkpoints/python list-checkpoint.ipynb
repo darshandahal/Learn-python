{
 "cells": [
  {
   "cell_type": "markdown",
   "id": "b13ee075",
   "metadata": {},
   "source": [
    "# List is collection of item under one variable name\n",
    "* allows duplicate\n",
    "* sequenced and ordered\n",
    "* mutable\n",
    "* supports multiple datatypes\n",
    "* indexed\n",
    "* in python list is created by placing elements inside [] bracket seperateed by comma"
   ]
  },
  {
   "cell_type": "code",
   "execution_count": 2,
   "id": "fa28f8eb",
   "metadata": {},
   "outputs": [],
   "source": [
    "list1 = [True, 0.3, 4, 5, \"hello\"]"
   ]
  },
  {
   "cell_type": "code",
   "execution_count": 3,
   "id": "2481472d",
   "metadata": {},
   "outputs": [
    {
     "data": {
      "text/plain": [
       "list"
      ]
     },
     "execution_count": 3,
     "metadata": {},
     "output_type": "execute_result"
    }
   ],
   "source": [
    "type(list1)"
   ]
  },
  {
   "cell_type": "markdown",
   "id": "2b86e5c9",
   "metadata": {},
   "source": [
    "# indexing and slicing in python list"
   ]
  },
  {
   "cell_type": "code",
   "execution_count": 4,
   "id": "8f913462",
   "metadata": {},
   "outputs": [],
   "source": [
    "cars = ['audi', 'bentily', 'mercedes', 'rolls royace', 'bugati']"
   ]
  },
  {
   "cell_type": "markdown",
   "id": "595bf15c",
   "metadata": {},
   "source": [
    "### Indexing"
   ]
  },
  {
   "cell_type": "code",
   "execution_count": 6,
   "id": "61211fcf",
   "metadata": {},
   "outputs": [
    {
     "data": {
      "text/plain": [
       "'audi'"
      ]
     },
     "execution_count": 6,
     "metadata": {},
     "output_type": "execute_result"
    }
   ],
   "source": [
    "cars[0]"
   ]
  },
  {
   "cell_type": "code",
   "execution_count": 8,
   "id": "bb823859",
   "metadata": {},
   "outputs": [
    {
     "data": {
      "text/plain": [
       "'bugati'"
      ]
     },
     "execution_count": 8,
     "metadata": {},
     "output_type": "execute_result"
    }
   ],
   "source": [
    "cars[4]"
   ]
  },
  {
   "cell_type": "code",
   "execution_count": 11,
   "id": "759936a4",
   "metadata": {},
   "outputs": [],
   "source": [
    "### negative indexing"
   ]
  },
  {
   "cell_type": "code",
   "execution_count": 12,
   "id": "92b5b10a",
   "metadata": {},
   "outputs": [
    {
     "data": {
      "text/plain": [
       "'bugati'"
      ]
     },
     "execution_count": 12,
     "metadata": {},
     "output_type": "execute_result"
    }
   ],
   "source": [
    "cars[-1]"
   ]
  },
  {
   "cell_type": "code",
   "execution_count": 13,
   "id": "6349b1d1",
   "metadata": {},
   "outputs": [
    {
     "data": {
      "text/plain": [
       "'mercedes'"
      ]
     },
     "execution_count": 13,
     "metadata": {},
     "output_type": "execute_result"
    }
   ],
   "source": [
    "cars[-3]"
   ]
  },
  {
   "cell_type": "markdown",
   "id": "e77c24e3",
   "metadata": {},
   "source": [
    "# slicing"
   ]
  },
  {
   "cell_type": "code",
   "execution_count": 14,
   "id": "084e6551",
   "metadata": {},
   "outputs": [],
   "source": [
    "cars = ['audi', 'bentily', 'mercedes', 'rollsroyace', 'bugati', 'ferrari']"
   ]
  },
  {
   "cell_type": "code",
   "execution_count": 15,
   "id": "631f35fe",
   "metadata": {},
   "outputs": [
    {
     "data": {
      "text/plain": [
       "['audi', 'bentily']"
      ]
     },
     "execution_count": 15,
     "metadata": {},
     "output_type": "execute_result"
    }
   ],
   "source": [
    "cars[0:2]"
   ]
  },
  {
   "cell_type": "code",
   "execution_count": 20,
   "id": "9b1b68b4",
   "metadata": {},
   "outputs": [
    {
     "data": {
      "text/plain": [
       "['mercedes']"
      ]
     },
     "execution_count": 20,
     "metadata": {},
     "output_type": "execute_result"
    }
   ],
   "source": [
    "cars[2:-3]"
   ]
  },
  {
   "cell_type": "code",
   "execution_count": 17,
   "id": "f02fd289",
   "metadata": {},
   "outputs": [
    {
     "data": {
      "text/plain": [
       "['audi', 'bentily', 'mercedes']"
      ]
     },
     "execution_count": 17,
     "metadata": {},
     "output_type": "execute_result"
    }
   ],
   "source": [
    "cars[:3]"
   ]
  },
  {
   "cell_type": "markdown",
   "id": "3702c89c",
   "metadata": {},
   "source": [
    "# loops in python list"
   ]
  },
  {
   "cell_type": "code",
   "execution_count": 24,
   "id": "92f1e1e7",
   "metadata": {},
   "outputs": [],
   "source": [
    "cars = ['audi', 'bentily', 'mercedes', 'rolls royace', 'bugati', 'ferrari']"
   ]
  },
  {
   "cell_type": "code",
   "execution_count": 25,
   "id": "51eec56a",
   "metadata": {},
   "outputs": [
    {
     "name": "stdout",
     "output_type": "stream",
     "text": [
      "the index is 0 and word is audi\n",
      "the index is 1 and word is bentily\n",
      "the index is 2 and word is mercedes\n",
      "the index is 3 and word is rolls royace\n",
      "the index is 4 and word is bugati\n",
      "the index is 5 and word is ferrari\n"
     ]
    }
   ],
   "source": [
    "for index in range(len(cars)):\n",
    "    words = cars[index]\n",
    "    print( f\"the index is {index} and word is {words}\")"
   ]
  },
  {
   "cell_type": "code",
   "execution_count": 28,
   "id": "c8220c2a",
   "metadata": {},
   "outputs": [
    {
     "name": "stdout",
     "output_type": "stream",
     "text": [
      "audi\n",
      "bentily\n",
      "mercedes\n",
      "rolls royace\n",
      "bugati\n",
      "ferrari\n"
     ]
    }
   ],
   "source": [
    "for item in cars:\n",
    "    print(item)"
   ]
  },
  {
   "cell_type": "code",
   "execution_count": 29,
   "id": "6b562fc3",
   "metadata": {},
   "outputs": [],
   "source": [
    "# class work"
   ]
  },
  {
   "cell_type": "code",
   "execution_count": 37,
   "id": "18e5f582",
   "metadata": {},
   "outputs": [],
   "source": [
    "nums = [23, 25, 20]"
   ]
  },
  {
   "cell_type": "code",
   "execution_count": 38,
   "id": "860261e7",
   "metadata": {},
   "outputs": [
    {
     "name": "stdout",
     "output_type": "stream",
     "text": [
      "22.666666666666668\n"
     ]
    }
   ],
   "source": [
    "total = 0\n",
    "for numbers in nums:\n",
    "    total = total + numbers\n",
    "mean = total/len(nums)\n",
    "print(mean)"
   ]
  },
  {
   "cell_type": "markdown",
   "id": "d146fb55",
   "metadata": {},
   "source": [
    "### Same as"
   ]
  },
  {
   "cell_type": "code",
   "execution_count": 2,
   "id": "86ee9a13",
   "metadata": {},
   "outputs": [
    {
     "name": "stdout",
     "output_type": "stream",
     "text": [
      "1.0\n"
     ]
    }
   ],
   "source": [
    "nums = [23, 25, 20]\n",
    "sums = 0\n",
    "for numbers in range(len(nums)):\n",
    "    sums = sums + numbers\n",
    "\n",
    "mean = sums / len(nums)\n",
    "print(mean)\n",
    "    \n",
    "    \n",
    "    "
   ]
  },
  {
   "cell_type": "code",
   "execution_count": 4,
   "id": "04904181",
   "metadata": {},
   "outputs": [
    {
     "name": "stdout",
     "output_type": "stream",
     "text": [
      "0\n",
      "1\n",
      "2\n"
     ]
    }
   ],
   "source": [
    "nums = [23, 25, 20]\n",
    "for numbers in range(len(nums)):\n",
    "    print(numbers)"
   ]
  },
  {
   "cell_type": "code",
   "execution_count": null,
   "id": "fa7a87f0",
   "metadata": {},
   "outputs": [],
   "source": []
  }
 ],
 "metadata": {
  "kernelspec": {
   "display_name": "Python 3 (ipykernel)",
   "language": "python",
   "name": "python3"
  },
  "language_info": {
   "codemirror_mode": {
    "name": "ipython",
    "version": 3
   },
   "file_extension": ".py",
   "mimetype": "text/x-python",
   "name": "python",
   "nbconvert_exporter": "python",
   "pygments_lexer": "ipython3",
   "version": "3.8.10"
  }
 },
 "nbformat": 4,
 "nbformat_minor": 5
}
