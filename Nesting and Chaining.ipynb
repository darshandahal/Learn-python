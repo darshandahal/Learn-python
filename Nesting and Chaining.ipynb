{
 "cells": [
  {
   "cell_type": "markdown",
   "id": "1f72ea09",
   "metadata": {},
   "source": [
    "### WAP to check if user input is positive, negative and zero, and print the respective message."
   ]
  },
  {
   "cell_type": "code",
   "execution_count": 1,
   "id": "f3a65cca",
   "metadata": {},
   "outputs": [
    {
     "name": "stdout",
     "output_type": "stream",
     "text": [
      "Enter a number: 3\n",
      "the given number is positive\n"
     ]
    }
   ],
   "source": [
    "num = int(input(\"Enter a number: \"))\n",
    "\n",
    "if num == 0:\n",
    "    print(\"the number is neutral \")\n",
    "\n",
    "if num > 0:\n",
    "    print(\"the given number is positive\")\n",
    "\n",
    "if num < 0:\n",
    "    print(\"the given number is negative\")"
   ]
  },
  {
   "cell_type": "markdown",
   "id": "b004bd5b",
   "metadata": {},
   "source": [
    "# Nesting of conditionals"
   ]
  },
  {
   "cell_type": "code",
   "execution_count": 3,
   "id": "3e685f41",
   "metadata": {},
   "outputs": [
    {
     "name": "stdout",
     "output_type": "stream",
     "text": [
      "Enter a number: 45\n",
      " the number 45 is positive\n"
     ]
    }
   ],
   "source": [
    "num = int(input(\"Enter a number: \"))\n",
    "if num > 0:\n",
    "    print(f\" the number {num} is positive\")\n",
    "else:\n",
    "    if num < 0:\n",
    "        print(f\" the number {num} is negative\")\n",
    "    else:\n",
    "        print(f\" the number {num} is neutral\")"
   ]
  },
  {
   "cell_type": "markdown",
   "id": "c6a9bd13",
   "metadata": {},
   "source": [
    "# chained conditionals ( if.... elif.... else.... )"
   ]
  },
  {
   "cell_type": "code",
   "execution_count": 2,
   "id": "639b32b6",
   "metadata": {},
   "outputs": [
    {
     "name": "stdout",
     "output_type": "stream",
     "text": [
      "Enter a number0\n",
      "the number 0 is neutral\n"
     ]
    }
   ],
   "source": [
    "num = int(input(\"Enter a number\"))\n",
    "if num > 0:\n",
    "    print(f\"the number {num} is positive\")\n",
    "elif num < 0:\n",
    "    print(f\"the number {num} is negative\")\n",
    "else:\n",
    "    print(f\"the number {num} is neutral\")"
   ]
  },
  {
   "cell_type": "code",
   "execution_count": null,
   "id": "ba610cdf",
   "metadata": {},
   "outputs": [],
   "source": []
  },
  {
   "cell_type": "code",
   "execution_count": null,
   "id": "2230ae44",
   "metadata": {},
   "outputs": [],
   "source": []
  }
 ],
 "metadata": {
  "kernelspec": {
   "display_name": "Python 3 (ipykernel)",
   "language": "python",
   "name": "python3"
  },
  "language_info": {
   "codemirror_mode": {
    "name": "ipython",
    "version": 3
   },
   "file_extension": ".py",
   "mimetype": "text/x-python",
   "name": "python",
   "nbconvert_exporter": "python",
   "pygments_lexer": "ipython3",
   "version": "3.8.10"
  }
 },
 "nbformat": 4,
 "nbformat_minor": 5
}
