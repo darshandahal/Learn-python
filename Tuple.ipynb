{
 "cells": [
  {
   "cell_type": "markdown",
   "id": "02db11e6",
   "metadata": {},
   "source": [
    " # tuple:\n",
    " * collection of item under one variable\n",
    " * immutable\n",
    " * allows dulicate \n",
    " * indexed \n",
    " * round bracket, item seperated by commas\n",
    "    "
   ]
  },
  {
   "cell_type": "code",
   "execution_count": 1,
   "id": "0a5eed2d",
   "metadata": {},
   "outputs": [],
   "source": [
    "cars = ('audi', 'mercedies','BMW', 'tesla')"
   ]
  },
  {
   "cell_type": "code",
   "execution_count": 2,
   "id": "ede56009",
   "metadata": {},
   "outputs": [
    {
     "data": {
      "text/plain": [
       "('audi', 'mercedies', 'BMW', 'tesla')"
      ]
     },
     "execution_count": 2,
     "metadata": {},
     "output_type": "execute_result"
    }
   ],
   "source": [
    "cars"
   ]
  },
  {
   "cell_type": "markdown",
   "id": "5949d081",
   "metadata": {},
   "source": [
    "# indexing and slicing"
   ]
  },
  {
   "cell_type": "code",
   "execution_count": 3,
   "id": "1894bc9a",
   "metadata": {},
   "outputs": [],
   "source": [
    "cars = ('audi', 'mercedies','BMW', 'tesla')"
   ]
  },
  {
   "cell_type": "code",
   "execution_count": 5,
   "id": "cd95693d",
   "metadata": {},
   "outputs": [
    {
     "data": {
      "text/plain": [
       "'mercedies'"
      ]
     },
     "execution_count": 5,
     "metadata": {},
     "output_type": "execute_result"
    }
   ],
   "source": [
    "cars[1]"
   ]
  },
  {
   "cell_type": "code",
   "execution_count": 6,
   "id": "61f3f14a",
   "metadata": {},
   "outputs": [
    {
     "data": {
      "text/plain": [
       "'tesla'"
      ]
     },
     "execution_count": 6,
     "metadata": {},
     "output_type": "execute_result"
    }
   ],
   "source": [
    "cars[3]"
   ]
  },
  {
   "cell_type": "code",
   "execution_count": 7,
   "id": "c7460987",
   "metadata": {},
   "outputs": [
    {
     "data": {
      "text/plain": [
       "('audi', 'mercedies', 'BMW')"
      ]
     },
     "execution_count": 7,
     "metadata": {},
     "output_type": "execute_result"
    }
   ],
   "source": [
    "cars[:3]"
   ]
  },
  {
   "cell_type": "markdown",
   "id": "d4ba13bd",
   "metadata": {},
   "source": [
    "# loop in tuple"
   ]
  },
  {
   "cell_type": "code",
   "execution_count": 11,
   "id": "abd02a8d",
   "metadata": {},
   "outputs": [],
   "source": [
    "cars = ('audi', 'mercedies','BMW', 'tesla')"
   ]
  },
  {
   "cell_type": "code",
   "execution_count": 12,
   "id": "94637850",
   "metadata": {},
   "outputs": [
    {
     "name": "stdout",
     "output_type": "stream",
     "text": [
      "audi\n",
      "mercedies\n",
      "BMW\n",
      "tesla\n"
     ]
    }
   ],
   "source": [
    "for index in range(len(cars)):\n",
    "    car = cars[index]\n",
    "    print(car)"
   ]
  },
  {
   "cell_type": "code",
   "execution_count": 13,
   "id": "d2343991",
   "metadata": {},
   "outputs": [
    {
     "name": "stdout",
     "output_type": "stream",
     "text": [
      "audi\n",
      "mercedies\n",
      "BMW\n",
      "tesla\n"
     ]
    }
   ],
   "source": [
    "for item in cars:\n",
    "    print(item)"
   ]
  },
  {
   "cell_type": "markdown",
   "id": "9a15b09f",
   "metadata": {},
   "source": [
    "# tuples are immutable"
   ]
  },
  {
   "cell_type": "code",
   "execution_count": 14,
   "id": "b0082048",
   "metadata": {},
   "outputs": [],
   "source": [
    "cars = ('audi', 'mercedies','BMW', 'tesla')"
   ]
  },
  {
   "cell_type": "code",
   "execution_count": 17,
   "id": "eb45a29b",
   "metadata": {},
   "outputs": [
    {
     "ename": "TypeError",
     "evalue": "'tuple' object does not support item assignment",
     "output_type": "error",
     "traceback": [
      "\u001b[1;31m---------------------------------------------------------------------------\u001b[0m",
      "\u001b[1;31mTypeError\u001b[0m                                 Traceback (most recent call last)",
      "Cell \u001b[1;32mIn[17], line 1\u001b[0m\n\u001b[1;32m----> 1\u001b[0m \u001b[43mcars\u001b[49m\u001b[43m[\u001b[49m\u001b[38;5;241;43m0\u001b[39;49m\u001b[43m]\u001b[49m \u001b[38;5;241m=\u001b[39m \u001b[38;5;124m'\u001b[39m\u001b[38;5;124mtesla\u001b[39m\u001b[38;5;124m'\u001b[39m\n",
      "\u001b[1;31mTypeError\u001b[0m: 'tuple' object does not support item assignment"
     ]
    }
   ],
   "source": [
    "cars[0] = 'tesla'  "
   ]
  },
  {
   "cell_type": "code",
   "execution_count": 16,
   "id": "66afe4c7",
   "metadata": {},
   "outputs": [
    {
     "data": {
      "text/plain": [
       "'audi'"
      ]
     },
     "execution_count": 16,
     "metadata": {},
     "output_type": "execute_result"
    }
   ],
   "source": [
    "cars[0]"
   ]
  },
  {
   "cell_type": "markdown",
   "id": "2205d703",
   "metadata": {},
   "source": [
    "# we cannot use list method in tuples"
   ]
  },
  {
   "cell_type": "code",
   "execution_count": 1,
   "id": "79008c19",
   "metadata": {},
   "outputs": [],
   "source": [
    "cars = ('audi', 'tesla', 'BMW')"
   ]
  },
  {
   "cell_type": "code",
   "execution_count": 2,
   "id": "f39de8cf",
   "metadata": {},
   "outputs": [
    {
     "ename": "AttributeError",
     "evalue": "'tuple' object has no attribute 'append'",
     "output_type": "error",
     "traceback": [
      "\u001b[1;31m---------------------------------------------------------------------------\u001b[0m",
      "\u001b[1;31mAttributeError\u001b[0m                            Traceback (most recent call last)",
      "Cell \u001b[1;32mIn[2], line 1\u001b[0m\n\u001b[1;32m----> 1\u001b[0m \u001b[43mcars\u001b[49m\u001b[38;5;241;43m.\u001b[39;49m\u001b[43mappend\u001b[49m(\u001b[38;5;124m'\u001b[39m\u001b[38;5;124mnano\u001b[39m\u001b[38;5;124m'\u001b[39m)\n",
      "\u001b[1;31mAttributeError\u001b[0m: 'tuple' object has no attribute 'append'"
     ]
    }
   ],
   "source": [
    "cars.append('nano')"
   ]
  },
  {
   "cell_type": "markdown",
   "id": "061604b0",
   "metadata": {},
   "source": [
    "# Type casting in tuple"
   ]
  },
  {
   "cell_type": "code",
   "execution_count": 13,
   "id": "82ce5791",
   "metadata": {},
   "outputs": [],
   "source": [
    "cars = ('audi', 'tesla', 'BMW')"
   ]
  },
  {
   "cell_type": "code",
   "execution_count": 14,
   "id": "7f32f402",
   "metadata": {},
   "outputs": [
    {
     "data": {
      "text/plain": [
       "1534108312192"
      ]
     },
     "execution_count": 14,
     "metadata": {},
     "output_type": "execute_result"
    }
   ],
   "source": [
    "id(cars)"
   ]
  },
  {
   "cell_type": "code",
   "execution_count": 15,
   "id": "54feb769",
   "metadata": {},
   "outputs": [],
   "source": [
    "cars = list(cars) #type casting tuple into list"
   ]
  },
  {
   "cell_type": "code",
   "execution_count": 16,
   "id": "10af4018",
   "metadata": {},
   "outputs": [
    {
     "data": {
      "text/plain": [
       "['audi', 'tesla', 'BMW']"
      ]
     },
     "execution_count": 16,
     "metadata": {},
     "output_type": "execute_result"
    }
   ],
   "source": [
    "cars"
   ]
  },
  {
   "cell_type": "code",
   "execution_count": 17,
   "id": "971a19c8",
   "metadata": {},
   "outputs": [
    {
     "data": {
      "text/plain": [
       "1534107902400"
      ]
     },
     "execution_count": 17,
     "metadata": {},
     "output_type": "execute_result"
    }
   ],
   "source": [
    "id(cars)"
   ]
  },
  {
   "cell_type": "code",
   "execution_count": 18,
   "id": "ed2ba87d",
   "metadata": {},
   "outputs": [],
   "source": [
    "cars.append('mercedes')"
   ]
  },
  {
   "cell_type": "code",
   "execution_count": 19,
   "id": "f0aacadc",
   "metadata": {},
   "outputs": [
    {
     "data": {
      "text/plain": [
       "['audi', 'tesla', 'BMW', 'mercedes']"
      ]
     },
     "execution_count": 19,
     "metadata": {},
     "output_type": "execute_result"
    }
   ],
   "source": [
    "cars"
   ]
  },
  {
   "cell_type": "code",
   "execution_count": 20,
   "id": "608305c4",
   "metadata": {},
   "outputs": [
    {
     "data": {
      "text/plain": [
       "list"
      ]
     },
     "execution_count": 20,
     "metadata": {},
     "output_type": "execute_result"
    }
   ],
   "source": [
    "type(cars)"
   ]
  },
  {
   "cell_type": "markdown",
   "id": "72689d01",
   "metadata": {},
   "source": [
    "# Loops in tuple"
   ]
  },
  {
   "cell_type": "code",
   "execution_count": 21,
   "id": "96481df7",
   "metadata": {},
   "outputs": [],
   "source": [
    "data = (22,33,1,4,77,50,10)"
   ]
  },
  {
   "cell_type": "code",
   "execution_count": 28,
   "id": "f373fe76",
   "metadata": {},
   "outputs": [
    {
     "name": "stdout",
     "output_type": "stream",
     "text": [
      "28.142857142857142\n"
     ]
    }
   ],
   "source": [
    "total_sum = 0\n",
    "for item in data:\n",
    "    total_sum = total_sum + item\n",
    "mean = total_sum / len(data)\n",
    "print(mean)"
   ]
  },
  {
   "cell_type": "code",
   "execution_count": 29,
   "id": "009dc921",
   "metadata": {},
   "outputs": [
    {
     "name": "stdout",
     "output_type": "stream",
     "text": [
      "28.142857142857142\n"
     ]
    }
   ],
   "source": [
    "total = 0\n",
    "for index in range(len(data)):\n",
    "    total = total + data[index]\n",
    "\n",
    "mean = total / len(data)\n",
    "print(mean)            "
   ]
  },
  {
   "cell_type": "code",
   "execution_count": null,
   "id": "eb5f3794",
   "metadata": {},
   "outputs": [],
   "source": []
  }
 ],
 "metadata": {
  "kernelspec": {
   "display_name": "Python 3 (ipykernel)",
   "language": "python",
   "name": "python3"
  },
  "language_info": {
   "codemirror_mode": {
    "name": "ipython",
    "version": 3
   },
   "file_extension": ".py",
   "mimetype": "text/x-python",
   "name": "python",
   "nbconvert_exporter": "python",
   "pygments_lexer": "ipython3",
   "version": "3.8.10"
  }
 },
 "nbformat": 4,
 "nbformat_minor": 5
}
