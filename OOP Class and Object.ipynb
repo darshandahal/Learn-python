{
 "cells": [
  {
   "cell_type": "markdown",
   "id": "97806055",
   "metadata": {},
   "source": [
    "# creating empty class in pyhton"
   ]
  },
  {
   "cell_type": "code",
   "execution_count": null,
   "id": "469905c1",
   "metadata": {},
   "outputs": [],
   "source": [
    "class Person: # class\n",
    "    pass"
   ]
  },
  {
   "cell_type": "code",
   "execution_count": 2,
   "id": "efe8e188",
   "metadata": {},
   "outputs": [],
   "source": [
    "p1 = Person() # p1 is object of class Person"
   ]
  },
  {
   "cell_type": "code",
   "execution_count": 4,
   "id": "5bc1a385",
   "metadata": {},
   "outputs": [
    {
     "name": "stdout",
     "output_type": "stream",
     "text": [
      "<class '__main__.Person'>\n"
     ]
    }
   ],
   "source": [
    "print(type(p1))"
   ]
  },
  {
   "cell_type": "code",
   "execution_count": 5,
   "id": "9bfa4953",
   "metadata": {},
   "outputs": [
    {
     "name": "stdout",
     "output_type": "stream",
     "text": [
      "<class '__main__.Person'>\n"
     ]
    }
   ],
   "source": [
    "class Person:\n",
    "    pass\n",
    "if __name__ == '__main__':\n",
    "    p1 = Person()\n",
    "    print(type(p1))"
   ]
  },
  {
   "cell_type": "markdown",
   "id": "c35e176b",
   "metadata": {},
   "source": [
    "# class attribute and object attribute"
   ]
  },
  {
   "cell_type": "markdown",
   "id": "b0df163f",
   "metadata": {},
   "source": [
    "## class attribute "
   ]
  },
  {
   "cell_type": "code",
   "execution_count": 6,
   "id": "2a4b87e3",
   "metadata": {},
   "outputs": [],
   "source": [
    "class Mammal:\n",
    "    has_hair = True # class attribute\n",
    "    "
   ]
  },
  {
   "cell_type": "code",
   "execution_count": 10,
   "id": "daa7589e",
   "metadata": {},
   "outputs": [
    {
     "data": {
      "text/plain": [
       "True"
      ]
     },
     "execution_count": 10,
     "metadata": {},
     "output_type": "execute_result"
    }
   ],
   "source": [
    "human = Mammal()\n",
    "human.has_hair      # class attribute is same for all objects"
   ]
  },
  {
   "cell_type": "code",
   "execution_count": 11,
   "id": "fb45e284",
   "metadata": {},
   "outputs": [
    {
     "data": {
      "text/plain": [
       "True"
      ]
     },
     "execution_count": 11,
     "metadata": {},
     "output_type": "execute_result"
    }
   ],
   "source": [
    "cow = Mammal()    # class attribute is same for all objects\n",
    "cow.has_hair"
   ]
  },
  {
   "cell_type": "markdown",
   "id": "df5d7a4c",
   "metadata": {},
   "source": [
    "## object attribute"
   ]
  },
  {
   "cell_type": "code",
   "execution_count": 12,
   "id": "1f09afa1",
   "metadata": {},
   "outputs": [],
   "source": [
    "class Mammal:\n",
    "    has_hair = True\n",
    "    \n",
    "    def __init__(self,no_of_legs):\n",
    "        self.no_of_legs = no_of_legs"
   ]
  },
  {
   "cell_type": "code",
   "execution_count": 15,
   "id": "198d50bf",
   "metadata": {},
   "outputs": [
    {
     "name": "stdout",
     "output_type": "stream",
     "text": [
      "True\n",
      "2\n"
     ]
    }
   ],
   "source": [
    "human = Mammal(2)\n",
    "print(human.has_hair)\n",
    "print(human.no_of_legs)"
   ]
  },
  {
   "cell_type": "code",
   "execution_count": 16,
   "id": "1d2d8699",
   "metadata": {},
   "outputs": [
    {
     "name": "stdout",
     "output_type": "stream",
     "text": [
      "True\n",
      "4\n"
     ]
    }
   ],
   "source": [
    "cow = Mammal(4)\n",
    "print(cow.has_hair)\n",
    "print(cow.no_of_legs)"
   ]
  },
  {
   "cell_type": "markdown",
   "id": "1fcd44df",
   "metadata": {},
   "source": [
    "# what is self?"
   ]
  },
  {
   "cell_type": "code",
   "execution_count": 17,
   "id": "b1c6ab8a",
   "metadata": {},
   "outputs": [],
   "source": [
    "class Mammal:\n",
    "    def __init__(self, leg):\n",
    "        print(type(self))\n",
    "        self.leg = leg"
   ]
  },
  {
   "cell_type": "code",
   "execution_count": 18,
   "id": "bf54d359",
   "metadata": {},
   "outputs": [
    {
     "name": "stdout",
     "output_type": "stream",
     "text": [
      "<class '__main__.Mammal'>\n"
     ]
    }
   ],
   "source": [
    "human = Mammal(2)"
   ]
  },
  {
   "cell_type": "markdown",
   "id": "797212f4",
   "metadata": {},
   "source": [
    "# user defined method in class"
   ]
  },
  {
   "cell_type": "code",
   "execution_count": 22,
   "id": "fae2865a",
   "metadata": {},
   "outputs": [],
   "source": [
    "class Mammal:\n",
    "    def __init__(self,leg):\n",
    "        self.leg = leg\n",
    "    \n",
    "    def display_leg(self):\n",
    "        print(f\"You have {self.leg} legs\")\n",
    "    "
   ]
  },
  {
   "cell_type": "code",
   "execution_count": 23,
   "id": "c1d6a5b1",
   "metadata": {},
   "outputs": [],
   "source": [
    "cow = Mammal(4)"
   ]
  },
  {
   "cell_type": "code",
   "execution_count": 24,
   "id": "821a2351",
   "metadata": {},
   "outputs": [
    {
     "name": "stdout",
     "output_type": "stream",
     "text": [
      "You have 4 legs\n"
     ]
    }
   ],
   "source": [
    "cow.display_leg()"
   ]
  },
  {
   "cell_type": "code",
   "execution_count": null,
   "id": "ab5fc850",
   "metadata": {},
   "outputs": [],
   "source": []
  }
 ],
 "metadata": {
  "kernelspec": {
   "display_name": "Python 3 (ipykernel)",
   "language": "python",
   "name": "python3"
  },
  "language_info": {
   "codemirror_mode": {
    "name": "ipython",
    "version": 3
   },
   "file_extension": ".py",
   "mimetype": "text/x-python",
   "name": "python",
   "nbconvert_exporter": "python",
   "pygments_lexer": "ipython3",
   "version": "3.8.10"
  }
 },
 "nbformat": 4,
 "nbformat_minor": 5
}
