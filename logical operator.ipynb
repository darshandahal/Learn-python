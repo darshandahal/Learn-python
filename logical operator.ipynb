{
 "cells": [
  {
   "cell_type": "markdown",
   "id": "02c122fd",
   "metadata": {},
   "source": [
    "# Logical operator in python\n",
    "* and: all expression must be true to get true\n",
    "* or: one must be true to get true\n",
    "* not: negation, not true means false or not false means true\n",
    "| A  |  not A |\n",
    "| ---:  | ---:  |\n",
    "|true |  false |\n",
    "|false   | true  |"
   ]
  },
  {
   "cell_type": "code",
   "execution_count": 3,
   "id": "ccaed754",
   "metadata": {},
   "outputs": [
    {
     "name": "stdout",
     "output_type": "stream",
     "text": [
      "Both condition are not true\n"
     ]
    }
   ],
   "source": [
    "num = 5 \n",
    "if num > 0 and num < 5:\n",
    "    print(\"Both condition are true\")\n",
    "\n",
    "else:\n",
    "    print(\"Both condition are not true\")"
   ]
  },
  {
   "cell_type": "code",
   "execution_count": null,
   "id": "7d3e642e",
   "metadata": {},
   "outputs": [],
   "source": []
  }
 ],
 "metadata": {
  "kernelspec": {
   "display_name": "Python 3 (ipykernel)",
   "language": "python",
   "name": "python3"
  },
  "language_info": {
   "codemirror_mode": {
    "name": "ipython",
    "version": 3
   },
   "file_extension": ".py",
   "mimetype": "text/x-python",
   "name": "python",
   "nbconvert_exporter": "python",
   "pygments_lexer": "ipython3",
   "version": "3.8.10"
  }
 },
 "nbformat": 4,
 "nbformat_minor": 5
}
