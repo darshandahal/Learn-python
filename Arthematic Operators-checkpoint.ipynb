{
 "cells": [
  {
   "cell_type": "markdown",
   "id": "8c4be305",
   "metadata": {},
   "source": [
    "# Arthematic Operators in python\n",
    "* addition\n",
    "* subtraction\n",
    "* multiplication\n",
    "* division\n",
    "* exponential\n",
    "* floor division\n",
    "* modulus\n"
   ]
  },
  {
   "cell_type": "markdown",
   "id": "8a52475f",
   "metadata": {},
   "source": [
    "# Exponential\n",
    " to the power"
   ]
  },
  {
   "cell_type": "code",
   "execution_count": 1,
   "id": "b5c9b9ea",
   "metadata": {},
   "outputs": [
    {
     "data": {
      "text/plain": [
       "8"
      ]
     },
     "execution_count": 1,
     "metadata": {},
     "output_type": "execute_result"
    }
   ],
   "source": [
    "2**3 #2 to the power 3"
   ]
  },
  {
   "cell_type": "markdown",
   "id": "bb7c5e8d",
   "metadata": {},
   "source": [
    "# Floor devision"
   ]
  },
  {
   "cell_type": "code",
   "execution_count": 3,
   "id": "76335ef0",
   "metadata": {},
   "outputs": [
    {
     "data": {
      "text/plain": [
       "2"
      ]
     },
     "execution_count": 3,
     "metadata": {},
     "output_type": "execute_result"
    }
   ],
   "source": [
    "12//5 #2.4 ko floor value vanako 2 hunxa"
   ]
  },
  {
   "cell_type": "code",
   "execution_count": 4,
   "id": "40f6f038",
   "metadata": {},
   "outputs": [
    {
     "data": {
      "text/plain": [
       "2.4"
      ]
     },
     "execution_count": 4,
     "metadata": {},
     "output_type": "execute_result"
    }
   ],
   "source": [
    "12/5 # here we havent apply flooor division condition"
   ]
  },
  {
   "cell_type": "markdown",
   "id": "2ecf5863",
   "metadata": {},
   "source": [
    "# Modulus\n",
    "it means reminder"
   ]
  },
  {
   "cell_type": "code",
   "execution_count": 5,
   "id": "699bf560",
   "metadata": {},
   "outputs": [
    {
     "data": {
      "text/plain": [
       "2"
      ]
     },
     "execution_count": 5,
     "metadata": {},
     "output_type": "execute_result"
    }
   ],
   "source": [
    "12%5 # here output 2 is the reminder "
   ]
  },
  {
   "cell_type": "code",
   "execution_count": null,
   "id": "88e95f1f",
   "metadata": {},
   "outputs": [],
   "source": []
  }
 ],
 "metadata": {
  "kernelspec": {
   "display_name": "Python 3 (ipykernel)",
   "language": "python",
   "name": "python3"
  },
  "language_info": {
   "codemirror_mode": {
    "name": "ipython",
    "version": 3
   },
   "file_extension": ".py",
   "mimetype": "text/x-python",
   "name": "python",
   "nbconvert_exporter": "python",
   "pygments_lexer": "ipython3",
   "version": "3.8.10"
  }
 },
 "nbformat": 4,
 "nbformat_minor": 5
}
