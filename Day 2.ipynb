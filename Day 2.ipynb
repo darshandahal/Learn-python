{
 "cells": [
  {
   "cell_type": "code",
   "execution_count": 2,
   "id": "13a907d1",
   "metadata": {},
   "outputs": [
    {
     "name": "stdout",
     "output_type": "stream",
     "text": [
      " the final value of num1 is 0.36\n",
      " the final value of num2 is 2.5\n"
     ]
    }
   ],
   "source": [
    "num1 = 2.5\n",
    "num2 = 0.36\n",
    "a = num2\n",
    "num2 = num1\n",
    "num1 = a\n",
    "print ( f\" the final value of num1 is {num1}\")\n",
    "print ( f\" the final value of num2 is {num2}\" )\n"
   ]
  },
  {
   "cell_type": "markdown",
   "id": "06e8d025",
   "metadata": {},
   "source": [
    "# alternative way"
   ]
  },
  {
   "cell_type": "code",
   "execution_count": 3,
   "id": "d07affad",
   "metadata": {},
   "outputs": [],
   "source": [
    "num1 = 2.5\n",
    "num2 = 0.36\n"
   ]
  },
  {
   "cell_type": "code",
   "execution_count": 4,
   "id": "09075d36",
   "metadata": {},
   "outputs": [],
   "source": [
    "num1, num2 = num2, num1"
   ]
  },
  {
   "cell_type": "code",
   "execution_count": 5,
   "id": "b3d17059",
   "metadata": {},
   "outputs": [
    {
     "data": {
      "text/plain": [
       "0.36"
      ]
     },
     "execution_count": 5,
     "metadata": {},
     "output_type": "execute_result"
    }
   ],
   "source": [
    "num1"
   ]
  },
  {
   "cell_type": "code",
   "execution_count": 6,
   "id": "74dfff3b",
   "metadata": {},
   "outputs": [
    {
     "data": {
      "text/plain": [
       "2.5"
      ]
     },
     "execution_count": 6,
     "metadata": {},
     "output_type": "execute_result"
    }
   ],
   "source": [
    "num2"
   ]
  },
  {
   "cell_type": "markdown",
   "id": "0e91d8df",
   "metadata": {},
   "source": []
  }
 ],
 "metadata": {
  "kernelspec": {
   "display_name": "Python 3 (ipykernel)",
   "language": "python",
   "name": "python3"
  },
  "language_info": {
   "codemirror_mode": {
    "name": "ipython",
    "version": 3
   },
   "file_extension": ".py",
   "mimetype": "text/x-python",
   "name": "python",
   "nbconvert_exporter": "python",
   "pygments_lexer": "ipython3",
   "version": "3.8.10"
  }
 },
 "nbformat": 4,
 "nbformat_minor": 5
}
