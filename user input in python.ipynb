{
 "cells": [
  {
   "cell_type": "markdown",
   "id": "f0e84da8",
   "metadata": {},
   "source": [
    "# taking input from user"
   ]
  },
  {
   "cell_type": "code",
   "execution_count": 1,
   "id": "8881a59d",
   "metadata": {},
   "outputs": [
    {
     "name": "stdout",
     "output_type": "stream",
     "text": [
      "hello\n"
     ]
    },
    {
     "data": {
      "text/plain": [
       "'hello'"
      ]
     },
     "execution_count": 1,
     "metadata": {},
     "output_type": "execute_result"
    }
   ],
   "source": [
    "input()"
   ]
  },
  {
   "cell_type": "code",
   "execution_count": 2,
   "id": "b75060fe",
   "metadata": {},
   "outputs": [
    {
     "name": "stdout",
     "output_type": "stream",
     "text": [
      "Enter a number:3\n"
     ]
    }
   ],
   "source": [
    "user_input = input(\"Enter a number:\")"
   ]
  },
  {
   "cell_type": "code",
   "execution_count": 6,
   "id": "3e82f678",
   "metadata": {},
   "outputs": [
    {
     "name": "stdout",
     "output_type": "stream",
     "text": [
      "enter a first num:2\n",
      "enter a second num:3\n",
      "23\n"
     ]
    },
    {
     "data": {
      "text/plain": [
       "str"
      ]
     },
     "execution_count": 6,
     "metadata": {},
     "output_type": "execute_result"
    }
   ],
   "source": [
    "num1 = input(\"enter a first num:\")\n",
    "num2 = input(\"enter a second num:\")\n",
    "total = num1 + num2\n",
    "print(total)\n",
    "type(num1)\n"
   ]
  },
  {
   "cell_type": "markdown",
   "id": "0a1bee96",
   "metadata": {},
   "source": [
    "# Type casting in python"
   ]
  },
  {
   "cell_type": "code",
   "execution_count": 9,
   "id": "978241ce",
   "metadata": {},
   "outputs": [
    {
     "name": "stdout",
     "output_type": "stream",
     "text": [
      "enter a first num:2\n",
      "enter a second num:3\n",
      "5\n"
     ]
    },
    {
     "data": {
      "text/plain": [
       "int"
      ]
     },
     "execution_count": 9,
     "metadata": {},
     "output_type": "execute_result"
    }
   ],
   "source": [
    "num1 = int(input(\"enter a first num:\"))\n",
    "num2 = int(input(\"enter a second num:\"))\n",
    "total = num1 + num2\n",
    "print(total)\n",
    "type(num1)\n",
    "type(num2)"
   ]
  },
  {
   "cell_type": "markdown",
   "id": "8c44e284",
   "metadata": {},
   "source": []
  }
 ],
 "metadata": {
  "kernelspec": {
   "display_name": "Python 3 (ipykernel)",
   "language": "python",
   "name": "python3"
  },
  "language_info": {
   "codemirror_mode": {
    "name": "ipython",
    "version": 3
   },
   "file_extension": ".py",
   "mimetype": "text/x-python",
   "name": "python",
   "nbconvert_exporter": "python",
   "pygments_lexer": "ipython3",
   "version": "3.8.10"
  }
 },
 "nbformat": 4,
 "nbformat_minor": 5
}
