{
 "cells": [
  {
   "cell_type": "code",
   "execution_count": 1,
   "id": "2083a486",
   "metadata": {},
   "outputs": [],
   "source": [
    "s = \"hello world\""
   ]
  },
  {
   "cell_type": "code",
   "execution_count": 2,
   "id": "997830ab",
   "metadata": {},
   "outputs": [
    {
     "data": {
      "text/plain": [
       "11"
      ]
     },
     "execution_count": 2,
     "metadata": {},
     "output_type": "execute_result"
    }
   ],
   "source": [
    "len(s)"
   ]
  },
  {
   "cell_type": "markdown",
   "id": "9c55ba07",
   "metadata": {},
   "source": [
    "# Range (start, end, step)"
   ]
  },
  {
   "cell_type": "code",
   "execution_count": 3,
   "id": "35c63d44",
   "metadata": {},
   "outputs": [
    {
     "name": "stdout",
     "output_type": "stream",
     "text": [
      "0\n",
      "1\n",
      "2\n",
      "3\n",
      "4\n",
      "5\n",
      "6\n",
      "7\n",
      "8\n",
      "9\n",
      "10\n"
     ]
    }
   ],
   "source": [
    "for index in range(0, 11, 1):\n",
    "    print (index)\n"
   ]
  },
  {
   "cell_type": "code",
   "execution_count": 7,
   "id": "212b7b29",
   "metadata": {},
   "outputs": [],
   "source": [
    "start = 100\n",
    "end = 50\n",
    "step = 10"
   ]
  },
  {
   "cell_type": "code",
   "execution_count": 30,
   "id": "11f98b46",
   "metadata": {},
   "outputs": [
    {
     "data": {
      "text/plain": [
       "range(100, 50, -10)"
      ]
     },
     "execution_count": 30,
     "metadata": {},
     "output_type": "execute_result"
    }
   ],
   "source": [
    "start = 100\n",
    "end = 50\n",
    "step = 10\n",
    "range(start, end, -step)"
   ]
  },
  {
   "cell_type": "code",
   "execution_count": 13,
   "id": "00ec8006",
   "metadata": {},
   "outputs": [
    {
     "name": "stdout",
     "output_type": "stream",
     "text": [
      "0\n",
      "1\n",
      "2\n",
      "3\n",
      "4\n",
      "5\n",
      "6\n",
      "7\n",
      "8\n",
      "9\n",
      "10\n"
     ]
    }
   ],
   "source": [
    "\n",
    "\n",
    "for index in range(0, 11, 1):\n",
    "    print (index)"
   ]
  },
  {
   "cell_type": "code",
   "execution_count": 6,
   "id": "59d646db",
   "metadata": {},
   "outputs": [
    {
     "name": "stdout",
     "output_type": "stream",
     "text": [
      "hello\n"
     ]
    }
   ],
   "source": [
    "print(\"hello\")"
   ]
  },
  {
   "cell_type": "code",
   "execution_count": 11,
   "id": "b54414d9",
   "metadata": {},
   "outputs": [
    {
     "name": "stdout",
     "output_type": "stream",
     "text": [
      "0\n",
      "1\n",
      "2\n",
      "3\n",
      "4\n",
      "5\n",
      "6\n",
      "7\n",
      "8\n",
      "9\n",
      "10\n"
     ]
    }
   ],
   "source": [
    "for index in range(0, 11, 1):\n",
    "    print (index)\n"
   ]
  },
  {
   "cell_type": "code",
   "execution_count": 14,
   "id": "367a6026",
   "metadata": {},
   "outputs": [],
   "source": [
    "msg = \"good morning\""
   ]
  },
  {
   "cell_type": "code",
   "execution_count": 16,
   "id": "3f69298e",
   "metadata": {},
   "outputs": [
    {
     "name": "stdout",
     "output_type": "stream",
     "text": [
      "the index is 0 and the letter is g\n",
      "the index is 1 and the letter is o\n",
      "the index is 2 and the letter is o\n",
      "the index is 3 and the letter is d\n",
      "the index is 4 and the letter is  \n",
      "the index is 5 and the letter is m\n",
      "the index is 6 and the letter is o\n",
      "the index is 7 and the letter is r\n",
      "the index is 8 and the letter is n\n",
      "the index is 9 and the letter is i\n",
      "the index is 10 and the letter is n\n",
      "the index is 11 and the letter is g\n"
     ]
    }
   ],
   "source": [
    "for index in range(len(msg)):\n",
    "    letter = msg[index]\n",
    "    print( f\"the index is {index} and the letter is {letter}\")"
   ]
  },
  {
   "cell_type": "code",
   "execution_count": 18,
   "id": "d609f260",
   "metadata": {},
   "outputs": [
    {
     "name": "stdout",
     "output_type": "stream",
     "text": [
      "The index is 0 and the word is H\n",
      "The index is 1 and the word is i\n",
      "The index is 2 and the word is  \n",
      "The index is 3 and the word is i\n",
      "The index is 4 and the word is  \n",
      "The index is 5 and the word is a\n",
      "The index is 6 and the word is m\n",
      "The index is 7 and the word is  \n",
      "The index is 8 and the word is d\n",
      "The index is 9 and the word is e\n",
      "The index is 10 and the word is v\n",
      "The index is 11 and the word is e\n",
      "The index is 12 and the word is l\n",
      "The index is 13 and the word is o\n",
      "The index is 14 and the word is p\n",
      "The index is 15 and the word is e\n",
      "The index is 16 and the word is r\n"
     ]
    }
   ],
   "source": [
    "text = \"Hi i am developer\"\n",
    "\n",
    "for index in range(len(text)):\n",
    "    word = text[index]\n",
    "    print( f\"The index is {index} and the word is {word}\")"
   ]
  },
  {
   "cell_type": "code",
   "execution_count": 20,
   "id": "763a323a",
   "metadata": {},
   "outputs": [],
   "source": [
    "msg = \"hello world\""
   ]
  },
  {
   "cell_type": "code",
   "execution_count": 32,
   "id": "737e4aa5",
   "metadata": {},
   "outputs": [
    {
     "name": "stdout",
     "output_type": "stream",
     "text": [
      "The index is 10 and the word is d\n",
      "The index is 9 and the word is l\n",
      "The index is 8 and the word is r\n",
      "The index is 7 and the word is o\n",
      "The index is 6 and the word is w\n",
      "The index is 5 and the word is  \n",
      "The index is 4 and the word is o\n",
      "The index is 3 and the word is l\n",
      "The index is 2 and the word is l\n",
      "The index is 1 and the word is e\n",
      "The index is 0 and the word is h\n"
     ]
    }
   ],
   "source": [
    "for index in range(len(msg) - 1, -1, -1):  # here start = len(msg)-1, end=-1, and step= -1\n",
    "    word = msg[index]\n",
    "    print( f\"The index is {index} and the word is {word}\")\n",
    "    "
   ]
  },
  {
   "cell_type": "code",
   "execution_count": 27,
   "id": "145124a1",
   "metadata": {},
   "outputs": [
    {
     "name": "stdout",
     "output_type": "stream",
     "text": [
      "10\n",
      "9\n",
      "8\n",
      "7\n",
      "6\n",
      "5\n",
      "4\n",
      "3\n"
     ]
    }
   ],
   "source": [
    "for index in range(10, 2, -1):\n",
    "    print(index)"
   ]
  },
  {
   "cell_type": "code",
   "execution_count": 26,
   "id": "4f83b92f",
   "metadata": {},
   "outputs": [
    {
     "name": "stdout",
     "output_type": "stream",
     "text": [
      "0\n",
      "1\n",
      "2\n",
      "3\n",
      "4\n",
      "5\n",
      "6\n",
      "7\n",
      "8\n",
      "9\n"
     ]
    }
   ],
   "source": [
    "for index in range(0, 10, 1):\n",
    "    print(index)"
   ]
  },
  {
   "cell_type": "markdown",
   "id": "6a735d9a",
   "metadata": {},
   "source": [
    "# wap to print vowel and consonent in given word"
   ]
  },
  {
   "cell_type": "code",
   "execution_count": 37,
   "id": "73c69458",
   "metadata": {},
   "outputs": [
    {
     "name": "stdout",
     "output_type": "stream",
     "text": [
      "the letter a is vowel\n",
      "the letter e is vowel\n",
      "the letter y is consonent\n",
      "the letter i is vowel\n"
     ]
    }
   ],
   "source": [
    "s = \"aeyi\"\n",
    "for index in range(len(s)):\n",
    "    letter = s[index]\n",
    "    if letter == 'a' or letter == 'e' or letter == 'i' or letter == 'o' or letter == 'u':\n",
    "        print( f\"the letter {letter} is vowel\")\n",
    "    else:\n",
    "        print( f\"the letter {letter} is consonent\")"
   ]
  },
  {
   "cell_type": "markdown",
   "id": "72ad81cb",
   "metadata": {},
   "source": [
    "# Break and Continue statement"
   ]
  },
  {
   "cell_type": "code",
   "execution_count": 38,
   "id": "ba46e0e6",
   "metadata": {},
   "outputs": [
    {
     "name": "stdout",
     "output_type": "stream",
     "text": [
      "the letter a is vowel\n",
      "the letter b is consonent\n",
      "the letter c is consonent\n",
      "the letter   is consonent\n",
      "the letter d is consonent\n",
      "the letter e is vowel\n",
      "the letter f is consonent\n",
      "the letter   is consonent\n",
      "the letter g is consonent\n",
      "the letter h is consonent\n",
      "the letter i is vowel\n"
     ]
    }
   ],
   "source": [
    "text = 'abc def ghi'\n",
    "for index in range(len(text)):\n",
    "    letter = text[index]\n",
    "    if letter == 'a' or letter == 'e' or letter == 'i' or letter == 'o' or letter == 'u':\n",
    "        print( f\"the letter {letter} is vowel\")\n",
    "    \n",
    "\n",
    "    else:\n",
    "        print( f\"the letter {letter} is consonent\")\n",
    "    "
   ]
  },
  {
   "cell_type": "markdown",
   "id": "02273498",
   "metadata": {},
   "source": [
    "### applying continue"
   ]
  },
  {
   "cell_type": "code",
   "execution_count": 39,
   "id": "1d8963b6",
   "metadata": {},
   "outputs": [
    {
     "name": "stdout",
     "output_type": "stream",
     "text": [
      "the letter a is vowel\n",
      "the letter b is consonent\n",
      "the letter c is consonent\n",
      "the letter d is consonent\n",
      "the letter e is vowel\n",
      "the letter f is consonent\n",
      "the letter g is consonent\n",
      "the letter h is consonent\n",
      "the letter i is vowel\n"
     ]
    }
   ],
   "source": [
    "text = 'abc def ghi'\n",
    "for index in range(len(text)):\n",
    "    letter = text[index]\n",
    "    if letter == 'a' or letter == 'e' or letter == 'i' or letter == 'o' or letter == 'u':\n",
    "        print( f\"the letter {letter} is vowel\")\n",
    "    \n",
    "    elif letter == \" \":\n",
    "        continue\n",
    "        print(\"this is after continue\")\n",
    "\n",
    "    else:\n",
    "        print( f\"the letter {letter} is consonent\")\n",
    "    "
   ]
  },
  {
   "cell_type": "markdown",
   "id": "3824f584",
   "metadata": {},
   "source": [
    "### break"
   ]
  },
  {
   "cell_type": "code",
   "execution_count": 40,
   "id": "b11f9686",
   "metadata": {},
   "outputs": [
    {
     "name": "stdout",
     "output_type": "stream",
     "text": [
      "the letter a is vowel\n",
      "the letter b is consonent\n",
      "the letter c is consonent\n"
     ]
    }
   ],
   "source": [
    "text = 'abc def ghi'\n",
    "for index in range(len(text)):\n",
    "    letter = text[index]\n",
    "    if letter == 'a' or letter == 'e' or letter == 'i' or letter == 'o' or letter == 'u':\n",
    "        print( f\"the letter {letter} is vowel\")\n",
    "    \n",
    "    elif letter == \" \":\n",
    "        break\n",
    "        print(\"this is after continue\")\n",
    "\n",
    "    else:\n",
    "        print( f\"the letter {letter} is consonent\")\n",
    "    "
   ]
  },
  {
   "cell_type": "code",
   "execution_count": 44,
   "id": "868c0d18",
   "metadata": {},
   "outputs": [
    {
     "name": "stdout",
     "output_type": "stream",
     "text": [
      "1\n",
      "3\n",
      "4\n"
     ]
    }
   ],
   "source": [
    "for num in range(1, 5):\n",
    "    if num == 2:\n",
    "        continue     #skip the loop if the condition is true\n",
    "\n",
    "    print(num)"
   ]
  },
  {
   "cell_type": "code",
   "execution_count": 43,
   "id": "8b6c77b2",
   "metadata": {},
   "outputs": [
    {
     "name": "stdout",
     "output_type": "stream",
     "text": [
      "1\n"
     ]
    }
   ],
   "source": [
    "for num in range(1, 5):\n",
    "    if num == 2:\n",
    "        break      #terminates the entire loop if the condition is true \n",
    "\n",
    "    print(num)"
   ]
  },
  {
   "cell_type": "code",
   "execution_count": null,
   "id": "3fb0d8f6",
   "metadata": {},
   "outputs": [],
   "source": []
  }
 ],
 "metadata": {
  "kernelspec": {
   "display_name": "Python 3 (ipykernel)",
   "language": "python",
   "name": "python3"
  },
  "language_info": {
   "codemirror_mode": {
    "name": "ipython",
    "version": 3
   },
   "file_extension": ".py",
   "mimetype": "text/x-python",
   "name": "python",
   "nbconvert_exporter": "python",
   "pygments_lexer": "ipython3",
   "version": "3.8.10"
  }
 },
 "nbformat": 4,
 "nbformat_minor": 5
}
