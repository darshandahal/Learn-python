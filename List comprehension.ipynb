{
 "cells": [
  {
   "cell_type": "code",
   "execution_count": 1,
   "id": "ea3d6bd3",
   "metadata": {},
   "outputs": [],
   "source": [
    "fruit = [\"APPLE\", \"BANANA\", \"ORANGE\", \"MANGO\"]"
   ]
  },
  {
   "cell_type": "code",
   "execution_count": 8,
   "id": "3745a439",
   "metadata": {},
   "outputs": [],
   "source": [
    "lowred_fruit = []\n",
    "for item in fruit:\n",
    "    item = item.lower()\n",
    "    lowred_fruit.append(item)"
   ]
  },
  {
   "cell_type": "code",
   "execution_count": 11,
   "id": "3b395104",
   "metadata": {},
   "outputs": [
    {
     "data": {
      "text/plain": [
       "['apple', 'banana', 'orange', 'mango']"
      ]
     },
     "execution_count": 11,
     "metadata": {},
     "output_type": "execute_result"
    }
   ],
   "source": [
    "lowred_fruit"
   ]
  },
  {
   "cell_type": "code",
   "execution_count": 22,
   "id": "895a91a1",
   "metadata": {},
   "outputs": [
    {
     "data": {
      "text/plain": [
       "['apple', 'banana', 'orange', 'mango']"
      ]
     },
     "execution_count": 22,
     "metadata": {},
     "output_type": "execute_result"
    }
   ],
   "source": [
    "[item.lower() for item in fruit] # this is list comprehension"
   ]
  },
  {
   "cell_type": "code",
   "execution_count": null,
   "id": "eccfc766",
   "metadata": {},
   "outputs": [],
   "source": []
  },
  {
   "cell_type": "code",
   "execution_count": null,
   "id": "c7362a4f",
   "metadata": {},
   "outputs": [],
   "source": []
  },
  {
   "cell_type": "code",
   "execution_count": null,
   "id": "18d781eb",
   "metadata": {},
   "outputs": [],
   "source": []
  },
  {
   "cell_type": "code",
   "execution_count": 12,
   "id": "31730e79",
   "metadata": {},
   "outputs": [],
   "source": [
    "sq = []\n",
    "for num in range(1, 15):\n",
    "    sq.append(num**2)"
   ]
  },
  {
   "cell_type": "code",
   "execution_count": 14,
   "id": "e01d745f",
   "metadata": {},
   "outputs": [
    {
     "data": {
      "text/plain": [
       "[1, 4, 9, 16, 25, 36, 49, 64, 81, 100, 121, 144, 169, 196]"
      ]
     },
     "execution_count": 14,
     "metadata": {},
     "output_type": "execute_result"
    }
   ],
   "source": [
    "sq"
   ]
  },
  {
   "cell_type": "code",
   "execution_count": 15,
   "id": "3b3415ff",
   "metadata": {},
   "outputs": [],
   "source": [
    "cube = []\n",
    "for num in range(1, 15):\n",
    "    cube.append(num**3)"
   ]
  },
  {
   "cell_type": "code",
   "execution_count": 16,
   "id": "3e0e6322",
   "metadata": {},
   "outputs": [
    {
     "data": {
      "text/plain": [
       "[1, 8, 27, 64, 125, 216, 343, 512, 729, 1000, 1331, 1728, 2197, 2744]"
      ]
     },
     "execution_count": 16,
     "metadata": {},
     "output_type": "execute_result"
    }
   ],
   "source": [
    "cube"
   ]
  },
  {
   "cell_type": "markdown",
   "id": "1c387267",
   "metadata": {},
   "source": [
    "# using list comprehension"
   ]
  },
  {
   "cell_type": "code",
   "execution_count": 23,
   "id": "1991e1bf",
   "metadata": {},
   "outputs": [
    {
     "data": {
      "text/plain": [
       "[1, 4, 9, 16, 25, 36, 49, 64, 81, 100, 121, 144, 169, 196]"
      ]
     },
     "execution_count": 23,
     "metadata": {},
     "output_type": "execute_result"
    }
   ],
   "source": [
    "[index**2 for index in range(1, 15)]"
   ]
  },
  {
   "cell_type": "code",
   "execution_count": 24,
   "id": "56e5b389",
   "metadata": {},
   "outputs": [
    {
     "data": {
      "text/plain": [
       "[1, 8, 27, 64, 125, 216, 343, 512, 729, 1000, 1331, 1728, 2197, 2744]"
      ]
     },
     "execution_count": 24,
     "metadata": {},
     "output_type": "execute_result"
    }
   ],
   "source": [
    "[index**3 for index in range(1, 15)]"
   ]
  },
  {
   "cell_type": "markdown",
   "id": "dbc6da55",
   "metadata": {},
   "source": [
    "``` python\n",
    "[Expression for item in iterables]\n",
    "```"
   ]
  },
  {
   "cell_type": "markdown",
   "id": "d51d7ff5",
   "metadata": {},
   "source": [
    "# list comprehension with if"
   ]
  },
  {
   "cell_type": "markdown",
   "id": "e5da3614",
   "metadata": {},
   "source": [
    "### Accept only numbers lower then 5 from range -5 to 10"
   ]
  },
  {
   "cell_type": "code",
   "execution_count": 26,
   "id": "30b734d1",
   "metadata": {},
   "outputs": [],
   "source": [
    "lt5 = []\n",
    "for index in range(-5, 10):\n",
    "    if index < 5:\n",
    "        lt5.append(index)"
   ]
  },
  {
   "cell_type": "code",
   "execution_count": 27,
   "id": "2cbdb1ce",
   "metadata": {},
   "outputs": [
    {
     "data": {
      "text/plain": [
       "[-5, -4, -3, -2, -1, 0, 1, 2, 3, 4]"
      ]
     },
     "execution_count": 27,
     "metadata": {},
     "output_type": "execute_result"
    }
   ],
   "source": [
    "lt5"
   ]
  },
  {
   "cell_type": "code",
   "execution_count": 28,
   "id": "f5ae8991",
   "metadata": {},
   "outputs": [
    {
     "data": {
      "text/plain": [
       "[-5, -4, -3, -2, -1, 0, 1, 2, 3, 4]"
      ]
     },
     "execution_count": 28,
     "metadata": {},
     "output_type": "execute_result"
    }
   ],
   "source": [
    "lt5 = []\n",
    "[index for index in range(-5, 10) if index < 5]\n"
   ]
  },
  {
   "cell_type": "code",
   "execution_count": 40,
   "id": "ef1ae0e1",
   "metadata": {},
   "outputs": [],
   "source": [
    "fruits = ['apple', 'banana', 'apple', 'mango']"
   ]
  },
  {
   "cell_type": "code",
   "execution_count": 42,
   "id": "b81f427f",
   "metadata": {},
   "outputs": [
    {
     "data": {
      "text/plain": [
       "['banana', 'mango']"
      ]
     },
     "execution_count": 42,
     "metadata": {},
     "output_type": "execute_result"
    }
   ],
   "source": [
    "[item for item in fruits if item != 'apple']"
   ]
  },
  {
   "cell_type": "markdown",
   "id": "55bfbddd",
   "metadata": {},
   "source": [
    "``` python\n",
    "[expression for item in iterable if True]\n",
    "```"
   ]
  },
  {
   "cell_type": "markdown",
   "id": "f8f9fcca",
   "metadata": {},
   "source": [
    "# list comprehension with if else condition"
   ]
  },
  {
   "cell_type": "markdown",
   "id": "a40da81d",
   "metadata": {},
   "source": [
    "``` python\n",
    "[expression if True else expression for item in iterables]\n",
    "```"
   ]
  },
  {
   "cell_type": "markdown",
   "id": "c6da2609",
   "metadata": {},
   "source": [
    "<img src\"\">"
   ]
  },
  {
   "cell_type": "code",
   "execution_count": 44,
   "id": "db7a5b6c",
   "metadata": {},
   "outputs": [
    {
     "data": {
      "text/plain": [
       "[0,\n",
       " 0,\n",
       " 0,\n",
       " 0,\n",
       " 0,\n",
       " 0,\n",
       " 0,\n",
       " 0,\n",
       " 0,\n",
       " 0,\n",
       " 0,\n",
       " 0,\n",
       " 0,\n",
       " 0,\n",
       " 0,\n",
       " 0,\n",
       " 1,\n",
       " 2,\n",
       " 3,\n",
       " 4,\n",
       " 5,\n",
       " 6,\n",
       " 7,\n",
       " 8,\n",
       " 9,\n",
       " 10,\n",
       " 11,\n",
       " 12,\n",
       " 13,\n",
       " 14]"
      ]
     },
     "execution_count": 44,
     "metadata": {},
     "output_type": "execute_result"
    }
   ],
   "source": [
    "[0 if x <= 0 else x for x in range(-15, 15) ]"
   ]
  },
  {
   "cell_type": "markdown",
   "id": "429e57d8",
   "metadata": {},
   "source": [
    "# given a list w a p that replace everything with orange if items is not banana . if it is banana keep as it is"
   ]
  },
  {
   "cell_type": "code",
   "execution_count": null,
   "id": "920e1f78",
   "metadata": {},
   "outputs": [],
   "source": [
    "fruits = ['apple', 'banana', 'cherry', 'kiwi', 'mango']\n",
    "new_list = [for ]"
   ]
  }
 ],
 "metadata": {
  "kernelspec": {
   "display_name": "Python 3 (ipykernel)",
   "language": "python",
   "name": "python3"
  },
  "language_info": {
   "codemirror_mode": {
    "name": "ipython",
    "version": 3
   },
   "file_extension": ".py",
   "mimetype": "text/x-python",
   "name": "python",
   "nbconvert_exporter": "python",
   "pygments_lexer": "ipython3",
   "version": "3.8.10"
  }
 },
 "nbformat": 4,
 "nbformat_minor": 5
}
