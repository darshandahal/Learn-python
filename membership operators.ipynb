{
 "cells": [
  {
   "cell_type": "markdown",
   "id": "afa3d528",
   "metadata": {},
   "source": [
    "# how to check if something is in the list or not?\n",
    "# -- membership operators"
   ]
  },
  {
   "cell_type": "code",
   "execution_count": 1,
   "id": "87045790",
   "metadata": {},
   "outputs": [],
   "source": [
    "students = ['shraddha', 'manzil', 'jyoti', 'darshan', 'rekha']"
   ]
  },
  {
   "cell_type": "code",
   "execution_count": 3,
   "id": "f068a58c",
   "metadata": {},
   "outputs": [
    {
     "data": {
      "text/plain": [
       "False"
      ]
     },
     "execution_count": 3,
     "metadata": {},
     "output_type": "execute_result"
    }
   ],
   "source": [
    "'samrat' in students"
   ]
  },
  {
   "cell_type": "code",
   "execution_count": 4,
   "id": "0365923d",
   "metadata": {},
   "outputs": [
    {
     "data": {
      "text/plain": [
       "True"
      ]
     },
     "execution_count": 4,
     "metadata": {},
     "output_type": "execute_result"
    }
   ],
   "source": [
    "\"darshan\" in students"
   ]
  },
  {
   "cell_type": "code",
   "execution_count": 5,
   "id": "87d77013",
   "metadata": {},
   "outputs": [
    {
     "data": {
      "text/plain": [
       "True"
      ]
     },
     "execution_count": 5,
     "metadata": {},
     "output_type": "execute_result"
    }
   ],
   "source": [
    "\"samrat\" not in students"
   ]
  },
  {
   "cell_type": "markdown",
   "id": "2ceb9ccf",
   "metadata": {},
   "source": [
    "# python list are mutable"
   ]
  },
  {
   "cell_type": "code",
   "execution_count": 6,
   "id": "656a326f",
   "metadata": {},
   "outputs": [],
   "source": [
    "fruits = [\"apple\", \"banana\", \"mango\", \"orange\", \"pear\"]"
   ]
  },
  {
   "cell_type": "code",
   "execution_count": 7,
   "id": "dd49ee64",
   "metadata": {},
   "outputs": [
    {
     "data": {
      "text/plain": [
       "'banana'"
      ]
     },
     "execution_count": 7,
     "metadata": {},
     "output_type": "execute_result"
    }
   ],
   "source": [
    "fruits[1]"
   ]
  },
  {
   "cell_type": "code",
   "execution_count": 8,
   "id": "33584f3d",
   "metadata": {},
   "outputs": [],
   "source": [
    "fruits[1] = 'pineapple'"
   ]
  },
  {
   "cell_type": "code",
   "execution_count": 9,
   "id": "00df647b",
   "metadata": {},
   "outputs": [
    {
     "data": {
      "text/plain": [
       "['apple', 'pineapple', 'mango', 'orange', 'pear']"
      ]
     },
     "execution_count": 9,
     "metadata": {},
     "output_type": "execute_result"
    }
   ],
   "source": [
    "fruits"
   ]
  },
  {
   "cell_type": "code",
   "execution_count": 10,
   "id": "daffa920",
   "metadata": {},
   "outputs": [],
   "source": [
    "fruits = [\"apple\", \"banana\", \"mango\", \"orange\", \"kiwi\", \"mango\"]"
   ]
  },
  {
   "cell_type": "code",
   "execution_count": 12,
   "id": "fc03557a",
   "metadata": {},
   "outputs": [
    {
     "data": {
      "text/plain": [
       "['banana', 'mango']"
      ]
     },
     "execution_count": 12,
     "metadata": {},
     "output_type": "execute_result"
    }
   ],
   "source": [
    "fruits[1:3]"
   ]
  },
  {
   "cell_type": "code",
   "execution_count": 13,
   "id": "448db16d",
   "metadata": {},
   "outputs": [],
   "source": [
    "fruits[1:3] = [\"black current\", \"guava\"]"
   ]
  },
  {
   "cell_type": "code",
   "execution_count": 14,
   "id": "0967513b",
   "metadata": {},
   "outputs": [
    {
     "data": {
      "text/plain": [
       "['apple', 'black current', 'guava', 'orange', 'kiwi', 'mango']"
      ]
     },
     "execution_count": 14,
     "metadata": {},
     "output_type": "execute_result"
    }
   ],
   "source": [
    "fruits"
   ]
  },
  {
   "cell_type": "code",
   "execution_count": 16,
   "id": "3057eab6",
   "metadata": {},
   "outputs": [
    {
     "data": {
      "text/plain": [
       "['black current', 'guava', 'orange', 'kiwi', 'mango']"
      ]
     },
     "execution_count": 16,
     "metadata": {},
     "output_type": "execute_result"
    }
   ],
   "source": [
    "fruits[1:6]"
   ]
  },
  {
   "cell_type": "markdown",
   "id": "1e860158",
   "metadata": {},
   "source": [
    "# list methods"
   ]
  },
  {
   "cell_type": "markdown",
   "id": "916f8c7e",
   "metadata": {},
   "source": [
    "# . insert()"
   ]
  },
  {
   "cell_type": "code",
   "execution_count": 19,
   "id": "3a181ac0",
   "metadata": {},
   "outputs": [],
   "source": [
    "fruits = ['apple', 'black current', 'guava', 'orange', 'kiwi', 'mango']"
   ]
  },
  {
   "cell_type": "code",
   "execution_count": 20,
   "id": "dffed9c7",
   "metadata": {},
   "outputs": [],
   "source": [
    "fruits.insert(1, 'dragon fruit')"
   ]
  },
  {
   "cell_type": "code",
   "execution_count": 21,
   "id": "b27a5a63",
   "metadata": {},
   "outputs": [
    {
     "data": {
      "text/plain": [
       "['apple', 'dragon fruit', 'black current', 'guava', 'orange', 'kiwi', 'mango']"
      ]
     },
     "execution_count": 21,
     "metadata": {},
     "output_type": "execute_result"
    }
   ],
   "source": [
    "fruits"
   ]
  },
  {
   "cell_type": "markdown",
   "id": "89241f54",
   "metadata": {},
   "source": [
    "# .append()"
   ]
  },
  {
   "cell_type": "code",
   "execution_count": 22,
   "id": "9a64e665",
   "metadata": {},
   "outputs": [],
   "source": [
    "### creating empty list"
   ]
  },
  {
   "cell_type": "code",
   "execution_count": 23,
   "id": "0277ef16",
   "metadata": {},
   "outputs": [],
   "source": [
    "cars = []"
   ]
  },
  {
   "cell_type": "code",
   "execution_count": 24,
   "id": "66b3d22f",
   "metadata": {},
   "outputs": [
    {
     "data": {
      "text/plain": [
       "list"
      ]
     },
     "execution_count": 24,
     "metadata": {},
     "output_type": "execute_result"
    }
   ],
   "source": [
    "type(cars)"
   ]
  },
  {
   "cell_type": "code",
   "execution_count": 25,
   "id": "91f71218",
   "metadata": {},
   "outputs": [
    {
     "data": {
      "text/plain": [
       "[]"
      ]
     },
     "execution_count": 25,
     "metadata": {},
     "output_type": "execute_result"
    }
   ],
   "source": [
    "cars"
   ]
  },
  {
   "cell_type": "code",
   "execution_count": 26,
   "id": "f6190bf8",
   "metadata": {},
   "outputs": [],
   "source": [
    "### other way to create empty list "
   ]
  },
  {
   "cell_type": "code",
   "execution_count": 27,
   "id": "1bc4ec81",
   "metadata": {},
   "outputs": [],
   "source": [
    "cars = list() # using list constructor "
   ]
  },
  {
   "cell_type": "code",
   "execution_count": 28,
   "id": "3e191a6b",
   "metadata": {},
   "outputs": [
    {
     "data": {
      "text/plain": [
       "list"
      ]
     },
     "execution_count": 28,
     "metadata": {},
     "output_type": "execute_result"
    }
   ],
   "source": [
    "type(cars)"
   ]
  },
  {
   "cell_type": "code",
   "execution_count": 29,
   "id": "0eaeea28",
   "metadata": {},
   "outputs": [
    {
     "data": {
      "text/plain": [
       "[]"
      ]
     },
     "execution_count": 29,
     "metadata": {},
     "output_type": "execute_result"
    }
   ],
   "source": [
    "cars"
   ]
  },
  {
   "cell_type": "code",
   "execution_count": 30,
   "id": "bc40db8b",
   "metadata": {},
   "outputs": [],
   "source": [
    "cars.append(\"audi\")"
   ]
  },
  {
   "cell_type": "code",
   "execution_count": 31,
   "id": "1a073754",
   "metadata": {},
   "outputs": [
    {
     "data": {
      "text/plain": [
       "['audi']"
      ]
     },
     "execution_count": 31,
     "metadata": {},
     "output_type": "execute_result"
    }
   ],
   "source": [
    "cars"
   ]
  },
  {
   "cell_type": "code",
   "execution_count": 32,
   "id": "4d44be0b",
   "metadata": {},
   "outputs": [],
   "source": [
    "cars.append(\"bently\")"
   ]
  },
  {
   "cell_type": "code",
   "execution_count": 33,
   "id": "7d6b9e1b",
   "metadata": {},
   "outputs": [
    {
     "data": {
      "text/plain": [
       "['audi', 'bently']"
      ]
     },
     "execution_count": 33,
     "metadata": {},
     "output_type": "execute_result"
    }
   ],
   "source": [
    "cars"
   ]
  },
  {
   "cell_type": "code",
   "execution_count": 36,
   "id": "ea09c42a",
   "metadata": {},
   "outputs": [],
   "source": [
    "cars.append(\"mercedes\")"
   ]
  },
  {
   "cell_type": "code",
   "execution_count": 37,
   "id": "65f98d29",
   "metadata": {},
   "outputs": [
    {
     "data": {
      "text/plain": [
       "['audi', 'bently', 'mercedies', 'mercedes']"
      ]
     },
     "execution_count": 37,
     "metadata": {},
     "output_type": "execute_result"
    }
   ],
   "source": [
    "cars"
   ]
  },
  {
   "cell_type": "code",
   "execution_count": 38,
   "id": "1f1eb597",
   "metadata": {},
   "outputs": [],
   "source": [
    "# WAP to extract even number between 1 to 10 on list"
   ]
  },
  {
   "cell_type": "code",
   "execution_count": 39,
   "id": "6c96a133",
   "metadata": {},
   "outputs": [],
   "source": [
    "numbers = [1, 2, 3, 4, 5, 6, 7, 8, 9, 10]"
   ]
  },
  {
   "cell_type": "code",
   "execution_count": 40,
   "id": "0469972c",
   "metadata": {},
   "outputs": [
    {
     "name": "stdout",
     "output_type": "stream",
     "text": [
      "2\n",
      "4\n",
      "6\n",
      "8\n",
      "10\n"
     ]
    }
   ],
   "source": [
    "for items in numbers:\n",
    "    if items %2 == 0:\n",
    "        print(items)\n",
    "    "
   ]
  },
  {
   "cell_type": "code",
   "execution_count": 52,
   "id": "201a3e90",
   "metadata": {},
   "outputs": [],
   "source": [
    "even = []\n",
    "odd = []"
   ]
  },
  {
   "cell_type": "code",
   "execution_count": 53,
   "id": "e031aae5",
   "metadata": {},
   "outputs": [],
   "source": [
    "for num in range(1,10):\n",
    "    if num %2 == 0:\n",
    "        even.append(num)\n",
    "    else:\n",
    "        odd.append(num)\n",
    "    "
   ]
  },
  {
   "cell_type": "code",
   "execution_count": 54,
   "id": "599af54d",
   "metadata": {},
   "outputs": [
    {
     "data": {
      "text/plain": [
       "[2, 4, 6, 8]"
      ]
     },
     "execution_count": 54,
     "metadata": {},
     "output_type": "execute_result"
    }
   ],
   "source": [
    "even"
   ]
  },
  {
   "cell_type": "code",
   "execution_count": 55,
   "id": "95925cde",
   "metadata": {},
   "outputs": [
    {
     "data": {
      "text/plain": [
       "[1, 3, 5, 7, 9]"
      ]
     },
     "execution_count": 55,
     "metadata": {},
     "output_type": "execute_result"
    }
   ],
   "source": [
    "odd"
   ]
  },
  {
   "cell_type": "markdown",
   "id": "86a8472f",
   "metadata": {},
   "source": [
    "# you can append elements from another list to the current list, use the extend() method"
   ]
  },
  {
   "cell_type": "code",
   "execution_count": 64,
   "id": "8790024d",
   "metadata": {},
   "outputs": [],
   "source": [
    "a = [55, 63, 3]"
   ]
  },
  {
   "cell_type": "code",
   "execution_count": 65,
   "id": "9c74efbe",
   "metadata": {},
   "outputs": [],
   "source": [
    "b = [5, 2, 1]"
   ]
  },
  {
   "cell_type": "code",
   "execution_count": 66,
   "id": "e82dd81b",
   "metadata": {},
   "outputs": [
    {
     "data": {
      "text/plain": [
       "[55, 63, 3, 5, 2, 1]"
      ]
     },
     "execution_count": 66,
     "metadata": {},
     "output_type": "execute_result"
    }
   ],
   "source": [
    "a + b"
   ]
  },
  {
   "cell_type": "code",
   "execution_count": 67,
   "id": "355600ca",
   "metadata": {},
   "outputs": [],
   "source": [
    "a = [55, 63, 3]\n",
    "b = [5, 2, 1]\n",
    "a.extend(b)"
   ]
  },
  {
   "cell_type": "code",
   "execution_count": 68,
   "id": "0d78be48",
   "metadata": {},
   "outputs": [
    {
     "data": {
      "text/plain": [
       "[55, 63, 3, 5, 2, 1]"
      ]
     },
     "execution_count": 68,
     "metadata": {},
     "output_type": "execute_result"
    }
   ],
   "source": [
    "a"
   ]
  },
  {
   "cell_type": "markdown",
   "id": "0a9eaf24",
   "metadata": {},
   "source": [
    "# .remove"
   ]
  },
  {
   "cell_type": "code",
   "execution_count": 77,
   "id": "0b8a9e7b",
   "metadata": {},
   "outputs": [],
   "source": [
    "cars = [\"audi\", \"nano\", \"mercedes\", \"nano\", \"audi\"]"
   ]
  },
  {
   "cell_type": "code",
   "execution_count": 78,
   "id": "cbf87e54",
   "metadata": {},
   "outputs": [],
   "source": [
    "cars.remove(\"nano\")  # remove only first occurence"
   ]
  },
  {
   "cell_type": "code",
   "execution_count": 79,
   "id": "4f6e7a96",
   "metadata": {},
   "outputs": [
    {
     "data": {
      "text/plain": [
       "['audi', 'mercedes', 'nano', 'audi']"
      ]
     },
     "execution_count": 79,
     "metadata": {},
     "output_type": "execute_result"
    }
   ],
   "source": [
    "cars"
   ]
  },
  {
   "cell_type": "markdown",
   "id": "57821851",
   "metadata": {},
   "source": [
    "# .pop()"
   ]
  },
  {
   "cell_type": "code",
   "execution_count": 80,
   "id": "ecb120cf",
   "metadata": {},
   "outputs": [],
   "source": [
    "cars = [\"audi\", \"nano\", \"mercedes\", \"nano\", \"audi\"]"
   ]
  },
  {
   "cell_type": "code",
   "execution_count": 81,
   "id": "345a3bc5",
   "metadata": {},
   "outputs": [
    {
     "data": {
      "text/plain": [
       "'audi'"
      ]
     },
     "execution_count": 81,
     "metadata": {},
     "output_type": "execute_result"
    }
   ],
   "source": [
    "cars.pop()"
   ]
  },
  {
   "cell_type": "code",
   "execution_count": 82,
   "id": "5fb1dc02",
   "metadata": {},
   "outputs": [
    {
     "data": {
      "text/plain": [
       "['audi', 'nano', 'mercedes', 'nano']"
      ]
     },
     "execution_count": 82,
     "metadata": {},
     "output_type": "execute_result"
    }
   ],
   "source": [
    "cars"
   ]
  },
  {
   "cell_type": "code",
   "execution_count": 83,
   "id": "68660eca",
   "metadata": {},
   "outputs": [],
   "source": [
    "# .append() is opposite of .pop()  append adds the item in list whereas pop removes the item from the list"
   ]
  },
  {
   "cell_type": "code",
   "execution_count": 84,
   "id": "46c496bf",
   "metadata": {},
   "outputs": [],
   "source": [
    "# append() and pop() together are used to push and pop data from list therefore list can be used as stack data structure"
   ]
  },
  {
   "cell_type": "code",
   "execution_count": 85,
   "id": "9da15a1e",
   "metadata": {},
   "outputs": [],
   "source": [
    "cars = [\"audi\", \"nano\", \"mercedes\", \"nano\", \"audi\"]"
   ]
  },
  {
   "cell_type": "code",
   "execution_count": 86,
   "id": "74d25c06",
   "metadata": {},
   "outputs": [
    {
     "data": {
      "text/plain": [
       "'mercedes'"
      ]
     },
     "execution_count": 86,
     "metadata": {},
     "output_type": "execute_result"
    }
   ],
   "source": [
    "cars.pop(2)"
   ]
  },
  {
   "cell_type": "code",
   "execution_count": 87,
   "id": "ca8aa3c1",
   "metadata": {},
   "outputs": [
    {
     "data": {
      "text/plain": [
       "['audi', 'nano', 'nano', 'audi']"
      ]
     },
     "execution_count": 87,
     "metadata": {},
     "output_type": "execute_result"
    }
   ],
   "source": [
    "cars"
   ]
  },
  {
   "cell_type": "markdown",
   "id": "ef21a18a",
   "metadata": {},
   "source": [
    "# sorting of list "
   ]
  },
  {
   "cell_type": "code",
   "execution_count": 88,
   "id": "7fac4d8e",
   "metadata": {},
   "outputs": [],
   "source": [
    "nums = [-2, -11, 44, 5, 7, 99, -8]"
   ]
  },
  {
   "cell_type": "code",
   "execution_count": 90,
   "id": "53a9b6c8",
   "metadata": {},
   "outputs": [],
   "source": [
    "nums.sort()"
   ]
  },
  {
   "cell_type": "code",
   "execution_count": 91,
   "id": "f0ba70e2",
   "metadata": {},
   "outputs": [
    {
     "data": {
      "text/plain": [
       "[-11, -8, -2, 5, 7, 44, 99]"
      ]
     },
     "execution_count": 91,
     "metadata": {},
     "output_type": "execute_result"
    }
   ],
   "source": [
    "nums"
   ]
  },
  {
   "cell_type": "code",
   "execution_count": 93,
   "id": "20282392",
   "metadata": {},
   "outputs": [
    {
     "data": {
      "text/plain": [
       "[99, 44, 7, 5, -2, -8, -11]"
      ]
     },
     "execution_count": 93,
     "metadata": {},
     "output_type": "execute_result"
    }
   ],
   "source": [
    "nums = [-2, -11, 44, 5, 7, 99, -8]\n",
    "nums.sort(reverse=True)\n",
    "nums"
   ]
  },
  {
   "cell_type": "code",
   "execution_count": 98,
   "id": "a3171618",
   "metadata": {},
   "outputs": [],
   "source": [
    "# sorted dont update the variables"
   ]
  },
  {
   "cell_type": "code",
   "execution_count": 99,
   "id": "c48da771",
   "metadata": {},
   "outputs": [
    {
     "data": {
      "text/plain": [
       "[-11, -8, -2, 5, 7, 44, 99]"
      ]
     },
     "execution_count": 99,
     "metadata": {},
     "output_type": "execute_result"
    }
   ],
   "source": [
    "nums = [-2, -11, 44, 5, 7, 99, -8]\n",
    "sorted(nums)"
   ]
  },
  {
   "cell_type": "code",
   "execution_count": 100,
   "id": "03df525b",
   "metadata": {},
   "outputs": [
    {
     "data": {
      "text/plain": [
       "[-2, -11, 44, 5, 7, 99, -8]"
      ]
     },
     "execution_count": 100,
     "metadata": {},
     "output_type": "execute_result"
    }
   ],
   "source": [
    "nums"
   ]
  },
  {
   "cell_type": "code",
   "execution_count": 101,
   "id": "a3a0543c",
   "metadata": {},
   "outputs": [
    {
     "data": {
      "text/plain": [
       "[99, 44, 7, 5, -2, -8, -11]"
      ]
     },
     "execution_count": 101,
     "metadata": {},
     "output_type": "execute_result"
    }
   ],
   "source": [
    "nums = [-2, -11, 44, 5, 7, 99, -8]\n",
    "sorted(nums, reverse=True)"
   ]
  },
  {
   "cell_type": "code",
   "execution_count": 102,
   "id": "4c98e74e",
   "metadata": {},
   "outputs": [
    {
     "data": {
      "text/plain": [
       "[-2, -11, 44, 5, 7, 99, -8]"
      ]
     },
     "execution_count": 102,
     "metadata": {},
     "output_type": "execute_result"
    }
   ],
   "source": [
    "nums"
   ]
  },
  {
   "cell_type": "code",
   "execution_count": null,
   "id": "a422f62b",
   "metadata": {},
   "outputs": [],
   "source": [
    "# wap to find square from 0-10 "
   ]
  },
  {
   "cell_type": "code",
   "execution_count": null,
   "id": "9949fe9a",
   "metadata": {},
   "outputs": [],
   "source": []
  }
 ],
 "metadata": {
  "kernelspec": {
   "display_name": "Python 3 (ipykernel)",
   "language": "python",
   "name": "python3"
  },
  "language_info": {
   "codemirror_mode": {
    "name": "ipython",
    "version": 3
   },
   "file_extension": ".py",
   "mimetype": "text/x-python",
   "name": "python",
   "nbconvert_exporter": "python",
   "pygments_lexer": "ipython3",
   "version": "3.8.10"
  }
 },
 "nbformat": 4,
 "nbformat_minor": 5
}
