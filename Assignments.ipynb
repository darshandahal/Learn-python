{
 "cells": [
  {
   "cell_type": "markdown",
   "id": "60039b3f",
   "metadata": {},
   "source": [
    "### Q.1 WAP to check weather the user given input integer is positive\n",
    "###         or negative number. If positive, print positive else negative."
   ]
  },
  {
   "cell_type": "code",
   "execution_count": 1,
   "id": "57474d59",
   "metadata": {},
   "outputs": [
    {
     "name": "stdout",
     "output_type": "stream",
     "text": [
      "Enter a number:4\n",
      "The given number is positive\n"
     ]
    }
   ],
   "source": [
    "number = int(input(\"Enter a number:\"))\n",
    "if number >= 0:\n",
    "    print(\"The given number is positive\")\n",
    "else:\n",
    "    print(\"The given num is negative\")"
   ]
  },
  {
   "cell_type": "markdown",
   "id": "25e74855",
   "metadata": {},
   "source": [
    "### Q2. WAP to display '' Hello'' if a number entered by the user is a multiple of 5 otherwise print \"Bye\" "
   ]
  },
  {
   "cell_type": "code",
   "execution_count": 3,
   "id": "424b4ec0",
   "metadata": {},
   "outputs": [
    {
     "name": "stdout",
     "output_type": "stream",
     "text": [
      "Enter a number:6\n",
      "Bye\n"
     ]
    }
   ],
   "source": [
    "number = int(input(\"Enter a number:\"))\n",
    "if number % 5 == 0:\n",
    "    print(\"Hello\")\n",
    "else:\n",
    "    print(\"Bye\")"
   ]
  },
  {
   "cell_type": "markdown",
   "id": "c5cb3b06",
   "metadata": {},
   "source": [
    "### Q3. WAP to check whether a person is eligible for voting or not."
   ]
  },
  {
   "cell_type": "code",
   "execution_count": 6,
   "id": "a56c78cc",
   "metadata": {},
   "outputs": [
    {
     "name": "stdout",
     "output_type": "stream",
     "text": [
      "Enter your age that is in your citizenship card:12\n",
      " Sorry! You are not eligible for voting\n"
     ]
    }
   ],
   "source": [
    "voter = int(input(\"Enter your age that is in your citizenship card:\"))\n",
    "if voter >= 18:\n",
    "    print(\"Congratulation! You are eligible for voting \")\n",
    "else:\n",
    "    print(\" Sorry! You are not eligible for voting\")\n",
    "    "
   ]
  },
  {
   "cell_type": "markdown",
   "id": "10f88804",
   "metadata": {},
   "source": [
    "### Q4. WAP to check last digit of a number enter by user is divisible by 3 or not"
   ]
  },
  {
   "cell_type": "code",
   "execution_count": 5,
   "id": "c92c11a2",
   "metadata": {},
   "outputs": [
    {
     "name": "stdout",
     "output_type": "stream",
     "text": [
      "Enter the required number 139\n",
      "The last digit is divisible by 3\n"
     ]
    }
   ],
   "source": [
    "number = int(input(\"Enter the required number \"))\n",
    "last_digit = int(repr(number)[-1])\n",
    "if last_digit % 3 == 0:\n",
    "    print(\"The last digit is divisible by 3\")\n",
    "else:\n",
    "    print(\"The last digit is not divisible by 3\")\n",
    "    "
   ]
  },
  {
   "cell_type": "markdown",
   "id": "87a5d9b5",
   "metadata": {},
   "source": [
    "### Start python interpreter and use it as a calculator\n",
    "* How many seconds are there in 42 minutes and 42 seconds?\n",
    "* How many miles are there in 10 km? 1 mile = 1.609 km\n",
    "* If you run a 10 km race in 42 min 42sec then what is your avg speed? speed = miles in min and miles in seconds"
   ]
  },
  {
   "cell_type": "code",
   "execution_count": 10,
   "id": "9727677a",
   "metadata": {},
   "outputs": [
    {
     "name": "stdout",
     "output_type": "stream",
     "text": [
      "Enter the required minutes: 42\n",
      "Enter seconds: 42\n",
      "The total seconds = 2562\n"
     ]
    }
   ],
   "source": [
    "minutes = int(input(\"Enter the required minutes: \"))\n",
    "seconds = int(input(\"Enter seconds: \"))\n",
    "final_seconds = minutes * 60 + seconds\n",
    "print( f\"The total seconds = {final_seconds}\")\n"
   ]
  },
  {
   "cell_type": "code",
   "execution_count": 9,
   "id": "8e482e66",
   "metadata": {},
   "outputs": [
    {
     "name": "stdout",
     "output_type": "stream",
     "text": [
      "Enter kilometer: 10\n",
      "There are 6.215040397762586 miles in 10 km.\n"
     ]
    }
   ],
   "source": [
    "km = int(input(\"Enter kilometer: \"))\n",
    "miles = km / 1.609\n",
    "print( f\"There are {miles} miles in {km} km.\")"
   ]
  },
  {
   "cell_type": "code",
   "execution_count": 13,
   "id": "d805f44a",
   "metadata": {},
   "outputs": [
    {
     "name": "stdout",
     "output_type": "stream",
     "text": [
      "speed per minutes = 0.1479771523276806\n",
      "speed per seconds = 0.0024258549561914852\n"
     ]
    }
   ],
   "source": [
    "speed_per_minutes = miles / minutes\n",
    "speed_per_seconds = miles / final_seconds\n",
    "print( f\"speed per minutes = {speed_per_minutes}\")\n",
    "print( f\"speed per seconds = {speed_per_seconds}\")"
   ]
  },
  {
   "cell_type": "markdown",
   "id": "3a1ad7e0",
   "metadata": {},
   "source": [
    "### Q5. The volume of a sphere with radius r is 4/3pie.r^3. Then what is the volume of a sphere whose redius is 5?\n"
   ]
  },
  {
   "cell_type": "code",
   "execution_count": 5,
   "id": "dd01ab09",
   "metadata": {},
   "outputs": [
    {
     "name": "stdout",
     "output_type": "stream",
     "text": [
      "Enter the radius of sphere5\n",
      "The volume of sphere is 523.3333333333334\n"
     ]
    }
   ],
   "source": [
    "r = int(input(\"Enter the radius of sphere\"))\n",
    "PI = 3.14\n",
    "volume = 4/3 * PI * r**3\n",
    "print( f\"The volume of sphere is {volume}\")"
   ]
  },
  {
   "cell_type": "markdown",
   "id": "25d52eac",
   "metadata": {},
   "source": [
    "### check the last digit of a number."
   ]
  },
  {
   "cell_type": "code",
   "execution_count": 9,
   "id": "a0ef71df",
   "metadata": {},
   "outputs": [
    {
     "name": "stdout",
     "output_type": "stream",
     "text": [
      "enter a number1234\n",
      "4\n"
     ]
    }
   ],
   "source": [
    "num = int(input(\"enter a number\"))\n",
    "last_digit = num % 10\n",
    "\n",
    "print(last_digit)\n"
   ]
  },
  {
   "cell_type": "markdown",
   "id": "031ee375",
   "metadata": {},
   "source": [
    "# Q6. WAP to count vowel and consonants on the given string"
   ]
  },
  {
   "cell_type": "code",
   "execution_count": null,
   "id": "06be0681",
   "metadata": {},
   "outputs": [],
   "source": [
    "s = input(\"Enter any word or sentences: \")\n",
    "vowel_count = 0\n",
    "consonent_count = 0\n",
    "for index in range(len(s)):\n",
    "    letter = s[index]\n",
    "    if letter == 'a' or letter == 'e' or letter == 'i' or letter == 'o' or letter == 'u':\n",
    "        vowel_count = vowel_count + 1\n",
    "    elif letter == \" \":\n",
    "        continue\n",
    "    else:\n",
    "        consonent_count = consonent_count + 1\n",
    "\n",
    "print(\"Total vowel count: \", vowel_count)\n",
    "print(\"Total consonent count: \", consonent_count)\n"
   ]
  },
  {
   "cell_type": "markdown",
   "id": "76afb97d",
   "metadata": {},
   "source": [
    "# Q7. Using string malupation technique extract fruits name from text"
   ]
  },
  {
   "cell_type": "code",
   "execution_count": 52,
   "id": "e0b8609c",
   "metadata": {},
   "outputs": [],
   "source": [
    "txt = \"I like Orange Apple Banana and Kiwi.\"\n",
    "txt = txt.lower()"
   ]
  },
  {
   "cell_type": "code",
   "execution_count": 53,
   "id": "d135be6a",
   "metadata": {},
   "outputs": [
    {
     "data": {
      "text/plain": [
       "'i like orange apple banana and kiwi.'"
      ]
     },
     "execution_count": 53,
     "metadata": {},
     "output_type": "execute_result"
    }
   ],
   "source": [
    "txt"
   ]
  },
  {
   "cell_type": "code",
   "execution_count": 54,
   "id": "29ebd00d",
   "metadata": {},
   "outputs": [],
   "source": [
    "txt = txt.replace(\"i like\", \" \")"
   ]
  },
  {
   "cell_type": "code",
   "execution_count": 55,
   "id": "bb774164",
   "metadata": {},
   "outputs": [
    {
     "data": {
      "text/plain": [
       "'  orange apple banana and kiwi.'"
      ]
     },
     "execution_count": 55,
     "metadata": {},
     "output_type": "execute_result"
    }
   ],
   "source": [
    "txt "
   ]
  },
  {
   "cell_type": "markdown",
   "id": "ef3989f0",
   "metadata": {},
   "source": [
    "# Q8. WAP to check if string2 is the rotation of string1 or not"
   ]
  },
  {
   "cell_type": "code",
   "execution_count": 41,
   "id": "2a75d0f3",
   "metadata": {},
   "outputs": [
    {
     "ename": "SyntaxError",
     "evalue": "invalid syntax (54832677.py, line 5)",
     "output_type": "error",
     "traceback": [
      "\u001b[1;36m  Cell \u001b[1;32mIn[41], line 5\u001b[1;36m\u001b[0m\n\u001b[1;33m    if string1[index] = len(string1)-1:\u001b[0m\n\u001b[1;37m                      ^\u001b[0m\n\u001b[1;31mSyntaxError\u001b[0m\u001b[1;31m:\u001b[0m invalid syntax\n"
     ]
    }
   ],
   "source": [
    "string1 = penhengain\n",
    "string2 = gainpenhen\n",
    "for index in range(len(string1)):\n",
    "    letter = string1[index]\n",
    "    if string1[index] = len(string1)-1:\n",
    "        print(\"the two string are in rotation\")\n",
    "    "
   ]
  },
  {
   "cell_type": "code",
   "execution_count": 42,
   "id": "280947a3",
   "metadata": {},
   "outputs": [
    {
     "name": "stdout",
     "output_type": "stream",
     "text": [
      "abcd\n",
      "bacd\n",
      "Valid Rotation\n"
     ]
    }
   ],
   "source": [
    "string1 = input()\n",
    "string2 = input()\n",
    "if len(string1)!= len(string2):\n",
    "  print('Invalid rotation')\n",
    "else:\n",
    "  newstrn = string1+string2\n",
    "  if string2 in newstrn:\n",
    "    print('Valid Rotation')\n",
    "  else:\n",
    "    print('Invalid Rotation')\n",
    "\n"
   ]
  },
  {
   "cell_type": "markdown",
   "id": "4a3049ca",
   "metadata": {},
   "source": [
    "# Q9 write a program to find the square number between 1 to 15"
   ]
  },
  {
   "cell_type": "code",
   "execution_count": 9,
   "id": "d07354d9",
   "metadata": {},
   "outputs": [
    {
     "name": "stdout",
     "output_type": "stream",
     "text": [
      "1\n",
      "4\n",
      "9\n",
      "16\n",
      "25\n",
      "36\n",
      "49\n",
      "64\n",
      "81\n",
      "100\n",
      "121\n",
      "144\n",
      "169\n",
      "196\n"
     ]
    }
   ],
   "source": [
    "for numbers in range(1,15):\n",
    "    num = numbers**2\n",
    "    print(num)"
   ]
  },
  {
   "cell_type": "markdown",
   "id": "b3ac3ce2",
   "metadata": {},
   "source": [
    "# Q10. write a program to find cube of a number between 1 to 15 "
   ]
  },
  {
   "cell_type": "code",
   "execution_count": 20,
   "id": "160ad5eb",
   "metadata": {},
   "outputs": [
    {
     "name": "stdout",
     "output_type": "stream",
     "text": [
      "1\n",
      "8\n",
      "27\n",
      "64\n",
      "125\n",
      "216\n",
      "343\n",
      "512\n",
      "729\n",
      "1000\n",
      "1331\n",
      "1728\n",
      "2197\n",
      "2744\n"
     ]
    }
   ],
   "source": [
    "for numbers in range(1,15):\n",
    "    num = numbers**3\n",
    "    print(num)"
   ]
  },
  {
   "cell_type": "markdown",
   "id": "7b584008",
   "metadata": {},
   "source": [
    "# Q11. write a program to store lower case value of given list "
   ]
  },
  {
   "cell_type": "code",
   "execution_count": 1,
   "id": "a88d9664",
   "metadata": {},
   "outputs": [],
   "source": [
    "fruits = [\"APPLE\", \"BANANA\", \"MANGO\", \"ORANGE\"]"
   ]
  },
  {
   "cell_type": "code",
   "execution_count": 2,
   "id": "a94465af",
   "metadata": {},
   "outputs": [
    {
     "name": "stdout",
     "output_type": "stream",
     "text": [
      "['apple', 'banana', 'mango', 'orange']\n"
     ]
    }
   ],
   "source": [
    "for i in range(len(fruits)):\n",
    "    fruits[i] = fruits[i].lower()\n",
    "print(fruits)"
   ]
  },
  {
   "cell_type": "markdown",
   "id": "875872db",
   "metadata": {},
   "source": [
    "# Q.12 write a function to check if the given input number is prime or not if prime return True else return false"
   ]
  },
  {
   "cell_type": "code",
   "execution_count": 24,
   "id": "4f76a8a9",
   "metadata": {},
   "outputs": [],
   "source": [
    "def is_prime(n):\n",
    "  for i in range(2,n):\n",
    "    if (n%i) == 0:\n",
    "      return False\n",
    "  return True"
   ]
  },
  {
   "cell_type": "code",
   "execution_count": 55,
   "id": "09c9a5a0",
   "metadata": {},
   "outputs": [],
   "source": [
    "is_prime(n = 2)"
   ]
  },
  {
   "cell_type": "code",
   "execution_count": 50,
   "id": "dc87ee18",
   "metadata": {},
   "outputs": [
    {
     "data": {
      "text/plain": [
       "False"
      ]
     },
     "execution_count": 50,
     "metadata": {},
     "output_type": "execute_result"
    }
   ],
   "source": [
    "is_prime(n=6)"
   ]
  },
  {
   "cell_type": "code",
   "execution_count": 3,
   "id": "b31eec23",
   "metadata": {},
   "outputs": [],
   "source": [
    "def is_prime(n):\n",
    "    if n == 1 or n == 2:\n",
    "        return True\n",
    "    else:\n",
    "        for i in range(2, n):\n",
    "            if n%i == 0:\n",
    "                return False\n",
    "                \n",
    "            else:\n",
    "                return True \n",
    "    "
   ]
  },
  {
   "cell_type": "code",
   "execution_count": 4,
   "id": "4f153322",
   "metadata": {},
   "outputs": [
    {
     "data": {
      "text/plain": [
       "True"
      ]
     },
     "execution_count": 4,
     "metadata": {},
     "output_type": "execute_result"
    }
   ],
   "source": [
    "is_prime(n=2)"
   ]
  },
  {
   "cell_type": "markdown",
   "id": "d86eb9f9",
   "metadata": {},
   "source": [
    "# Q.13 Write a python function to calculate the factorial of a non negative integer"
   ]
  },
  {
   "cell_type": "code",
   "execution_count": 8,
   "id": "499841c1",
   "metadata": {},
   "outputs": [],
   "source": [
    "def factorial(n):\n",
    "    fact = 1\n",
    "    \n",
    "    if n == 1 or n == 0:\n",
    "        return( f\"factorial of {n} is {fact}\")\n",
    "    else:\n",
    "        for i in range(1, n + 1 ):\n",
    "            fact = fact * i\n",
    "        return( f\"factorial of {n} is {fact}\")"
   ]
  },
  {
   "cell_type": "code",
   "execution_count": 9,
   "id": "53e07337",
   "metadata": {},
   "outputs": [
    {
     "data": {
      "text/plain": [
       "'factorial of 4 is 24'"
      ]
     },
     "execution_count": 9,
     "metadata": {},
     "output_type": "execute_result"
    }
   ],
   "source": [
    "factorial(4)"
   ]
  },
  {
   "cell_type": "code",
   "execution_count": 10,
   "id": "e4406c68",
   "metadata": {},
   "outputs": [
    {
     "data": {
      "text/plain": [
       "'factorial of 3 is 6'"
      ]
     },
     "execution_count": 10,
     "metadata": {},
     "output_type": "execute_result"
    }
   ],
   "source": [
    "factorial(n=3)"
   ]
  },
  {
   "cell_type": "code",
   "execution_count": 11,
   "id": "49b30703",
   "metadata": {},
   "outputs": [
    {
     "data": {
      "text/plain": [
       "'factorial of 2 is 2'"
      ]
     },
     "execution_count": 11,
     "metadata": {},
     "output_type": "execute_result"
    }
   ],
   "source": [
    "factorial(2)"
   ]
  },
  {
   "cell_type": "code",
   "execution_count": 12,
   "id": "9714ad50",
   "metadata": {},
   "outputs": [
    {
     "data": {
      "text/plain": [
       "'factorial of 5 is 120'"
      ]
     },
     "execution_count": 12,
     "metadata": {},
     "output_type": "execute_result"
    }
   ],
   "source": [
    "factorial(5)"
   ]
  },
  {
   "cell_type": "code",
   "execution_count": 13,
   "id": "7c3134ca",
   "metadata": {},
   "outputs": [
    {
     "data": {
      "text/plain": [
       "'factorial of 0 is 1'"
      ]
     },
     "execution_count": 13,
     "metadata": {},
     "output_type": "execute_result"
    }
   ],
   "source": [
    "factorial(0)"
   ]
  },
  {
   "cell_type": "code",
   "execution_count": 14,
   "id": "8219179f",
   "metadata": {},
   "outputs": [
    {
     "data": {
      "text/plain": [
       "'factorial of 6 is 720'"
      ]
     },
     "execution_count": 14,
     "metadata": {},
     "output_type": "execute_result"
    }
   ],
   "source": [
    "factorial(6)at takes list and returns a new list with unique elements of the first list¶"
   ]
  },
  {
   "cell_type": "markdown",
   "id": "33ea2028",
   "metadata": {},
   "source": [
    "# Q14. write a python function that takes list and returns a new list with unique elements of the first list"
   ]
  },
  {
   "cell_type": "code",
   "execution_count": 106,
   "id": "2825c900",
   "metadata": {},
   "outputs": [],
   "source": [
    "def unique_list(l):\n",
    "    new_list = []\n",
    "    for items in l:\n",
    "        if items not in new_list:\n",
    "            new_list.append(items)\n",
    "    return new_list"
   ]
  },
  {
   "cell_type": "code",
   "execution_count": 107,
   "id": "68588d66",
   "metadata": {},
   "outputs": [
    {
     "data": {
      "text/plain": [
       "[1, 3, 4]"
      ]
     },
     "execution_count": 107,
     "metadata": {},
     "output_type": "execute_result"
    }
   ],
   "source": [
    "unique_list([1, 1, 1, 3, 3, 3, 3, 4])"
   ]
  },
  {
   "cell_type": "code",
   "execution_count": 108,
   "id": "37e88f4a",
   "metadata": {},
   "outputs": [
    {
     "data": {
      "text/plain": [
       "[1, 22, 3, 33, 39, 4444444]"
      ]
     },
     "execution_count": 108,
     "metadata": {},
     "output_type": "execute_result"
    }
   ],
   "source": [
    "unique_list([1,22,3,33,3,33,39,4444444])"
   ]
  },
  {
   "cell_type": "markdown",
   "id": "01cd3449",
   "metadata": {},
   "source": [
    "# Q.15 write a python function that accepts a string and calculate the number of uppercase letters and lower case letters."
   ]
  },
  {
   "cell_type": "code",
   "execution_count": 19,
   "id": "dbd4549a",
   "metadata": {},
   "outputs": [],
   "source": [
    "def string_count(s):\n",
    "    upper_case, lower_case = 0, 0\n",
    "    for i in range(len(s)):\n",
    "        if s[i].isupper():\n",
    "            upper_case = upper_case + 1\n",
    "        \n",
    "        else:\n",
    "            s[i].islower()\n",
    "            lower_case = lower_case + 1\n",
    "    return( f\"The number of lowercase letter is {lower_case}\")\n",
    "    return( f\"The number of uppercase letter is {upper_case}\")"
   ]
  },
  {
   "cell_type": "code",
   "execution_count": 20,
   "id": "94ae1910",
   "metadata": {},
   "outputs": [
    {
     "data": {
      "text/plain": [
       "'The number of lowercase letter is 7'"
      ]
     },
     "execution_count": 20,
     "metadata": {},
     "output_type": "execute_result"
    }
   ],
   "source": [
    "string_count('sssss  SSSSS')"
   ]
  },
  {
   "cell_type": "code",
   "execution_count": 5,
   "id": "34074b6b",
   "metadata": {},
   "outputs": [],
   "source": [
    "def count(s):\n",
    "    lower=0\n",
    "    upper=0\n",
    "    for i in s:\n",
    "        if i.islower():\n",
    "            lower = lower + 1\n",
    "        \n",
    "        elif i == \" \":\n",
    "            continue\n",
    "        elif i.isupper():\n",
    "            upper = upper + 1\n",
    "        else:\n",
    "            pass\n",
    "    return( f\"The number of uppercase characters is {upper}\")\n",
    "    return( f\"The number of lowercase characters is {lower}\")"
   ]
  },
  {
   "cell_type": "code",
   "execution_count": 6,
   "id": "d4db2108",
   "metadata": {},
   "outputs": [
    {
     "data": {
      "text/plain": [
       "'The number of uppercase characters is 5'"
      ]
     },
     "execution_count": 6,
     "metadata": {},
     "output_type": "execute_result"
    }
   ],
   "source": [
    "count('sssss  SSSSS')"
   ]
  },
  {
   "cell_type": "markdown",
   "id": "5f87e9ab",
   "metadata": {},
   "source": [
    "# Q.16 write a python program that accepts a hyphen separated sequence of words as input and print the words in a\n",
    "# hyphen-seperated sequence after sorting them alphabetically.\n",
    "   * sample items : green-red-yellow-black-white\n",
    "   * expected result : black-green-red-white-yellow "
   ]
  },
  {
   "cell_type": "code",
   "execution_count": 21,
   "id": "03221987",
   "metadata": {},
   "outputs": [],
   "source": [
    "text = 'green-red-yellow-black-white'"
   ]
  },
  {
   "cell_type": "code",
   "execution_count": 23,
   "id": "39a2aabf",
   "metadata": {},
   "outputs": [],
   "source": [
    "words = text.split(\"-\")"
   ]
  },
  {
   "cell_type": "code",
   "execution_count": 24,
   "id": "9f4cd4ec",
   "metadata": {},
   "outputs": [],
   "source": [
    "words.sort()"
   ]
  },
  {
   "cell_type": "code",
   "execution_count": 25,
   "id": "2872fd97",
   "metadata": {},
   "outputs": [
    {
     "data": {
      "text/plain": [
       "['black', 'green', 'red', 'white', 'yellow']"
      ]
     },
     "execution_count": 25,
     "metadata": {},
     "output_type": "execute_result"
    }
   ],
   "source": [
    "words"
   ]
  },
  {
   "cell_type": "code",
   "execution_count": 26,
   "id": "9f1ad805",
   "metadata": {},
   "outputs": [
    {
     "data": {
      "text/plain": [
       "'black-green-red-white-yellow'"
      ]
     },
     "execution_count": 26,
     "metadata": {},
     "output_type": "execute_result"
    }
   ],
   "source": [
    "\"-\".join(words)"
   ]
  },
  {
   "cell_type": "code",
   "execution_count": 27,
   "id": "1e40d38f",
   "metadata": {},
   "outputs": [],
   "source": [
    "def sort_text(text):\n",
    "    words = text.split(\"-\")\n",
    "    words.sort()\n",
    "    return \"-\".join(words)"
   ]
  },
  {
   "cell_type": "code",
   "execution_count": 29,
   "id": "4d1130e9",
   "metadata": {},
   "outputs": [
    {
     "data": {
      "text/plain": [
       "'black-green-red-white-yellow'"
      ]
     },
     "execution_count": 29,
     "metadata": {},
     "output_type": "execute_result"
    }
   ],
   "source": [
    "sort_text('green-red-yellow-black-white')"
   ]
  },
  {
   "cell_type": "markdown",
   "id": "23360a18",
   "metadata": {},
   "source": [
    "# Q.17 Calculator\n",
    "* Any no of input can be added\n",
    "* Two numbers can be subtracted\n",
    "* Calculates means of any number of input\n",
    "* Squares the given number\n",
    "* Identifies if the given number is odd or even"
   ]
  },
  {
   "cell_type": "code",
   "execution_count": 4,
   "id": "8e3e0923",
   "metadata": {},
   "outputs": [],
   "source": [
    "def add(*args):\n",
    "    total = 0\n",
    "    for item in args:\n",
    "        total = total +item\n",
    "    return total"
   ]
  },
  {
   "cell_type": "code",
   "execution_count": 6,
   "id": "ece47448",
   "metadata": {},
   "outputs": [
    {
     "data": {
      "text/plain": [
       "6"
      ]
     },
     "execution_count": 6,
     "metadata": {},
     "output_type": "execute_result"
    }
   ],
   "source": [
    "add(1,2,3)"
   ]
  },
  {
   "cell_type": "code",
   "execution_count": 7,
   "id": "f6166865",
   "metadata": {},
   "outputs": [],
   "source": [
    "def sub(a, b):\n",
    "    subtraction = a - b\n",
    "    return subtraction"
   ]
  },
  {
   "cell_type": "code",
   "execution_count": 8,
   "id": "b6db0a30",
   "metadata": {},
   "outputs": [
    {
     "data": {
      "text/plain": [
       "1"
      ]
     },
     "execution_count": 8,
     "metadata": {},
     "output_type": "execute_result"
    }
   ],
   "source": [
    "sub(3,2)"
   ]
  },
  {
   "cell_type": "code",
   "execution_count": 39,
   "id": "b2bef6ff",
   "metadata": {},
   "outputs": [],
   "source": [
    "def mean(*numbers):\n",
    "    sum_of_numbers = 0\n",
    "    for item in numbers:\n",
    "        sum_of_numbers = item + sum_of_numbers\n",
    "    mean_value = sum_of_numbers / len(numbers)\n",
    "    return mean_value\n",
    "\n",
    "\n",
    "\n",
    "    "
   ]
  },
  {
   "cell_type": "code",
   "execution_count": 40,
   "id": "95159105",
   "metadata": {},
   "outputs": [
    {
     "data": {
      "text/plain": [
       "2.0"
      ]
     },
     "execution_count": 40,
     "metadata": {},
     "output_type": "execute_result"
    }
   ],
   "source": [
    "mean(1,1,2,2,3,3)"
   ]
  },
  {
   "cell_type": "code",
   "execution_count": 24,
   "id": "9f2689fa",
   "metadata": {},
   "outputs": [],
   "source": [
    "def number(n):\n",
    "    if n%2 == 0:\n",
    "        return(\"even\")\n",
    "    else:\n",
    "        return(\"odd\")"
   ]
  },
  {
   "cell_type": "code",
   "execution_count": 25,
   "id": "1f91880c",
   "metadata": {},
   "outputs": [
    {
     "data": {
      "text/plain": [
       "'odd'"
      ]
     },
     "execution_count": 25,
     "metadata": {},
     "output_type": "execute_result"
    }
   ],
   "source": [
    "number(3)"
   ]
  },
  {
   "cell_type": "code",
   "execution_count": 45,
   "id": "1c3f6440",
   "metadata": {},
   "outputs": [],
   "source": [
    "def add(*args):\n",
    "    total = 0\n",
    "    for item in args:\n",
    "        total = total +item\n",
    "    return total\n",
    "def sub(a, b):\n",
    "    subtraction = a - b\n",
    "    return subtraction\n",
    "def mean(*numbers):\n",
    "    sum_of_numbers = 0\n",
    "    for item in numbers:\n",
    "        sum_of_numbers = item + sum_of_numbers\n",
    "    mean_value = sum_of_numbers / len(numbers)\n",
    "    return mean_value\n",
    "def number(n):\n",
    "    if n%2 == 0:\n",
    "        return(\"even\")\n",
    "    else:\n",
    "        return(\"odd\")"
   ]
  },
  {
   "cell_type": "code",
   "execution_count": 46,
   "id": "3412b4cc",
   "metadata": {},
   "outputs": [
    {
     "data": {
      "text/plain": [
       "(10, 1)"
      ]
     },
     "execution_count": 46,
     "metadata": {},
     "output_type": "execute_result"
    }
   ],
   "source": [
    "add(1,2,3,4), sub(3,2)"
   ]
  },
  {
   "cell_type": "code",
   "execution_count": 44,
   "id": "4c3fe07a",
   "metadata": {},
   "outputs": [
    {
     "data": {
      "text/plain": [
       "1"
      ]
     },
     "execution_count": 44,
     "metadata": {},
     "output_type": "execute_result"
    }
   ],
   "source": [
    "sub(3,2)"
   ]
  },
  {
   "cell_type": "code",
   "execution_count": 49,
   "id": "3c310b5d",
   "metadata": {},
   "outputs": [],
   "source": [
    "def sq(*n):\n",
    "    for item in n:\n",
    "        square = item ** 2\n",
    "        print (square)"
   ]
  },
  {
   "cell_type": "code",
   "execution_count": 50,
   "id": "f8e6cc3b",
   "metadata": {},
   "outputs": [
    {
     "name": "stdout",
     "output_type": "stream",
     "text": [
      "4\n",
      "9\n",
      "16\n"
     ]
    }
   ],
   "source": [
    "sq(2,3,4)"
   ]
  },
  {
   "cell_type": "code",
   "execution_count": null,
   "id": "bcbf55b9",
   "metadata": {},
   "outputs": [],
   "source": []
  }
 ],
 "metadata": {
  "kernelspec": {
   "display_name": "Python 3 (ipykernel)",
   "language": "python",
   "name": "python3"
  },
  "language_info": {
   "codemirror_mode": {
    "name": "ipython",
    "version": 3
   },
   "file_extension": ".py",
   "mimetype": "text/x-python",
   "name": "python",
   "nbconvert_exporter": "python",
   "pygments_lexer": "ipython3",
   "version": "3.8.10"
  }
 },
 "nbformat": 4,
 "nbformat_minor": 5
}
